{
 "cells": [
  {
   "cell_type": "code",
   "execution_count": 1,
   "metadata": {},
   "outputs": [],
   "source": [
    "import pymongo\n",
    "myclient = pymongo.MongoClient(\"mongodb://localhost:27017/\")\n",
    "mlDB = myclient[\"mlDB\"]"
   ]
  },
  {
   "cell_type": "code",
   "execution_count": 2,
   "metadata": {},
   "outputs": [],
   "source": [
    "testCol = mlDB[\"testCol\"]"
   ]
  },
  {
   "cell_type": "code",
   "execution_count": 10,
   "metadata": {},
   "outputs": [],
   "source": [
    "test1 = {\"name\":\"hihi\",\"description\":\"this is a test\",\"beta\" : 0.2,\"result\" :2}\n",
    "test2 = {\"name\":\"hihi\",\"description\":\"this is a test\",\"labels\" :{\"beta\" : 0.2,\"h\" :0.5,\"J\" : 0.5},\"result\" :2}"
   ]
  },
  {
   "cell_type": "code",
   "execution_count": 5,
   "metadata": {},
   "outputs": [
    {
     "data": {
      "text/plain": [
       "<pymongo.results.InsertOneResult at 0x105c62280>"
      ]
     },
     "execution_count": 5,
     "metadata": {},
     "output_type": "execute_result"
    }
   ],
   "source": [
    "testCol.insert_one(test1)"
   ]
  },
  {
   "cell_type": "code",
   "execution_count": 11,
   "metadata": {},
   "outputs": [
    {
     "data": {
      "text/plain": [
       "<pymongo.results.InsertOneResult at 0x1079b4c40>"
      ]
     },
     "execution_count": 11,
     "metadata": {},
     "output_type": "execute_result"
    }
   ],
   "source": [
    "testCol.insert_one(test2)"
   ]
  },
  {
   "cell_type": "code",
   "execution_count": 12,
   "metadata": {},
   "outputs": [
    {
     "name": "stdout",
     "output_type": "stream",
     "text": [
      "{'_id': ObjectId('62400e8de4e43a922440c7d0'), 'name': 'hihi', 'description': 'this is a test', 'beta': 0.2, 'result': 2}\n",
      "{'_id': ObjectId('62401003e4e43a922440c7d1'), 'name': 'hihi', 'description': 'this is a test', 'labels': {'beta': 0.2, 'h': 0.5, 'J': 0.5}, 'result': 2}\n"
     ]
    }
   ],
   "source": [
    "for row in testCol.find():\n",
    "    print(row)"
   ]
  },
  {
   "cell_type": "code",
   "execution_count": null,
   "metadata": {},
   "outputs": [],
   "source": []
  }
 ],
 "metadata": {
  "interpreter": {
   "hash": "be296274388fc6a39d7d5c375e94b0881815faaa5a1dd49e08d8c63c595f251c"
  },
  "kernelspec": {
   "display_name": "Python 3.10.2 ('qi')",
   "language": "python",
   "name": "python3"
  },
  "language_info": {
   "codemirror_mode": {
    "name": "ipython",
    "version": 3
   },
   "file_extension": ".py",
   "mimetype": "text/x-python",
   "name": "python",
   "nbconvert_exporter": "python",
   "pygments_lexer": "ipython3",
   "version": "3.10.2"
  },
  "orig_nbformat": 4
 },
 "nbformat": 4,
 "nbformat_minor": 2
}
