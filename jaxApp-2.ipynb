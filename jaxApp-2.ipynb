{
  "nbformat": 4,
  "nbformat_minor": 0,
  "metadata": {
    "colab": {
      "name": "jaxApp.ipynb",
      "provenance": [],
      "collapsed_sections": []
    },
    "kernelspec": {
      "display_name": "Python 3",
      "name": "python3"
    },
    "language_info": {
      "name": "python"
    }
  },
  "cells": [
    {
      "cell_type": "code",
      "metadata": {
        "id": "WN5PDoJ613Le"
      },
      "source": [
        "import jax.numpy as jnp\n",
        "from jax import grad, jit, vmap, ops\n",
        "from jax import random\n",
        "from math import frexp\n",
        "import numpy as np\n",
        "import jax\n",
        "from jax.scipy.linalg import expm\n",
        "from jax.scipy import linalg\n"
      ],
      "execution_count": 1,
      "outputs": []
    },
    {
      "cell_type": "markdown",
      "metadata": {
        "id": "DpMtsMPjFzeH"
      },
      "source": [
        "From cosine lattice Hamiltonian:\n",
        "$$\n",
        "H(x)=-\\frac{\\hbar^{2}}{2 M} \\frac{\\mathrm{d}^{2}}{\\mathrm{~d} x^{2}}+\\frac{V_{0}}{2} \\cos \\left(2 k_{\\mathrm{L}} x\\right)\n",
        "$$\n",
        "We can use dimensionless coordinate $\n",
        "z=k_{\\mathrm{L}} x\n",
        "$, and the energy scale for the problem $E_{\\mathrm{R}}=\\frac{\\hbar^{2} k_{\\mathrm{L}}^{2}}{2 M}$. We can rewrite the TISE as\n",
        "$$\n",
        "\\left(\\frac{\\mathrm{d}^{2}}{\\mathrm{~d} z^{2}}+\\frac{E}{E_{\\mathrm{R}}}-2 \\frac{V_{0}}{4 E_{\\mathrm{R}}} \\cos (2 z)\\right) \\varphi(z)=0\n",
        "$$\n",
        "Using Bloch function $\\varphi_{k}(x)=\\mathrm{e}^{\\mathrm{i} k x} u_{k}(x)$ to subsitute in:\n",
        "\n",
        "$$\n",
        "\\left(-\\frac{\\mathrm{d}^{2}}{\\mathrm{~d} z^{2}}+2 \\frac{k}{k_{\\mathrm{L}}} \\frac{1}{\\mathrm{i}} \\frac{\\mathrm{d}}{\\mathrm{d} z}+\\left(\\frac{k}{k_{\\mathrm{L}}}\\right)^{2}+\\frac{V_{0}}{2 E_{\\mathrm{R}}} \\cos (2 z)\\right) u_{k}(z) \n",
        "= \\frac{E(k)}{E_{\\mathrm{R}}} u_{k}(z)\n",
        "$$\n",
        "\n",
        "Here, we modulate the optical lattice by a modulation function $f(t) \\cos (2 z)$. The function here is a positive linear combination of sine waves. Thus, we make it into a time dependent problem.\n",
        "\n",
        "\n",
        "\n"
      ]
    },
    {
      "cell_type": "code",
      "metadata": {
        "id": "sb-ZRsDlw8NM",
        "colab": {
          "base_uri": "https://localhost:8080/"
        },
        "outputId": "90c52bd5-5353-48ff-e999-c30dd6f31692"
      },
      "source": [
        "freq_num = 8\n",
        "max_freq = 200\n",
        "min_freq = 20\n",
        "\n",
        "# input parameter\n",
        "freq = jnp.array([70])\n",
        "lcm = 1/freq \n",
        "A = 3.5\n",
        "alpha = 0.5\n",
        "\n",
        "# tunning parameter\n",
        "numStates=25\n",
        "numSteps=31\n",
        "numBands=5\n",
        "fr=25.18\n",
        "kpoints=500\n",
        "Ttot =  lcm \n",
        "ftot = 1/Ttot\n",
        "symmetry = True\n",
        "if symmetry:\n",
        "    kpoints = kpoints//2\n"
      ],
      "execution_count": 2,
      "outputs": [
        {
          "output_type": "stream",
          "name": "stderr",
          "text": [
            "WARNING:absl:No GPU/TPU found, falling back to CPU. (Set TF_CPP_MIN_LOG_LEVEL=0 and rerun for more info.)\n"
          ]
        }
      ]
    },
    {
      "cell_type": "code",
      "metadata": {
        "id": "9Rz-EXYlB7KO"
      },
      "source": [
        "freq_num = freq.shape[0]\n",
        "dT = (1/max(freq))/numSteps\n",
        "\n",
        "N = int(jnp.ceil(Ttot/dT))\n",
        "\n",
        "tVec = jnp.linspace(0,Ttot,N)\n",
        "dT = tVec[1] - tVec[0]\n",
        "tVec = tVec[:-1]\n",
        "tVec = tVec + dT/2\n",
        "\n",
        "\n",
        "if symmetry:\n",
        "    kvec=jnp.linspace(-1,0,kpoints)\n",
        "else:\n",
        "    kvec=jnp.linspace(-1,1,kpoints)\n",
        "\n",
        "dTau = (2 * jnp.pi * fr) * dT\n",
        "\n",
        "\n",
        "def tridiag(a, b, c, k1=-1, k2=0, k3=1):\n",
        "    return jnp.diag(a, k1) + jnp.diag(b, k2) + jnp.diag(c, k3)\n",
        "\n",
        "\n",
        "\n",
        "C = []\n",
        "for i in range(2,numStates,2):\n",
        "    C = C + [0,i]\n",
        "C = jnp.array(C)\n",
        "D = jnp.zeros(numStates)\n",
        "M1 = tridiag(C,D,-1 * C)\n",
        "\n",
        "E = [0]\n",
        "for i in range(2,numStates,2):\n",
        "    E = E + [(i)**2,(i)**2]\n",
        "M2 = jnp.array(-np.diag(E))\n",
        "\n",
        "\n",
        "F = jnp.concatenate((jnp.array([jnp.sqrt(2)]) , jnp.ones(numStates-3)))\n",
        "M3 = jnp.diag(F,-2) + jnp.diag(F,2)\n",
        "\n",
        "\n"
      ],
      "execution_count": 3,
      "outputs": []
    },
    {
      "cell_type": "markdown",
      "metadata": {
        "id": "B0G-7C-5xSuV"
      },
      "source": [
        "Here, we use the Hilbert spaces of\n",
        "$$\n",
        "\\varphi_{\\mu}(z)= \\begin{cases}\\sqrt{\\frac{2}{\\pi}} \\sin ([\\mu+1] z) & ; \\mu=1,3,5, \\ldots \\\\ \\sqrt{\\frac{2}{\\pi}} \\cos (\\mu z) & ; \\mu=2,4,6, \\ldots .\\end{cases}\n",
        "$$\n",
        "So that the matrix representations are\n",
        "$$\n",
        "-M2 = -\\frac{\\mathrm{d}^{2}}{\\mathrm{~d} z^{2}}=\\left(\\begin{array}{cccccc}\n",
        "0 & & & & & \\\\\n",
        "& 4 & & & & \\\\\n",
        "& & 4 & & & \\\\\n",
        "& & & 16 & & \\\\\n",
        "& & & & 16 & \\\\\n",
        "& & & & & \\ldots\n",
        "\\end{array}\\right)\n",
        "$$\n",
        "$$\n",
        "M1 = \\frac{\\mathrm{d}}{\\mathrm{d} z}=\\left(\\begin{array}{llrlll}\n",
        "0 & & & & & \\\\\n",
        "& 0 & -2 & & & \\\\\n",
        "& 2 & 0 & & & \\\\\n",
        "& & & 0 & -4 & \\\\\n",
        "& & & 4 & 0 & \\\\\n",
        "& & & & & \\ldots\n",
        "\\end{array}\\right)\n",
        "$$\n",
        "$$\n",
        "\\frac{1}{2}M3 = \\cos (2 z)=\\frac{1}{2}\\left(\\begin{array}{ccccccc}\n",
        "0 & 0 & \\sqrt{2} & & & & \\\\\n",
        "0 & 0 & 0 & 1 & & & \\\\\n",
        "\\sqrt{2} & 0 & 0 & 0 & 1 & & \\\\\n",
        "& 1 & 0 & 0 & 0 & 1 \\\\\n",
        "& & 1 & 0 & 0 & 0 \\\\\n",
        "& & & 1 & 0 & 0 \\\\\n",
        "& & & & \\ldots &\n",
        "\\end{array}\\right)\n",
        "$$\n",
        "\n",
        "\n"
      ]
    },
    {
      "cell_type": "code",
      "metadata": {
        "id": "cebg7YKEHUNt"
      },
      "source": [
        "\n",
        "\n",
        "@jax.jit\n",
        "def perKstep(k):\n",
        "    unitary = jnp.identity(M1.shape[0])\n",
        "    for tt in range(tVec.shape[0]):\n",
        "        t = tVec[tt]\n",
        "        unitary = jnp.matmul(unitary,expm(-1j * dTau * createHmat(t,k)))\n",
        "    return unitary\n",
        "\n",
        "@jax.jit\n",
        "def createHmat(t,k):\n",
        "    modfunc = 1 + jnp.sum(alpha * jnp.sin(2 * jnp.pi * freq * t))\n",
        "    newMat = (k**2) * jnp.identity(numStates) - 2* 1j * k * M1 -M2  - (1/4) * M3 * A * modfunc\n",
        "    return newMat\n",
        "\n",
        "def genUni():\n",
        "    kMap = vmap(perKstep)\n",
        "    return kMap(kvec)\n"
      ],
      "execution_count": 4,
      "outputs": []
    },
    {
      "cell_type": "markdown",
      "metadata": {
        "id": "pqhn6q0iQg9E"
      },
      "source": [
        "By the time symmetry assertion of the Floquet picture, we require\n",
        "$$\n",
        "U(t+T, 0)=U(t, 0) U(T, 0)\n",
        "$$\n",
        "We write this one-cyle evolution operator as an exponential in the suggestive form\n",
        "$$\n",
        "U(T, 0)=\\exp (-\\mathrm{i} G T / \\hbar)\n",
        "$$\n",
        "We can also define a unitary transformation\n",
        "$$\n",
        "P(t):=U(t, 0) \\exp (+\\mathrm{i} G t / \\hbar)\n",
        "$$\n",
        "and it can be shown that the transformed wavefunction $|\\psi(t)\\rangle=P(t)|\\tilde{\\psi}(t)\\rangle$ satisifies the \"Schrodinger Equation\",\n",
        "$$\n",
        "\\mathrm{i} \\hbar \\frac{\\mathrm{d}}{\\mathrm{d} t}|\\tilde{\\psi}(t)\\rangle= G|\\tilde{\\psi}(t)\\rangle\n",
        "$$\n",
        "The Floquet band structure can be obtained from the eigenvalue of $G$. \n",
        "$$\n",
        "\\{\\tilde{\\epsilon}(n, k)\\}=\\operatorname{eig}(G(k))\n",
        "$$\n",
        "We can estimate $G$ using $$\n",
        "U(T) \\approx U\\left(t_{1}\\right) U\\left(t_{2}\\right) \\ldots U\\left(t_{N}\\right)\n",
        "$$ for each time step and take log of the eigenvalue of total $U(T)$.\n",
        "\n",
        "\n",
        "\n",
        "\n",
        "\n"
      ]
    },
    {
      "cell_type": "code",
      "metadata": {
        "id": "mGfGeFnTrR4S",
        "colab": {
          "base_uri": "https://localhost:8080/"
        },
        "outputId": "407f629e-3add-4105-e15a-bd2649a22549"
      },
      "source": [
        "res = genUni()\n",
        "\n",
        "# check unitary\n",
        "jnp.sum((res[0,:,:].conj().T - jnp.linalg.pinv(res[0,:,:]))**2)"
      ],
      "execution_count": 5,
      "outputs": [
        {
          "output_type": "execute_result",
          "data": {
            "text/plain": [
              "DeviceArray(9.198246e-11+1.0774279e-11j, dtype=complex64)"
            ]
          },
          "metadata": {},
          "execution_count": 5
        }
      ]
    },
    {
      "cell_type": "code",
      "metadata": {
        "id": "njJ1qSPnf2jY"
      },
      "source": [
        "b,vF =jnp.linalg.eig(jax.device_get(res))\n",
        "Efloquet = jnp.real(1j*jnp.log(b)* (ftot/fr) / (2*np.pi))"
      ],
      "execution_count": 6,
      "outputs": []
    },
    {
      "cell_type": "markdown",
      "metadata": {
        "id": "bKY-smE1PG48"
      },
      "source": [
        "Nonsymmetric eigendecomposition is only implemented on the CPU backend. So we need to transfer it to CPU."
      ]
    },
    {
      "cell_type": "code",
      "metadata": {
        "id": "kR-NkY7Ia1RI"
      },
      "source": [
        "vF.shape"
      ],
      "execution_count": null,
      "outputs": []
    },
    {
      "cell_type": "markdown",
      "metadata": {
        "id": "5IEnfuzIbSgD"
      },
      "source": [
        "To this end, we can select out the desired Floquet state $|\\tilde{\\epsilon}(n, k)\\rangle$ by computing its probability overlap with the unperturbed spectrum $|\\epsilon(n, k)\\rangle$, and only examining those states with large overlap.\n",
        "$$\n",
        "P=|\\langle\\tilde{\\epsilon}(n, k) \\mid \\epsilon(n, k)\\rangle|^{2}\n",
        "$$"
      ]
    },
    {
      "cell_type": "code",
      "metadata": {
        "id": "tk61V2JZZYVZ"
      },
      "source": [
        "@jax.jit\n",
        "def blochStates(k,vF):\n",
        "    H0 =  (k**2) * jnp.identity(numStates) - 2* 1j * k * M1 -M2  - (1/4) * M3 * A \n",
        "    a,vS = jnp.linalg.eigh(H0)\n",
        "    vS = jnp.transpose(vS)\n",
        "    Cvec = jnp.matmul(vS,np.conjugate(vF))\n",
        "    Pvec = jnp.multiply(Cvec,np.conjugate(Cvec))\n",
        "    inds = jnp.argmax(Pvec,axis=1)\n",
        "    Efloquet = Efloquet[inds]\n",
        "    return Efloquet\n",
        "bandsF[ii,:] = Efloquet[:numBands]"
      ],
      "execution_count": 20,
      "outputs": []
    },
    {
      "cell_type": "code",
      "metadata": {
        "colab": {
          "base_uri": "https://localhost:8080/"
        },
        "id": "eVOr6TSPY3r7",
        "outputId": "eaf25278-3561-45d2-82d6-876a780eb620"
      },
      "source": [
        "b[3]"
      ],
      "execution_count": 13,
      "outputs": [
        {
          "output_type": "execute_result",
          "data": {
            "text/plain": [
              "DeviceArray([-0.99861926, -0.95546   , -0.9086233 , -0.90846235,\n",
              "             -0.78469306, -0.7198064 , -0.6858698 , -0.42572007,\n",
              "             -0.3683973 , -0.3523836 , -0.21183324,  0.11748124,\n",
              "              0.20674744,  0.34726062,  0.37204134,  0.40500185,\n",
              "              0.7887063 ,  0.82838786,  0.84535575,  0.91402644,\n",
              "              0.92780864,  0.96221167,  0.96418756,  0.9904101 ,\n",
              "              0.997735  ], dtype=float32)"
            ]
          },
          "metadata": {},
          "execution_count": 13
        }
      ]
    },
    {
      "cell_type": "code",
      "metadata": {
        "colab": {
          "base_uri": "https://localhost:8080/",
          "height": 316
        },
        "id": "K-Y15CYyYBkE",
        "outputId": "c740c217-a60d-4fe2-fc76-09b0ad50fe94"
      },
      "source": [
        "import matplotlib.pyplot as plt\n",
        "plt.plot(test[:,:3])"
      ],
      "execution_count": 21,
      "outputs": [
        {
          "output_type": "execute_result",
          "data": {
            "text/plain": [
              "[<matplotlib.lines.Line2D at 0x7f9b5a2373d0>,\n",
              " <matplotlib.lines.Line2D at 0x7f9b5a20eb50>,\n",
              " <matplotlib.lines.Line2D at 0x7f9b5a20e210>]"
            ]
          },
          "metadata": {},
          "execution_count": 21
        },
        {
          "output_type": "display_data",
          "data": {
            "image/png": "[encoded data removed]",
            "text/plain": [
              "<Figure size 432x288 with 1 Axes>"
            ]
          },
          "metadata": {
            "needs_background": "light"
          }
        }
      ]
    },
    {
      "cell_type": "code",
      "metadata": {
        "colab": {
          "base_uri": "https://localhost:8080/",
          "height": 232
        },
        "id": "KG5l6Aa3Yum_",
        "outputId": "6d14c4a7-67c3-42ac-8d95-3983dc22fa38"
      },
      "source": [
        "Efloquet = np.real(b) \n",
        "\n"
      ],
      "execution_count": null,
      "outputs": [
        {
          "output_type": "error",
          "ename": "NameError",
          "evalue": "ignored",
          "traceback": [
            "\u001b[0;31m---------------------------------------------------------------------------\u001b[0m",
            "\u001b[0;31mNameError\u001b[0m                                 Traceback (most recent call last)",
            "\u001b[0;32m<ipython-input-15-5996a5622b32>\u001b[0m in \u001b[0;36m<module>\u001b[0;34m()\u001b[0m\n\u001b[1;32m      1\u001b[0m \u001b[0mEfloquet\u001b[0m \u001b[0;34m=\u001b[0m \u001b[0mnp\u001b[0m\u001b[0;34m.\u001b[0m\u001b[0mreal\u001b[0m\u001b[0;34m(\u001b[0m\u001b[0mb\u001b[0m\u001b[0;34m)\u001b[0m\u001b[0;34m\u001b[0m\u001b[0;34m\u001b[0m\u001b[0m\n\u001b[1;32m      2\u001b[0m \u001b[0;34m\u001b[0m\u001b[0m\n\u001b[0;32m----> 3\u001b[0;31m \u001b[0mH0\u001b[0m \u001b[0;34m=\u001b[0m  \u001b[0;34m(\u001b[0m\u001b[0mk\u001b[0m\u001b[0;34m**\u001b[0m\u001b[0;36m2\u001b[0m\u001b[0;34m)\u001b[0m \u001b[0;34m*\u001b[0m \u001b[0mnp\u001b[0m\u001b[0;34m.\u001b[0m\u001b[0midentity\u001b[0m\u001b[0;34m(\u001b[0m\u001b[0mnumStates\u001b[0m\u001b[0;34m)\u001b[0m \u001b[0;34m-\u001b[0m \u001b[0;36m2\u001b[0m\u001b[0;34m*\u001b[0m \u001b[0;36m1j\u001b[0m \u001b[0;34m*\u001b[0m \u001b[0mk\u001b[0m \u001b[0;34m*\u001b[0m \u001b[0mM1\u001b[0m \u001b[0;34m-\u001b[0m\u001b[0mM2\u001b[0m  \u001b[0;34m-\u001b[0m \u001b[0;34m(\u001b[0m\u001b[0;36m1\u001b[0m\u001b[0;34m/\u001b[0m\u001b[0;36m4\u001b[0m\u001b[0;34m)\u001b[0m \u001b[0;34m*\u001b[0m \u001b[0mM3\u001b[0m \u001b[0;34m*\u001b[0m \u001b[0mA\u001b[0m\u001b[0;34m\u001b[0m\u001b[0;34m\u001b[0m\u001b[0m\n\u001b[0m\u001b[1;32m      4\u001b[0m \u001b[0ma\u001b[0m\u001b[0;34m,\u001b[0m\u001b[0mvS\u001b[0m \u001b[0;34m=\u001b[0m \u001b[0mnp\u001b[0m\u001b[0;34m.\u001b[0m\u001b[0mlinalg\u001b[0m\u001b[0;34m.\u001b[0m\u001b[0meigh\u001b[0m\u001b[0;34m(\u001b[0m\u001b[0mH0\u001b[0m\u001b[0;34m)\u001b[0m\u001b[0;34m\u001b[0m\u001b[0;34m\u001b[0m\u001b[0m\n\u001b[1;32m      5\u001b[0m \u001b[0mvS\u001b[0m \u001b[0;34m=\u001b[0m \u001b[0mnp\u001b[0m\u001b[0;34m.\u001b[0m\u001b[0mtranspose\u001b[0m\u001b[0;34m(\u001b[0m\u001b[0mvS\u001b[0m\u001b[0;34m)\u001b[0m\u001b[0;34m\u001b[0m\u001b[0;34m\u001b[0m\u001b[0m\n",
            "\u001b[0;31mNameError\u001b[0m: name 'k' is not defined"
          ]
        }
      ]
    },
    {
      "cell_type": "code",
      "metadata": {
        "id": "V_9yiW7FZIYW"
      },
      "source": [
        ""
      ],
      "execution_count": null,
      "outputs": []
    }
  ]
}