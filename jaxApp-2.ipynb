{
 "cells": [
  {
   "cell_type": "code",
   "execution_count": 7,
   "source": [
    "import jax.numpy as jnp\n",
    "from jax import grad, jit, vmap, ops\n",
    "import numpy as np\n",
    "import jax\n",
    "from jax.scipy.linalg import expm\n",
    "import eigAD\n",
    "\n"
   ],
   "outputs": [],
   "metadata": {
    "id": "WN5PDoJ613Le"
   }
  },
  {
   "cell_type": "markdown",
   "source": [
    "From cosine lattice Hamiltonian:\n",
    "$$\n",
    "H(x)=-\\frac{\\hbar^{2}}{2 M} \\frac{\\mathrm{d}^{2}}{\\mathrm{~d} x^{2}}+\\frac{V_{0}}{2} \\cos \\left(2 k_{\\mathrm{L}} x\\right)\n",
    "$$\n",
    "We can use dimensionless coordinate $\n",
    "z=k_{\\mathrm{L}} x\n",
    "$, and the energy scale for the problem $E_{\\mathrm{R}}=\\frac{\\hbar^{2} k_{\\mathrm{L}}^{2}}{2 M}$. We can rewrite the TISE as\n",
    "$$\n",
    "\\left(\\frac{\\mathrm{d}^{2}}{\\mathrm{~d} z^{2}}+\\frac{E}{E_{\\mathrm{R}}}-2 \\frac{V_{0}}{4 E_{\\mathrm{R}}} \\cos (2 z)\\right) \\varphi(z)=0\n",
    "$$\n",
    "Using Bloch function $\\varphi_{k}(x)=\\mathrm{e}^{\\mathrm{i} k x} u_{k}(x)$ to subsitute in:\n",
    "\n",
    "$$\n",
    "\\left(-\\frac{\\mathrm{d}^{2}}{\\mathrm{~d} z^{2}}+2 \\frac{k}{k_{\\mathrm{L}}} \\frac{1}{\\mathrm{i}} \\frac{\\mathrm{d}}{\\mathrm{d} z}+\\left(\\frac{k}{k_{\\mathrm{L}}}\\right)^{2}+\\frac{V_{0}}{2 E_{\\mathrm{R}}} \\cos (2 z)\\right) u_{k}(z) \n",
    "= \\frac{E(k)}{E_{\\mathrm{R}}} u_{k}(z)\n",
    "$$\n",
    "\n",
    "Here, we modulate the optical lattice by a modulation function $f(t) \\cos (2 z)$. The function here is a positive linear combination of sine waves. Thus, we make it into a time dependent problem.\n",
    "\n",
    "\n",
    "\n"
   ],
   "metadata": {
    "id": "DpMtsMPjFzeH"
   }
  },
  {
   "cell_type": "code",
   "execution_count": 2,
   "source": [
    "# input parameter\n",
    "freq = jnp.array([70])\n",
    "lcm = 1/freq \n",
    "A = 3.5\n",
    "alpha = 0.5\n",
    "\n",
    "# tunning parameter\n",
    "numStates=25\n",
    "numSteps=31\n",
    "numBands=5\n",
    "fr=25.18\n",
    "kpoints=500\n",
    "Ttot =  lcm \n",
    "ftot = 1/Ttot\n",
    "symmetry = True\n",
    "if symmetry:\n",
    "    kpoints = kpoints//2\n"
   ],
   "outputs": [],
   "metadata": {
    "colab": {
     "base_uri": "https://localhost:8080/"
    },
    "id": "sb-ZRsDlw8NM",
    "outputId": "90c52bd5-5353-48ff-e999-c30dd6f31692"
   }
  },
  {
   "cell_type": "code",
   "execution_count": 3,
   "source": [
    "freq_num = freq.shape[0]\n",
    "dT = (1/max(freq))/numSteps\n",
    "\n",
    "N = int(jnp.ceil(Ttot/dT))\n",
    "\n",
    "tVec = jnp.linspace(0,Ttot,N)\n",
    "dT = tVec[1] - tVec[0]\n",
    "tVec = tVec[:-1]\n",
    "tVec = tVec + dT/2\n",
    "\n",
    "\n",
    "if symmetry:\n",
    "    kvec=jnp.linspace(-1,0,kpoints)\n",
    "else:\n",
    "    kvec=jnp.linspace(-1,1,kpoints)\n",
    "\n",
    "dTau = (2 * jnp.pi * fr) * dT\n",
    "\n",
    "\n",
    "def tridiag(a, b, c, k1=-1, k2=0, k3=1):\n",
    "    return jnp.diag(a, k1) + jnp.diag(b, k2) + jnp.diag(c, k3)\n",
    "\n",
    "\n",
    "\n",
    "C = []\n",
    "for i in range(2,numStates,2):\n",
    "    C = C + [0,i]\n",
    "C = jnp.array(C)\n",
    "D = jnp.zeros(numStates)\n",
    "M1 = tridiag(C,D,-1 * C)\n",
    "\n",
    "E = [0]\n",
    "for i in range(2,numStates,2):\n",
    "    E = E + [(i)**2,(i)**2]\n",
    "M2 = jnp.array(-np.diag(E))\n",
    "\n",
    "\n",
    "F = jnp.concatenate((jnp.array([jnp.sqrt(2)]) , jnp.ones(numStates-3)))\n",
    "M3 = jnp.diag(F,-2) + jnp.diag(F,2)\n",
    "\n",
    "\n"
   ],
   "outputs": [],
   "metadata": {}
  },
  {
   "cell_type": "markdown",
   "source": [
    "Here, we use the Hilbert spaces of\n",
    "$$\n",
    "\\varphi_{\\mu}(z)= \\begin{cases}\\sqrt{\\frac{2}{\\pi}} \\sin ([\\mu+1] z) & ; \\mu=1,3,5, \\ldots \\\\ \\sqrt{\\frac{2}{\\pi}} \\cos (\\mu z) & ; \\mu=2,4,6, \\ldots .\\end{cases}\n",
    "$$\n",
    "So that the matrix representations are\n",
    "$$\n",
    "-M2 = -\\frac{\\mathrm{d}^{2}}{\\mathrm{~d} z^{2}}=\\left(\\begin{array}{cccccc}\n",
    "0 & & & & & \\\\\n",
    "& 4 & & & & \\\\\n",
    "& & 4 & & & \\\\\n",
    "& & & 16 & & \\\\\n",
    "& & & & 16 & \\\\\n",
    "& & & & & \\ldots\n",
    "\\end{array}\\right)\n",
    "$$\n",
    "$$\n",
    "M1 = \\frac{\\mathrm{d}}{\\mathrm{d} z}=\\left(\\begin{array}{llrlll}\n",
    "0 & & & & & \\\\\n",
    "& 0 & -2 & & & \\\\\n",
    "& 2 & 0 & & & \\\\\n",
    "& & & 0 & -4 & \\\\\n",
    "& & & 4 & 0 & \\\\\n",
    "& & & & & \\ldots\n",
    "\\end{array}\\right)\n",
    "$$\n",
    "$$\n",
    "\\frac{1}{2}M3 = \\cos (2 z)=\\frac{1}{2}\\left(\\begin{array}{ccccccc}\n",
    "0 & 0 & \\sqrt{2} & & & & \\\\\n",
    "0 & 0 & 0 & 1 & & & \\\\\n",
    "\\sqrt{2} & 0 & 0 & 0 & 1 & & \\\\\n",
    "& 1 & 0 & 0 & 0 & 1 \\\\\n",
    "& & 1 & 0 & 0 & 0 \\\\\n",
    "& & & 1 & 0 & 0 \\\\\n",
    "& & & & \\ldots &\n",
    "\\end{array}\\right)\n",
    "$$\n",
    "\n",
    "\n"
   ],
   "metadata": {
    "id": "B0G-7C-5xSuV"
   }
  },
  {
   "cell_type": "code",
   "execution_count": 4,
   "source": [
    "\n",
    "\n",
    "@jax.jit\n",
    "def perKstep(k):\n",
    "    unitary = jnp.identity(M1.shape[0])\n",
    "    for tt in range(tVec.shape[0]):\n",
    "        t = tVec[tt]\n",
    "        unitary = jnp.matmul(unitary,expm(-1j * dTau * createHmat(t,k)))\n",
    "    return unitary\n",
    "\n",
    "@jax.jit\n",
    "def createHmat(t,k):\n",
    "    modfunc = 1 + jnp.sum(alpha * jnp.sin(2 * jnp.pi * freq * t))\n",
    "    newMat = (k**2) * jnp.identity(numStates) - 2* 1j * k * M1 -M2  - (1/4) * M3 * A * modfunc\n",
    "    return newMat\n",
    "\n",
    "def genUni():\n",
    "    kMap = vmap(perKstep)\n",
    "    return kMap(kvec)\n"
   ],
   "outputs": [],
   "metadata": {
    "id": "cebg7YKEHUNt"
   }
  },
  {
   "cell_type": "markdown",
   "source": [
    "By the time symmetry assertion of the Floquet picture, we require\n",
    "$$\n",
    "U(t+T, 0)=U(t, 0) U(T, 0)\n",
    "$$\n",
    "We write this one-cyle evolution operator as an exponential in the suggestive form\n",
    "$$\n",
    "U(T, 0)=\\exp (-\\mathrm{i} G T / \\hbar)\n",
    "$$\n",
    "We can also define a unitary transformation\n",
    "$$\n",
    "P(t):=U(t, 0) \\exp (+\\mathrm{i} G t / \\hbar)\n",
    "$$\n",
    "and it can be shown that the transformed wavefunction $|\\psi(t)\\rangle=P(t)|\\tilde{\\psi}(t)\\rangle$ satisifies the \"Schrodinger Equation\",\n",
    "$$\n",
    "\\mathrm{i} \\hbar \\frac{\\mathrm{d}}{\\mathrm{d} t}|\\tilde{\\psi}(t)\\rangle= G|\\tilde{\\psi}(t)\\rangle\n",
    "$$\n",
    "The Floquet band structure can be obtained from the eigenvalue of $G$. \n",
    "$$\n",
    "\\{\\tilde{\\epsilon}(n, k)\\}=\\operatorname{eig}(G(k))\n",
    "$$\n",
    "We can estimate $G$ using \n",
    "$$\n",
    "U(T) \\approx U\\left(t_{1}\\right) U\\left(t_{2}\\right) \\ldots U\\left(t_{N}\\right)\n",
    "$$ \n",
    "for each time step and take log of the eigenvalue of total $U(T)$.\n",
    "\n",
    "\n",
    "\n",
    "\n",
    "\n"
   ],
   "metadata": {
    "id": "pqhn6q0iQg9E"
   }
  },
  {
   "cell_type": "code",
   "execution_count": 5,
   "source": [
    "res = genUni()\n",
    "# check unitary\n",
    "jnp.sum((res[0,:,:].conj().T - jnp.linalg.pinv(res[0,:,:]))**2)"
   ],
   "outputs": [
    {
     "output_type": "execute_result",
     "data": {
      "text/plain": [
       "DeviceArray(8.222287e-10-4.3320103e-10j, dtype=complex64)"
      ]
     },
     "metadata": {},
     "execution_count": 5
    }
   ],
   "metadata": {
    "colab": {
     "base_uri": "https://localhost:8080/"
    },
    "id": "mGfGeFnTrR4S",
    "outputId": "407f629e-3add-4105-e15a-bd2649a22549"
   }
  },
  {
   "cell_type": "code",
   "execution_count": 8,
   "source": [
    "def eigWrapper(mat):\n",
    "    return eigAD.eig(mat)\n",
    "\n",
    "eig = jax.jit(eigWrapper,backend='cpu')\n",
    "b,vF =eig(res)\n",
    "rawEfloquet = jnp.real(1j*jnp.log(b)* (ftot/fr) / (2*np.pi))"
   ],
   "outputs": [],
   "metadata": {
    "id": "njJ1qSPnf2jY"
   }
  },
  {
   "cell_type": "markdown",
   "source": [
    "Nonsymmetric eigendecomposition is only implemented on the CPU backend. So we need to transfer it to CPU.\n",
    "$$\n",
    "G(k)=i \\frac{1}{2 \\pi} \\frac{\\omega_{R}}{\\omega} \\log (U(T))\n",
    "$$\n",
    "$$\n",
    "\\text{eig}(G(k))=i \\frac{1}{2 \\pi} \\frac{\\omega_{R}}{\\omega}\\log( \\text{eig}(U(T)))\n",
    "$$"
   ],
   "metadata": {
    "id": "bKY-smE1PG48"
   }
  },
  {
   "cell_type": "markdown",
   "source": [
    "To this end, we can select out the desired Floquet state $|\\tilde{\\epsilon}(n, k)\\rangle$ by computing its probability overlap with the unperturbed spectrum $|\\epsilon(n, k)\\rangle$, and only examining those states with large overlap.\n",
    "$$\n",
    "P=|\\langle\\tilde{\\epsilon}(n, k) \\mid \\epsilon(n, k)\\rangle|^{2}\n",
    "$$"
   ],
   "metadata": {
    "id": "5IEnfuzIbSgD"
   }
  },
  {
   "cell_type": "code",
   "execution_count": 9,
   "source": [
    "@jax.jit\n",
    "def blochStates(i):\n",
    "    k = kvec[i]\n",
    "    currF = vF[i,:,:] \n",
    "    H0 =  (k**2) * jnp.identity(numStates) - 2* 1j * k * M1 -M2  - (1/4) * M3 * A \n",
    "    a,vS = jnp.linalg.eigh(H0)\n",
    "    vS = jnp.transpose(vS)\n",
    "    Cvec = jnp.matmul(vS,jnp.conjugate(currF))\n",
    "    Pvec = jnp.multiply(Cvec,jnp.conjugate(Cvec))\n",
    "    inds = jnp.argmax(Pvec,axis=1)\n",
    "    Efloquet = rawEfloquet[i,inds[:numBands]]\n",
    "    return Efloquet\n"
   ],
   "outputs": [],
   "metadata": {
    "id": "tk61V2JZZYVZ"
   }
  },
  {
   "cell_type": "code",
   "execution_count": 10,
   "source": [
    "bandsF = vmap(blochStates)(jnp.arange(250))"
   ],
   "outputs": [],
   "metadata": {
    "colab": {
     "base_uri": "https://localhost:8080/"
    },
    "id": "eVOr6TSPY3r7",
    "outputId": "eaf25278-3561-45d2-82d6-876a780eb620"
   }
  },
  {
   "cell_type": "code",
   "execution_count": 12,
   "source": [
    "mirror = jnp.flip(bandsF,axis=0)\n",
    "bandsF = jnp.concatenate((bandsF,mirror),axis=0)\n",
    "import matplotlib.pyplot as plt\n",
    "plt.plot(bandsF[:,:3])"
   ],
   "outputs": [
    {
     "output_type": "execute_result",
     "data": {
      "text/plain": [
       "[<matplotlib.lines.Line2D at 0x7fdbbd0f0dc0>,\n",
       " <matplotlib.lines.Line2D at 0x7fdbbd0f0d90>,\n",
       " <matplotlib.lines.Line2D at 0x7fdbbd0f0fa0>]"
      ]
     },
     "metadata": {},
     "execution_count": 12
    },
    {
     "output_type": "display_data",
     "data": {
      "image/png": "[encoded data removed]",
      "text/plain": [
       "<Figure size 432x288 with 1 Axes>"
      ]
     },
     "metadata": {
      "needs_background": "light"
     }
    }
   ],
   "metadata": {
    "colab": {
     "base_uri": "https://localhost:8080/",
     "height": 316
    },
    "id": "K-Y15CYyYBkE",
    "outputId": "c740c217-a60d-4fe2-fc76-09b0ad50fe94"
   }
  },
  {
   "cell_type": "code",
   "execution_count": null,
   "source": [],
   "outputs": [],
   "metadata": {
    "id": "V_9yiW7FZIYW"
   }
  }
 ],
 "metadata": {
  "colab": {
   "collapsed_sections": [],
   "name": "jaxApp.ipynb",
   "provenance": []
  },
  "kernelspec": {
   "name": "python3",
   "display_name": "Python 3.9.6 64-bit ('base': conda)"
  },
  "language_info": {
   "codemirror_mode": {
    "name": "ipython",
    "version": 3
   },
   "file_extension": ".py",
   "mimetype": "text/x-python",
   "name": "python",
   "nbconvert_exporter": "python",
   "pygments_lexer": "ipython3",
   "version": "3.9.6"
  },
  "interpreter": {
   "hash": "6d2e4df79d9b8264f4bf5b116cc281ac4a1cd6527d280090d0e724de364dd3bf"
  }
 },
 "nbformat": 4,
 "nbformat_minor": 4
}