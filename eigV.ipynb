{
 "cells": [
  {
   "cell_type": "code",
   "execution_count": 3,
   "source": [
    "from jax import custom_vjp\n",
    "import jax.numpy as jnp\n",
    "from jax import grad, jit, vmap, ops\n",
    "from jax import random\n",
    "import numpy as np\n",
    "import jax\n",
    "from jax.scipy.linalg import expm\n",
    "from jax.scipy import linalg\n"
   ],
   "outputs": [],
   "metadata": {}
  },
  {
   "cell_type": "code",
   "execution_count": 150,
   "source": [
    "\n",
    "@custom_vjp\n",
    "def eig(mat):\n",
    "    return jnp.linalg.eig(mat)\n",
    "\n",
    "\n",
    "def eig_fwd(mat):\n",
    "    res = jnp.linalg.eig(mat)\n",
    "    return res,res\n",
    "\n",
    "def eig_bwd(res, g):\n",
    "    e,u = res\n",
    "    n = e.shape[0]\n",
    "    ge, gu = g\n",
    "    ge = jnp.diag(ge)\n",
    "\n",
    "    f = e[..., jnp.newaxis, :] - e[..., :, jnp.newaxis] + 1.e-20\n",
    "    diag_elements = jnp.diag_indices_from(f)\n",
    "    f = jax.ops.index_update(f, diag_elements, jnp.inf)\n",
    "    f= 1./f\n",
    "\n",
    "    #f = 1/(e[..., jnp.newaxis, :] - e[..., :, jnp.newaxis] + 1.e-20)\n",
    "    #f -= jnp.diag(f)\n",
    "\n",
    "\n",
    "    ut = jnp.swapaxes(u, -1, -2)\n",
    "    r1 = f * jnp.dot(ut, gu)\n",
    "    r2 = -f * (jnp.dot(jnp.dot(ut, jnp.conj(u)), jnp.real(jnp.dot(ut,gu)) * jnp.eye(n)))\n",
    "    r = jnp.dot(jnp.dot(jnp.linalg.inv(ut), ge + r1 + r2), ut)\n",
    "    r = jnp.real(r)\n",
    "    # the derivative is still complex for real input (imaginary delta is allowed), real output\n",
    "    # but the derivative should be real in real input case when imaginary delta is forbidden\n",
    "    return (r,)\n",
    "\n",
    "eig.defvjp(eig_fwd, eig_bwd)"
   ],
   "outputs": [],
   "metadata": {
    "tags": []
   }
  },
  {
   "cell_type": "code",
   "execution_count": 158,
   "source": [
    "eig= jit(eig, backend='cpu')\n",
    "\n",
    "def loss(mat):\n",
    "    mat = mat.T + mat\n",
    "    e,u = eig(mat)\n",
    "    return jnp.real(jnp.conjugate(e[0]) * e[0])"
   ],
   "outputs": [],
   "metadata": {}
  },
  {
   "cell_type": "code",
   "execution_count": 161,
   "source": [
    "\n",
    "\n",
    "key = random.PRNGKey(23)\n",
    "# Set a step size for finite differences calculations\n",
    "eps = 1e-4\n",
    "\n",
    "key, subkey = random.split(key)\n",
    "mat = random.normal(subkey, (5,5))\n",
    "unitvec = mat / jnp.sqrt(jnp.vdot(mat, mat))\n",
    "W_grad_numerical = (loss(mat + eps / 2. * unitvec) - loss(mat - eps / 2. * unitvec)) / eps\n",
    "nu =  W_grad_numerical\n",
    "ad =  jnp.vdot(grad(loss)(mat), unitvec)\n",
    "print('W_dirderiv_numerical', W_grad_numerical)\n",
    "print('W_dirderiv_autodiff', jnp.vdot(grad(loss)(mat), unitvec))"
   ],
   "outputs": [
    {
     "output_type": "stream",
     "name": "stdout",
     "text": [
      "W_dirderiv_numerical 145452.72\n",
      "W_dirderiv_autodiff 2.5335462\n"
     ]
    }
   ],
   "metadata": {
    "tags": []
   }
  },
  {
   "cell_type": "code",
   "execution_count": 153,
   "source": [
    "def loss(mat):\n",
    "    e,u = eig(mat)\n",
    "    inds = jnp.argsort(e)\n",
    "    u1 = u[:,inds[0]]\n",
    "    u2 = u[:,inds[1]]\n",
    "    return jnp.real(jnp.conjugate(u1).T @ u2)"
   ],
   "outputs": [],
   "metadata": {}
  },
  {
   "cell_type": "code",
   "execution_count": 154,
   "source": [
    "\n",
    "key = random.PRNGKey(1)\n",
    "# Set a step size for finite differences calculations\n",
    "eps = 1e-4\n",
    "\n",
    "key, subkey = random.split(key)\n",
    "mat = random.normal(subkey, (5,5))\n",
    "unitvec = mat / jnp.sqrt(jnp.vdot(mat, mat))\n",
    "W_grad_numerical = (loss(mat + eps / 2. * unitvec) - loss(mat - eps / 2. * unitvec)) / eps\n",
    "#print('W_dirderiv_numerical', W_grad_numerical)\n",
    "print('W_dirderiv_numerical', W_grad_numerical)\n",
    "print('W_dirderiv_autodiff', jnp.vdot(grad(loss)(mat), unitvec))\n"
   ],
   "outputs": [
    {
     "output_type": "stream",
     "name": "stdout",
     "text": [
      "W_dirderiv_numerical -0.00059604645\n",
      "W_dirderiv_autodiff 7.674403e-09\n"
     ]
    }
   ],
   "metadata": {
    "tags": []
   }
  },
  {
   "cell_type": "code",
   "execution_count": 132,
   "source": [
    "eig(mat)"
   ],
   "outputs": [
    {
     "output_type": "execute_result",
     "data": {
      "text/plain": [
       "[DeviceArray([-3.1788244+0.j       ,  0.5754158+0.7541545j,\n",
       "               0.5754158-0.7541545j, -1.7028826+0.j       ,\n",
       "              -0.9303485+0.j       ], dtype=complex64),\n",
       " DeviceArray([[-0.57083344+0.j        , -0.49249107+0.03827315j,\n",
       "               -0.49249107-0.03827315j,  0.09055754+0.j        ,\n",
       "                0.07526224+0.j        ],\n",
       "              [-0.05209664+0.j        ,  0.4238208 +0.24178955j,\n",
       "                0.4238208 -0.24178955j, -0.28192702+0.j        ,\n",
       "                0.1292539 +0.j        ],\n",
       "              [ 0.5457766 +0.j        ,  0.06265222-0.04868248j,\n",
       "                0.06265222+0.04868248j,  0.74575   +0.j        ,\n",
       "                0.60991126+0.j        ],\n",
       "              [-0.5359167 +0.j        ,  0.69301116+0.j        ,\n",
       "                0.69301116-0.j        , -0.1301903 +0.j        ,\n",
       "                0.6920431 +0.j        ],\n",
       "              [-0.29386458+0.j        , -0.08337508-0.15617388j,\n",
       "               -0.08337508+0.15617388j, -0.5824293 +0.j        ,\n",
       "                0.3559687 +0.j        ]], dtype=complex64)]"
      ]
     },
     "metadata": {},
     "execution_count": 132
    }
   ],
   "metadata": {}
  },
  {
   "cell_type": "code",
   "execution_count": null,
   "source": [
    "@custom_vjp\n",
    "def eig(mat):\n",
    "    return jnp.linalg.eigh(mat)\n",
    "\n",
    "\n",
    "def eig_fwd(mat):\n",
    "    res = jnp.linalg.eigh(mat)\n",
    "    return res,res\n",
    "\n",
    "def eig_bwd(res, g):\n",
    "    \"\"\"Gradient of a general square (complex valued) matrix\"\"\"\n",
    "    e, u = res # eigenvalues as 1d array, eigenvectors in columns\n",
    "    n = e.shape[-1]\n",
    "    ge, gu = g\n",
    "    ge = jnp.diag(ge)\n",
    "\n",
    "    f = e[..., jnp.newaxis, :] - e[..., :, jnp.newaxis] + 1.e-20\n",
    "    diag_elements = jnp.diag_indices_from(f)\n",
    "    #f = jax.ops.index_update(f, diag_elements, 1.)\n",
    "    f= 1./f\n",
    "\n",
    "    ut = jnp.swapaxes(u, -1, -2)\n",
    "    r =  u@(jnp.diag(ge)+f*(ut@gu-(ut@gu).T)/2)@ut\n",
    "    return (r,)\n",
    "\n",
    "eig.defvjp(eig_fwd, eig_bwd)"
   ],
   "outputs": [],
   "metadata": {}
  }
 ],
 "metadata": {
  "kernelspec": {
   "name": "python3",
   "display_name": "Python 3.9.6 64-bit"
  },
  "language_info": {
   "codemirror_mode": {
    "name": "ipython",
    "version": 3
   },
   "file_extension": ".py",
   "mimetype": "text/x-python",
   "name": "python",
   "nbconvert_exporter": "python",
   "pygments_lexer": "ipython3",
   "version": "3.9.6"
  },
  "interpreter": {
   "hash": "6d2e4df79d9b8264f4bf5b116cc281ac4a1cd6527d280090d0e724de364dd3bf"
  }
 },
 "nbformat": 4,
 "nbformat_minor": 5
}