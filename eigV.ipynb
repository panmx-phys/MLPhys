{
 "cells": [
  {
   "cell_type": "code",
   "execution_count": 1,
   "id": "76180647-e889-4100-91b7-c367b180da83",
   "metadata": {},
   "outputs": [],
   "source": [
    "from jax import custom_vjp\n",
    "import jax.numpy as jnp\n",
    "from jax import grad, jit, vmap, ops\n",
    "from jax import random\n",
    "import numpy as np\n",
    "import jax\n",
    "from jax.scipy.linalg import expm\n",
    "from jax.scipy import linalg\n",
    "key = random.PRNGKey(0)"
   ]
  },
  {
   "cell_type": "code",
   "execution_count": 3,
   "id": "b876fba9-b174-4ae6-9d38-690bea22918d",
   "metadata": {
    "tags": []
   },
   "outputs": [],
   "source": [
    "\n",
    "@custom_vjp\n",
    "def eig(mat):\n",
    "    return jnp.linalg.eig(mat)\n",
    "\n",
    "\n",
    "def eig_fwd(mat):\n",
    "    res = jnp.linalg.eig(mat)\n",
    "    return res,res\n",
    "\n",
    "def eig_bwd(res, g):\n",
    "    \"\"\"Gradient of a general square (complex valued) matrix\"\"\"\n",
    "    e, u = res # eigenvalues as 1d array, eigenvectors in columns\n",
    "    n = e.shape[-1]\n",
    "    ge, gu = g\n",
    "    ge = jnp.diag(ge)\n",
    "    f = 1/(e[..., jnp.newaxis, :] - e[..., :, jnp.newaxis] + 1.e-20)\n",
    "    f -= jnp.diag(f)\n",
    "    ut = jnp.swapaxes(u, -1, -2)\n",
    "    r = jnp.linalg.inv(ut)@(ge+f*(ut@gu) - f*(ut@jnp.conj(u)@(jnp.real(ut@gu)*jnp.eye(n))))@ut\n",
    "    r = jnp.real(r)\n",
    "    return (r,)\n",
    "\n",
    "eig.defvjp(eig_fwd, eig_bwd)"
   ]
  },
  {
   "cell_type": "code",
   "execution_count": 4,
   "id": "36491a9b-67d0-4ca9-b742-884a6f17b1f4",
   "metadata": {},
   "outputs": [],
   "source": [
    "eig= jit(eig, backend='cpu')\n",
    "\n",
    "def loss(mat):\n",
    "    e,u = eig(mat)\n",
    "    return jnp.real(jnp.conjugate(e[0]) * e[0])"
   ]
  },
  {
   "cell_type": "code",
   "execution_count": 5,
   "id": "bc67939b-d4b2-4668-acc1-05d779a540b3",
   "metadata": {
    "tags": []
   },
   "outputs": [
    {
     "name": "stdout",
     "output_type": "stream",
     "text": [
      "W_dirderiv_numerical 1.502037\n",
      "W_dirderiv_autodiff 1.4994137\n"
     ]
    }
   ],
   "source": [
    "# Set a step size for finite differences calculations\n",
    "eps = 1e-4\n",
    "\n",
    "key, subkey = random.split(key)\n",
    "mat = random.normal(subkey, (5,5))\n",
    "unitvec = mat / jnp.sqrt(jnp.vdot(mat, mat))\n",
    "W_grad_numerical = (loss(mat + eps / 2. * unitvec) - loss(mat - eps / 2. * unitvec)) / eps\n",
    "print('W_dirderiv_numerical', W_grad_numerical)\n",
    "print('W_dirderiv_autodiff', jnp.vdot(grad(loss)(mat), unitvec))"
   ]
  },
  {
   "cell_type": "code",
   "execution_count": 9,
   "id": "654e51f9-5d88-446a-9c0a-0265ea3b1293",
   "metadata": {},
   "outputs": [],
   "source": [
    "def loss(mat):\n",
    "    e,u = eig(mat)\n",
    "    return jnp.real(jnp.conjugate(u[0,0]) * u[0,0])"
   ]
  },
  {
   "cell_type": "code",
   "execution_count": 10,
   "id": "66962d7a-dece-4643-99c8-b5a3afc9b84e",
   "metadata": {
    "tags": []
   },
   "outputs": [
    {
     "name": "stdout",
     "output_type": "stream",
     "text": [
      "W_dirderiv_numerical 0.001527369\n",
      "W_dirderiv_autodiff -242210590000.0\n"
     ]
    }
   ],
   "source": [
    "# Set a step size for finite differences calculations\n",
    "eps = 1e-4\n",
    "\n",
    "key, subkey = random.split(key)\n",
    "mat = random.normal(subkey, (5,5))\n",
    "unitvec = mat / jnp.sqrt(jnp.vdot(mat, mat))\n",
    "W_grad_numerical = (loss(mat + eps / 2. * unitvec) - loss(mat - eps / 2. * unitvec)) / eps\n",
    "print('W_dirderiv_numerical', W_grad_numerical)\n",
    "print('W_dirderiv_autodiff', jnp.vdot(grad(loss)(mat), unitvec))"
   ]
  },
  {
   "cell_type": "code",
   "execution_count": null,
   "id": "10bed2d6-945f-452b-b101-ad0071f99269",
   "metadata": {},
   "outputs": [],
   "source": []
  }
 ],
 "metadata": {
  "kernelspec": {
   "display_name": "Python 3 (ipykernel)",
   "language": "python",
   "name": "python3"
  },
  "language_info": {
   "codemirror_mode": {
    "name": "ipython",
    "version": 3
   },
   "file_extension": ".py",
   "mimetype": "text/x-python",
   "name": "python",
   "nbconvert_exporter": "python",
   "pygments_lexer": "ipython3",
   "version": "3.9.6"
  }
 },
 "nbformat": 4,
 "nbformat_minor": 5
}
