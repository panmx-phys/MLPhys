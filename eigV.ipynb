{
 "cells": [
  {
   "cell_type": "code",
   "execution_count": 3,
   "source": [
    "from jax import custom_vjp\n",
    "import jax.numpy as jnp\n",
    "from jax import grad, jit, vmap, ops\n",
    "from jax import random\n",
    "import numpy as np\n",
    "import jax\n",
    "from jax.scipy.linalg import expm\n",
    "from jax.scipy import linalg\n"
   ],
   "outputs": [],
   "metadata": {}
  },
  {
   "cell_type": "code",
   "execution_count": 112,
   "source": [
    "\n",
    "@custom_vjp\n",
    "def eig(mat):\n",
    "    return jnp.linalg.eig(mat)\n",
    "\n",
    "\n",
    "def eig_fwd(mat):\n",
    "    res = jnp.linalg.eig(mat)\n",
    "    return res,res\n",
    "\n",
    "def eig_bwd(res, g):\n",
    "    e,u = res\n",
    "    n = e.shape[0]\n",
    "    ge, gu = g\n",
    "    ge = jnp.diag(ge)\n",
    "\n",
    "    f = e[..., jnp.newaxis, :] - e[..., :, jnp.newaxis] + 1.e-20\n",
    "    diag_elements = jnp.diag_indices_from(f)\n",
    "    f = jax.ops.index_update(f, diag_elements, jnp.inf)\n",
    "    f= 1./f\n",
    "\n",
    "    ut = jnp.swapaxes(u, -1, -2)\n",
    "    r1 = f * jnp.dot(ut, gu)\n",
    "    r2 = -f * (jnp.dot(jnp.dot(ut, jnp.conj(u)), jnp.real(jnp.dot(ut,gu)) * jnp.eye(n)))\n",
    "    r = jnp.dot(jnp.dot(jnp.linalg.inv(ut), ge + r1 + r2), ut)\n",
    "    r = jnp.real(r)\n",
    "    # the derivative is still complex for real input (imaginary delta is allowed), real output\n",
    "    # but the derivative should be real in real input case when imaginary delta is forbidden\n",
    "    return (r,)\n",
    "\n",
    "eig.defvjp(eig_fwd, eig_bwd)"
   ],
   "outputs": [],
   "metadata": {
    "tags": []
   }
  },
  {
   "cell_type": "code",
   "execution_count": 95,
   "source": [
    "@custom_vjp\n",
    "def eig(mat):\n",
    "    return jnp.linalg.eigh(mat)\n",
    "\n",
    "\n",
    "def eig_fwd(mat):\n",
    "    res = jnp.linalg.eigh(mat)\n",
    "    return res,res\n",
    "\n",
    "def eig_bwd(res, g):\n",
    "    \"\"\"Gradient of a general square (complex valued) matrix\"\"\"\n",
    "    e, u = res # eigenvalues as 1d array, eigenvectors in columns\n",
    "    n = e.shape[-1]\n",
    "    ge, gu = g\n",
    "    ge = jnp.diag(ge)\n",
    "\n",
    "    f = e[..., jnp.newaxis, :] - e[..., :, jnp.newaxis] + 1.e-20\n",
    "    diag_elements = jnp.diag_indices_from(f)\n",
    "    f = jax.ops.index_update(f, diag_elements, 1.)\n",
    "    f= 1./f\n",
    "\n",
    "    ut = jnp.swapaxes(u, -1, -2)\n",
    "    r =  u@(jnp.diag(ge)+f*(ut@gu-(ut@gu).T)/2)@ut\n",
    "    return (r,)\n",
    "\n",
    "eig.defvjp(eig_fwd, eig_bwd)"
   ],
   "outputs": [],
   "metadata": {}
  },
  {
   "cell_type": "code",
   "execution_count": 113,
   "source": [
    "eig= jit(eig, backend='cpu')\n",
    "\n",
    "def loss(mat):\n",
    "    mat = mat.T + mat\n",
    "    e,u = eig(mat)\n",
    "    return jnp.real(jnp.conjugate(e[0]) * e[0])"
   ],
   "outputs": [],
   "metadata": {}
  },
  {
   "cell_type": "code",
   "execution_count": 114,
   "source": [
    "key = random.PRNGKey(5)\n",
    "# Set a step size for finite differences calculations\n",
    "eps = 1e-4\n",
    "\n",
    "key, subkey = random.split(key)\n",
    "mat = random.normal(subkey, (5,5))\n",
    "unitvec = mat / jnp.sqrt(jnp.vdot(mat, mat))\n",
    "W_grad_numerical = (loss(mat + eps / 2. * unitvec) - loss(mat - eps / 2. * unitvec)) / eps\n",
    "print('W_dirderiv_numerical', W_grad_numerical)\n",
    "print('W_dirderiv_autodiff', jnp.vdot(grad(loss)(mat), unitvec))"
   ],
   "outputs": [
    {
     "output_type": "stream",
     "name": "stdout",
     "text": [
      "W_dirderiv_numerical 18.463135\n",
      "W_dirderiv_autodiff 17.493876\n"
     ]
    }
   ],
   "metadata": {
    "tags": []
   }
  },
  {
   "cell_type": "code",
   "execution_count": 115,
   "source": [
    "def loss(mat):\n",
    "    mat = mat.T + mat\n",
    "    e,u = eig(mat)\n",
    "    inds = jnp.argsort(e)\n",
    "    u1 = u[:,inds[0]]\n",
    "    u2 = u[:,inds[1]]\n",
    "    return jnp.real(jnp.conjugate(u1).T @ u2)"
   ],
   "outputs": [],
   "metadata": {}
  },
  {
   "cell_type": "code",
   "execution_count": 116,
   "source": [
    "\n",
    "key = random.PRNGKey(1)\n",
    "# Set a step size for finite differences calculations\n",
    "eps = 1e-4\n",
    "\n",
    "key, subkey = random.split(key)\n",
    "mat = random.normal(subkey, (5,5))\n",
    "unitvec = mat / jnp.sqrt(jnp.vdot(mat, mat))\n",
    "W_grad_numerical = (loss(mat + eps / 2. * unitvec) - loss(mat - eps / 2. * unitvec)) / eps\n",
    "#print('W_dirderiv_numerical', W_grad_numerical)\n",
    "print('W_dirderiv_numerical', W_grad_numerical)\n",
    "print('W_dirderiv_autodiff', jnp.vdot(grad(loss)(mat), unitvec))\n"
   ],
   "outputs": [
    {
     "output_type": "stream",
     "name": "stdout",
     "text": [
      "W_dirderiv_numerical 0.00070780516\n",
      "W_dirderiv_autodiff -4.2068127e-08\n"
     ]
    }
   ],
   "metadata": {
    "tags": []
   }
  },
  {
   "cell_type": "code",
   "execution_count": null,
   "source": [],
   "outputs": [],
   "metadata": {}
  }
 ],
 "metadata": {
  "kernelspec": {
   "name": "python3",
   "display_name": "Python 3.9.6 64-bit"
  },
  "language_info": {
   "codemirror_mode": {
    "name": "ipython",
    "version": 3
   },
   "file_extension": ".py",
   "mimetype": "text/x-python",
   "name": "python",
   "nbconvert_exporter": "python",
   "pygments_lexer": "ipython3",
   "version": "3.9.6"
  },
  "interpreter": {
   "hash": "6d2e4df79d9b8264f4bf5b116cc281ac4a1cd6527d280090d0e724de364dd3bf"
  }
 },
 "nbformat": 4,
 "nbformat_minor": 5
}