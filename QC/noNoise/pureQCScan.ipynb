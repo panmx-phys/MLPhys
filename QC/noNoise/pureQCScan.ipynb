{
 "cells": [
  {
   "cell_type": "code",
   "execution_count": 3,
   "metadata": {},
   "outputs": [],
   "source": [
    "import matplotlib.pyplot as plt\n",
    "import numpy as np\n",
    "import pickle\n",
    "from scanFun import *\n",
    "import datetime"
   ]
  },
  {
   "cell_type": "code",
   "execution_count": 2,
   "metadata": {},
   "outputs": [
    {
     "name": "stderr",
     "output_type": "stream",
     "text": [
      "/Users/qwe/MLPhys/QC/pure/QCutils.py:97: ComplexWarning: Casting complex values to real discards the imaginary part\n",
      "  thetaGrad[i] = grad1\n",
      "/Users/qwe/miniforge3/envs/qi/lib/python3.10/site-packages/scipy/optimize/_lbfgsb_py.py:353: ComplexWarning: Casting complex values to real discards the imaginary part\n",
      "  _lbfgsb.setulb(m, x, low_bnd, upper_bnd, nbd, f, g, factr,\n",
      "/Users/qwe/MLPhys/QC/pure/scanFun.py:139: ComplexWarning: Casting complex values to real discards the imaginary part\n",
      "  return results.fun,float(-np.log(np.trace(expm(- beta * H))))\n",
      "/var/folders/2_/8rs1gbh95pd73jb7n34phc980000gn/T/ipykernel_64139/2949741675.py:15: ComplexWarning: Casting complex values to real discards the imaginary part\n",
      "  fullRes[i-1,layer-1] = est\n"
     ]
    },
    {
     "name": "stdout",
     "output_type": "stream",
     "text": [
      "1 10\n",
      "1 20\n",
      "1 30\n",
      "1 40\n",
      "1 50\n",
      "1 60\n",
      "1 70\n",
      "1 80\n",
      "1 90\n",
      "1 100\n",
      "2 10\n",
      "2 20\n",
      "2 30\n",
      "2 40\n",
      "2 50\n",
      "2 60\n",
      "2 70\n",
      "2 80\n",
      "2 90\n",
      "2 100\n",
      "3 10\n",
      "3 20\n",
      "3 30\n",
      "3 40\n",
      "3 50\n",
      "3 60\n",
      "3 70\n",
      "3 80\n",
      "3 90\n",
      "3 100\n",
      "4 10\n",
      "4 20\n",
      "4 30\n",
      "4 40\n",
      "4 50\n",
      "4 60\n",
      "4 70\n",
      "4 80\n",
      "4 90\n",
      "4 100\n"
     ]
    }
   ],
   "source": [
    "beta_scan = np.arange(0.01,10,step = 0.1)\n",
    "\n",
    "maxLayer = 1\n",
    "\n",
    "fullRes = np.zeros((beta_scan.size,maxLayer+1))\n",
    "\n",
    "dataPath = \"data/\"\n",
    "for layer in range(1,maxLayer+1):\n",
    "    i = 1\n",
    "    for beta in beta_scan:\n",
    "        if i % 10 == 0:\n",
    "            np.save(dataPath  +str(datetime.datetime.now())[:-10],fullRes)\n",
    "            print(layer,i)\n",
    "        est, truth = QCCalc(beta,0.5,0.5,layer)\n",
    "        fullRes[i-1,layer-1] = est\n",
    "        fullRes[i-1,-1] = truth\n",
    "        i+= 1"
   ]
  },
  {
   "cell_type": "code",
   "execution_count": 3,
   "metadata": {},
   "outputs": [
    {
     "name": "stderr",
     "output_type": "stream",
     "text": [
      "/Users/qwe/MLPhys/QC/pure/scanFun.py:197: ComplexWarning: Casting complex values to real discards the imaginary part\n",
      "  return float(-np.log(np.trace(expm(- beta * H))))\n"
     ]
    }
   ],
   "source": [
    "beta_scan = np.arange(0.01,10,step = 0.1)\n",
    "\n",
    "resEst = np.zeros_like(beta_scan)\n",
    "resTrue = np.zeros_like(beta_scan)\n",
    "dataPath = \"data/FourLayer\"\n",
    "i = 1\n",
    "for beta in beta_scan:\n",
    "    est = plainCalc(beta,0.5,0.5,3)\n",
    "    resEst[i-1] = est\n",
    "    i+= 1\n",
    "\n",
    "    np.save(dataPath + \"Plain \" +str(datetime.datetime.now())[:-10],resEst)"
   ]
  },
  {
   "cell_type": "code",
   "execution_count": 9,
   "metadata": {},
   "outputs": [],
   "source": [
    "np.save(\"Estimate \" +str(datetime.datetime.now())[:-10],resEst)"
   ]
  },
  {
   "cell_type": "code",
   "execution_count": 4,
   "metadata": {},
   "outputs": [
    {
     "data": {
      "text/plain": [
       "<matplotlib.collections.PathCollection at 0x1523a2bc0>"
      ]
     },
     "execution_count": 4,
     "metadata": {},
     "output_type": "execute_result"
    },
    {
     "data": {
      "image/png": "[encoded data removed]",
      "text/plain": [
       "<Figure size 432x288 with 1 Axes>"
      ]
     },
     "metadata": {
      "needs_background": "light"
     },
     "output_type": "display_data"
    }
   ],
   "source": [
    "plt.scatter(beta_scan,resEst,s=0.5)"
   ]
  },
  {
   "cell_type": "code",
   "execution_count": 4,
   "metadata": {},
   "outputs": [
    {
     "data": {
      "text/plain": [
       "array([ -2.56269551,  -2.83417871,  -2.43692059,  -2.32180161,\n",
       "        -2.79320019,  -2.44132985,  -3.02396413,  -2.55076105,\n",
       "        -3.01380349,  -2.75556084,  -3.07021991,  -3.30651107,\n",
       "        -1.59646865,  -3.89383953,  -3.81070406,  -4.06137966,\n",
       "        -4.44847946,  -4.44371629,  -4.88335433,  -5.03100354,\n",
       "        -5.11077006,  -5.3712994 ,  -5.56674326,  -5.80144526,\n",
       "        -6.05927809,  -1.39478908,  -6.58578678,  -6.83126698,\n",
       "        -7.06011577,  -7.27700636,  -7.53347828,  -7.77979726,\n",
       "        -8.04245885,  -8.28280721,  -8.52113672,  -8.77939726,\n",
       "        -9.05188796,  -9.27919726,  -9.525     ,  -9.77401321,\n",
       "       -10.03951442,  -2.36271328, -10.53641794, -10.77859726,\n",
       "       -11.025     , -11.27388726, -11.52757412, -11.76132996,\n",
       "       -12.02637672, -12.25007783, -12.52789726, -12.75268638,\n",
       "       -13.01727726, -13.27880721, -13.525     ,  -3.11462675,\n",
       "       -14.02842907, -14.27719726, -14.525     , -14.775     ,\n",
       "       -15.02689726, -15.27232108, -15.525     , -15.775     ,\n",
       "       -16.025     , -16.21064312, -12.05839836, -16.77619726,\n",
       "       -17.025     , -17.275     , -17.525     , -17.775     ,\n",
       "       -18.025     , -18.27559726, -18.52549726, -18.775     ,\n",
       "       -19.025     , -19.27519726, -19.49395351, -19.76708351,\n",
       "        -4.21007001, -20.275     , -20.525     , -20.75757351,\n",
       "       -20.94106545, -21.21875042, -21.51568726, -21.775     ,\n",
       "       -22.025     , -22.275     , -22.525     , -22.775     ,\n",
       "       -23.025     , -23.27359726, -23.52349726, -23.775     ,\n",
       "        -4.92157152, -24.23896415, -24.49176351, -24.77299726])"
      ]
     },
     "execution_count": 4,
     "metadata": {},
     "output_type": "execute_result"
    }
   ],
   "source": [
    "resEst"
   ]
  },
  {
   "cell_type": "code",
   "execution_count": null,
   "metadata": {},
   "outputs": [],
   "source": []
  }
 ],
 "metadata": {
  "interpreter": {
   "hash": "be296274388fc6a39d7d5c375e94b0881815faaa5a1dd49e08d8c63c595f251c"
  },
  "kernelspec": {
   "display_name": "Python 3.10.2 ('qi')",
   "language": "python",
   "name": "python3"
  },
  "language_info": {
   "codemirror_mode": {
    "name": "ipython",
    "version": 3
   },
   "file_extension": ".py",
   "mimetype": "text/x-python",
   "name": "python",
   "nbconvert_exporter": "python",
   "pygments_lexer": "ipython3",
   "version": "3.10.2"
  },
  "orig_nbformat": 4
 },
 "nbformat": 4,
 "nbformat_minor": 2
}
