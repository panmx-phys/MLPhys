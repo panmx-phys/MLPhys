{
 "cells": [
  {
   "cell_type": "code",
   "execution_count": 1,
   "metadata": {},
   "outputs": [
    {
     "name": "stderr",
     "output_type": "stream",
     "text": [
      "/Users/qwe/miniforge3/lib/python3.8/site-packages/jax/_src/lib/__init__.py:32: UserWarning: JAX on Mac ARM machines is experimental and minimally tested. Please see https://github.com/google/jax/issues/5501 in the event of problems.\n",
      "  warnings.warn(\"JAX on Mac ARM machines is experimental and minimally tested. \"\n"
     ]
    }
   ],
   "source": [
    "import jax\n",
    "import jax.numpy as jnp\n",
    "import numpy as np\n",
    "from jax.config import config\n",
    "from jax.scipy.linalg import expm\n",
    "config.update(\"jax_enable_x64\", True)\n",
    "\n",
    "np.random.seed(1)\n",
    "\n",
    "def print_matrix(mat):\n",
    "    with np.printoptions(precision=3, suppress=True):\n",
    "        print(mat)\n",
    "\n",
    "def assert_equal(mat1,mat2,eps = 0.0000001):\n",
    "    assert jnp.sum((mat1-mat2)**2) < eps"
   ]
  },
  {
   "cell_type": "code",
   "execution_count": 2,
   "metadata": {},
   "outputs": [
    {
     "name": "stderr",
     "output_type": "stream",
     "text": [
      "WARNING:absl:No GPU/TPU found, falling back to CPU. (Set TF_CPP_MIN_LOG_LEVEL=0 and rerun for more info.)\n"
     ]
    }
   ],
   "source": [
    "N = 4\n",
    "beta = 1\n",
    "J = 0.5\n",
    "h = 0.3\n",
    "layer_num = 4\n",
    "uniParas_num = layer_num * (2**(2*N)-1)\n",
    "\n",
    "sigma_z = jnp.array([[1,0],[0,-1]])\n",
    "sigma_x = jnp.array([[0,1],[1,0]])\n",
    "sigma_y = jnp.array([[0,1j],[1j,0]])\n",
    "\n",
    "spin = jnp.array([0,1])\n",
    "spin_up = jnp.array([[1],[0]])\n",
    "spin_down= jnp.array([[0],[1]])\n"
   ]
  },
  {
   "cell_type": "code",
   "execution_count": 3,
   "metadata": {},
   "outputs": [],
   "source": [
    "#def createH(J,h)\n",
    "\n",
    "H = jnp.zeros((2**N,2**N))\n",
    "\n",
    "initLattice = jnp.kron(sigma_z,sigma_z)\n",
    "for i in range(2,N):\n",
    "    initLattice = jnp.kron(initLattice,jnp.eye(2))\n",
    "\n",
    "H += - J * initLattice\n",
    "\n",
    "for lattice_point in range(1,N-1):\n",
    "    curr = jnp.eye(2)\n",
    "    for i in range(1,lattice_point):\n",
    "        curr = jnp.kron(curr,jnp.eye(2))\n",
    "    curr = jnp.kron( jnp.kron(curr,sigma_z),sigma_z)\n",
    "    for i in range(lattice_point+2,N):\n",
    "        curr = jnp.kron(curr,jnp.eye(2))\n",
    "    \n",
    "    assert curr.shape[0] == H.shape[0]\n",
    "    \n",
    "    H += -J * curr\n",
    "\n",
    "\n",
    "initLattice = sigma_x\n",
    "for i in range(1,N):\n",
    "    initLattice = jnp.kron(initLattice,jnp.eye(2))\n",
    "\n",
    "H += - h * initLattice\n",
    "\n",
    "for lattice_point in range(1,N-1):\n",
    "    curr = jnp.eye(2)\n",
    "    for i in range(1,lattice_point):\n",
    "        curr = jnp.kron(curr,jnp.eye(2))\n",
    "    curr = jnp.kron(curr,sigma_x)\n",
    "    for i in range(lattice_point+1,N):\n",
    "        curr = jnp.kron(curr,jnp.eye(2))\n",
    "    \n",
    "    assert curr.shape[0] == H.shape[0]\n",
    "    \n",
    "    H += -h * curr\n",
    "\n",
    "H = jnp.array(H,dtype=jnp.complex128)"
   ]
  },
  {
   "cell_type": "code",
   "execution_count": 4,
   "metadata": {},
   "outputs": [],
   "source": [
    "import pennylane as qml\n",
    "\n",
    "dev = qml.device(\"default.qubit\", wires=N)\n",
    "@qml.qnode(dev, diff_method=\"parameter-shift\")\n",
    "def circuit(thetas):\n",
    "    for i in range(N):\n",
    "        qml.RX(thetas[i],wires=i)\n",
    "    for j in range(N):\n",
    "        qml.R\n",
    "    return qml.probs(wires=1)\n"
   ]
  },
  {
   "cell_type": "code",
   "execution_count": 9,
   "metadata": {},
   "outputs": [
    {
     "data": {
      "text/plain": [
       "DeviceArray(-3.25023374-0.j, dtype=complex128)"
      ]
     },
     "execution_count": 9,
     "metadata": {},
     "output_type": "execute_result"
    }
   ],
   "source": [
    "-jnp.log(jnp.trace(expm(- beta * H)))"
   ]
  }
 ],
 "metadata": {
  "interpreter": {
   "hash": "880a427375ebf8b04afddfb4f48c6c6ca9969963e0262786f7b9dfb8d22529db"
  },
  "kernelspec": {
   "display_name": "Python 3.9.6 64-bit ('base': conda)",
   "name": "python3"
  },
  "language_info": {
   "codemirror_mode": {
    "name": "ipython",
    "version": 3
   },
   "file_extension": ".py",
   "mimetype": "text/x-python",
   "name": "python",
   "nbconvert_exporter": "python",
   "pygments_lexer": "ipython3",
   "version": "3.8.6"
  },
  "orig_nbformat": 4
 },
 "nbformat": 4,
 "nbformat_minor": 2
}
