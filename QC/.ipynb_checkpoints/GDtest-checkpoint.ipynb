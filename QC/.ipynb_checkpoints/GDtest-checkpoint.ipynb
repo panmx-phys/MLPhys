{
 "cells": [
  {
   "cell_type": "markdown",
   "metadata": {},
   "source": [
    "# Test parameter shift using qiskit circuit"
   ]
  },
  {
   "cell_type": "code",
   "execution_count": 2,
   "metadata": {},
   "outputs": [],
   "source": [
    "import numpy as np\n",
    "from qiskit import *\n",
    "from qiskit.tools.monitor import job_monitor\n",
    "#import qiskit.tools.jupyter"
   ]
  },
  {
   "cell_type": "markdown",
   "metadata": {},
   "source": [
    "## Target\n",
    "\n",
    "Minimize the energy of two qubit going through one X gate using parameter shift rule\n"
   ]
  },
  {
   "cell_type": "code",
   "execution_count": 14,
   "metadata": {},
   "outputs": [
    {
     "data": {
      "text/html": [
       "<pre style=\"word-wrap: normal;white-space: pre;background: #fff0;line-height: 1.1;font-family: &quot;Courier New&quot;,Courier,monospace\">     ┌───────────┐┌───────────┐\n",
       "q_0: ┤1          ├┤1          ├\n",
       "     │  Rxx(0.5) ││  Ryy(0.5) │\n",
       "q_1: ┤0          ├┤0          ├\n",
       "     └───────────┘└───────────┘</pre>"
      ],
      "text/plain": [
       "     ┌───────────┐┌───────────┐\n",
       "q_0: ┤1          ├┤1          ├\n",
       "     │  Rxx(0.5) ││  Ryy(0.5) │\n",
       "q_1: ┤0          ├┤0          ├\n",
       "     └───────────┘└───────────┘"
      ]
     },
     "execution_count": 14,
     "metadata": {},
     "output_type": "execute_result"
    }
   ],
   "source": [
    "qc = QuantumCircuit(2)\n",
    "qc.rxx(0.5,1,0)\n",
    "qc.ryy(0.5,1,0)\n",
    "\n",
    "qc.draw()"
   ]
  },
  {
   "cell_type": "code",
   "execution_count": null,
   "metadata": {},
   "outputs": [],
   "source": []
  }
 ],
 "metadata": {
  "interpreter": {
   "hash": "be296274388fc6a39d7d5c375e94b0881815faaa5a1dd49e08d8c63c595f251c"
  },
  "kernelspec": {
   "display_name": "Python 3 (ipykernel)",
   "language": "python",
   "name": "python3"
  },
  "language_info": {
   "codemirror_mode": {
    "name": "ipython",
    "version": 3
   },
   "file_extension": ".py",
   "mimetype": "text/x-python",
   "name": "python",
   "nbconvert_exporter": "python",
   "pygments_lexer": "ipython3",
   "version": "3.10.2"
  }
 },
 "nbformat": 4,
 "nbformat_minor": 2
}
