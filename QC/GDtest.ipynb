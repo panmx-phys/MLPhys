{
 "cells": [
  {
   "cell_type": "markdown",
   "metadata": {},
   "source": [
    "# Test parameter shift using qiskit circuit"
   ]
  },
  {
   "cell_type": "code",
   "execution_count": 16,
   "metadata": {},
   "outputs": [],
   "source": [
    "import numpy as np\n",
    "from qiskit import *\n",
    "from qiskit.tools.monitor import job_monitor\n",
    "#import qiskit.tools.jupyter\n",
    "from qiskit.tools.visualization import circuit_drawer, plot_histogram\n",
    "import copy"
   ]
  },
  {
   "cell_type": "markdown",
   "metadata": {},
   "source": [
    "## Target\n",
    "\n",
    "Minimize the energy of two qubit going through one X gate using parameter shift rule\n"
   ]
  },
  {
   "cell_type": "code",
   "execution_count": 2,
   "metadata": {},
   "outputs": [
    {
     "data": {
      "text/html": [
       "<pre style=\"word-wrap: normal;white-space: pre;background: #fff0;line-height: 1.1;font-family: &quot;Courier New&quot;,Courier,monospace\">      ┌───────────┐┌───────────┐┌─┐   \n",
       "q0_0: ┤1          ├┤1          ├┤M├───\n",
       "      │  Rxx(π/2) ││  Ryy(π/2) │└╥┘┌─┐\n",
       "q0_1: ┤0          ├┤0          ├─╫─┤M├\n",
       "      └───────────┘└───────────┘ ║ └╥┘\n",
       "c0: 2/═══════════════════════════╩══╩═\n",
       "                                 0  1 </pre>"
      ],
      "text/plain": [
       "      ┌───────────┐┌───────────┐┌─┐   \n",
       "q0_0: ┤1          ├┤1          ├┤M├───\n",
       "      │  Rxx(π/2) ││  Ryy(π/2) │└╥┘┌─┐\n",
       "q0_1: ┤0          ├┤0          ├─╫─┤M├\n",
       "      └───────────┘└───────────┘ ║ └╥┘\n",
       "c0: 2/═══════════════════════════╩══╩═\n",
       "                                 0  1 "
      ]
     },
     "execution_count": 2,
     "metadata": {},
     "output_type": "execute_result"
    }
   ],
   "source": [
    "q = QuantumRegister(2)\n",
    "c = ClassicalRegister(2)\n",
    "qc = QuantumCircuit(q,c)\n",
    "qc.rxx(np.pi/2,1,0)\n",
    "qc.ryy(np.pi/2,1,0)\n",
    "qc.measure(q,c)\n",
    "qc.draw()\n"
   ]
  },
  {
   "cell_type": "code",
   "execution_count": 3,
   "metadata": {},
   "outputs": [
    {
     "data": {
      "image/png": "[encoded data removed]",
      "text/plain": [
       "<Figure size 504x360 with 1 Axes>"
      ]
     },
     "execution_count": 3,
     "metadata": {},
     "output_type": "execute_result"
    }
   ],
   "source": [
    "backend = Aer.get_backend('qasm_simulator')\n",
    "job = execute(qc, backend, shots=100)\n",
    "plot_histogram(job.result().get_counts(qc))"
   ]
  },
  {
   "cell_type": "markdown",
   "metadata": {},
   "source": [
    "## Create a variational ensemble\n",
    "using $Z$ gate"
   ]
  },
  {
   "cell_type": "code",
   "execution_count": 72,
   "metadata": {},
   "outputs": [
    {
     "data": {
      "text/html": [
       "<pre style=\"word-wrap: normal;white-space: pre;background: #fff0;line-height: 1.1;font-family: &quot;Courier New&quot;,Courier,monospace\">        ┌─────────────┐┌─────────────┐┌─────────────┐┌─┐         \n",
       "q187_0: ┤ Rx(0.27021) ├┤ Ry(0.27021) ├┤ Rz(0.27021) ├┤M├─────────\n",
       "        └┬────────────┤└┬────────────┤└┬────────────┤└╥┘┌─┐      \n",
       "q187_1: ─┤ Rx(1.5281) ├─┤ Ry(1.5281) ├─┤ Rz(1.5281) ├─╫─┤M├──────\n",
       "        ┌┴────────────┤┌┴────────────┤┌┴────────────┤ ║ └╥┘┌─┐   \n",
       "q187_2: ┤ Rx(0.35639) ├┤ Ry(0.35639) ├┤ Rz(0.35639) ├─╫──╫─┤M├───\n",
       "        └┬────────────┤└┬────────────┤└┬────────────┤ ║  ║ └╥┘┌─┐\n",
       "q187_3: ─┤ Rx(1.3368) ├─┤ Ry(1.3368) ├─┤ Rz(1.3368) ├─╫──╫──╫─┤M├\n",
       "         └────────────┘ └────────────┘ └────────────┘ ║  ║  ║ └╥┘\n",
       " c63: 4/══════════════════════════════════════════════╩══╩══╩══╩═\n",
       "                                                      0  1  2  3 </pre>"
      ],
      "text/plain": [
       "        ┌─────────────┐┌─────────────┐┌─────────────┐┌─┐         \n",
       "q187_0: ┤ Rx(0.27021) ├┤ Ry(0.27021) ├┤ Rz(0.27021) ├┤M├─────────\n",
       "        └┬────────────┤└┬────────────┤└┬────────────┤└╥┘┌─┐      \n",
       "q187_1: ─┤ Rx(1.5281) ├─┤ Ry(1.5281) ├─┤ Rz(1.5281) ├─╫─┤M├──────\n",
       "        ┌┴────────────┤┌┴────────────┤┌┴────────────┤ ║ └╥┘┌─┐   \n",
       "q187_2: ┤ Rx(0.35639) ├┤ Ry(0.35639) ├┤ Rz(0.35639) ├─╫──╫─┤M├───\n",
       "        └┬────────────┤└┬────────────┤└┬────────────┤ ║  ║ └╥┘┌─┐\n",
       "q187_3: ─┤ Rx(1.3368) ├─┤ Ry(1.3368) ├─┤ Rz(1.3368) ├─╫──╫──╫─┤M├\n",
       "         └────────────┘ └────────────┘ └────────────┘ ║  ║  ║ └╥┘\n",
       " c63: 4/══════════════════════════════════════════════╩══╩══╩══╩═\n",
       "                                                      0  1  2  3 "
      ]
     },
     "execution_count": 72,
     "metadata": {},
     "output_type": "execute_result"
    }
   ],
   "source": [
    "N = 4\n",
    "q = QuantumRegister(N)\n",
    "c = ClassicalRegister(N)\n",
    "qc = QuantumCircuit(q,c)\n",
    "\n",
    "thetas = np.random.rand(3 * N)\n",
    "for i in range(N):\n",
    "    qc.rx(thetas[i] * np.pi/2,i)\n",
    "    qc.ry(thetas[i] * np.pi/2,i)\n",
    "    qc.rz(thetas[i] * np.pi/2,i)\n",
    "\n",
    "qc.measure(q,c)\n",
    "qc.draw()\n"
   ]
  },
  {
   "cell_type": "code",
   "execution_count": 84,
   "metadata": {},
   "outputs": [
    {
     "name": "stderr",
     "output_type": "stream",
     "text": [
      "/Users/qwe/miniforge3/envs/qi/lib/python3.10/site-packages/numpy/linalg/linalg.py:2146: RuntimeWarning: divide by zero encountered in det\n",
      "  r = _umath_linalg.det(a, signature=signature)\n",
      "/Users/qwe/miniforge3/envs/qi/lib/python3.10/site-packages/numpy/linalg/linalg.py:2146: RuntimeWarning: invalid value encountered in det\n",
      "  r = _umath_linalg.det(a, signature=signature)\n"
     ]
    }
   ],
   "source": [
    "backend = Aer.get_backend('qasm_simulator')\n",
    "job = execute(qc, backend, shots=1000)\n",
    "testRes = job.result().get_counts(qc)"
   ]
  },
  {
   "cell_type": "code",
   "execution_count": 62,
   "metadata": {},
   "outputs": [],
   "source": [
    "sigma_z = np.array([[1,0],[0,-1]])\n",
    "sigma_x = np.array([[0,1],[1,0]])\n",
    "sigma_y = np.array([[0,1],[1,0]])\n",
    "\n",
    "spin = np.array([0,1])\n",
    "spin_up = np.array([[1],[0]])\n",
    "spin_down= np.array([[0],[1]])"
   ]
  },
  {
   "cell_type": "code",
   "execution_count": 20,
   "metadata": {},
   "outputs": [],
   "source": [
    "class QuGateWithGrad:\n",
    "    rDict = {'Rx': 0.5, 'Ry':0.5, 'Rz':0.5, 'Rxx': 0.5, 'Ryy': 0.5,'Rzz': 0.5}\n",
    "\n",
    "    qiskitGateDict = {'Rx':QuantumCircuit.rx, 'Ry':QuantumCircuit.ry,'Rz':QuantumCircuit.rz,\n",
    "    'Rxx':QuantumCircuit.rxx,'Ryy':QuantumCircuit.ryy,'Rzz':QuantumCircuit.rzz}\n",
    "\n",
    "    def __init__(self,symbol: str, registerNum: tuple):\n",
    "        self.qiskitGate = self.qiskitGateDict[symbol]\n",
    "        self.r = self.rDict[symbol]\n",
    "        \n",
    "        self.registerNum = registerNum\n",
    "        self.symbol = symbol\n",
    "        self.gradNum = 0 # gradNum -1/+1 add or minus r\n",
    "    \n",
    "    \n",
    "    def put(self,theta) -> tuple:\n",
    "        \n",
    "        return self.qiskitGate, theta + self.gradNum*( np.pi/ (4* self.r))\n",
    "    \n",
    "\n",
    "    def setGrad(self,gradNum):\n",
    "\n",
    "        assert gradNum == -1 or gradNum == 1\n",
    "\n",
    "        self.gradNum = gradNum\n",
    "    \n",
    "    "
   ]
  },
  {
   "cell_type": "code",
   "execution_count": 93,
   "metadata": {},
   "outputs": [],
   "source": [
    "class QuCircWithGrad:\n",
    "\n",
    "    simShots = 1000\n",
    "\n",
    "    def __init__(self,N : int):\n",
    "        self.thetas = []\n",
    "        self.gates = []\n",
    "        self.regiNums = []\n",
    "        self.isConstructed = False\n",
    "        self.qc = None\n",
    "    \n",
    "    def add_gate(self,symbol: str,registerNum: tuple,newTheta = None):\n",
    "        '''\n",
    "        add a gate with a random theta\n",
    "        '''\n",
    "        if type(registerNum) is int:\n",
    "            registerNum = tuple([registerNum])\n",
    "        \n",
    "        if not newTheta:\n",
    "            newTheta = np.random.random() * 2 * np.pi\n",
    "        \n",
    "        newGate = QuGateWithGrad(symbol,registerNum)\n",
    "        self.regiNums.append(registerNum)\n",
    "        self.gates.append(newGate)\n",
    "        self.thetas.append(newTheta)\n",
    "\n",
    "    def genGradCirc(self,gradIdx : int):\n",
    "        \"\"\"\n",
    "        generate two circuit with plus and minus gradient\n",
    "        \"\"\"\n",
    "        newCircPlus = copy.deepcopy(self)\n",
    "        newCircMinus = copy.deepcopy(self)\n",
    "\n",
    "        newCircPlus.gates[gradIdx].setGrad(1)\n",
    "        newCircMinus.gates[gradIdx].setGrad(-1)\n",
    "\n",
    "        newCircPlus.construct()\n",
    "        newCircMinus.construct()\n",
    "\n",
    "        return newCircPlus,newCircMinus\n",
    "\n",
    "\n",
    "    def construct(self):\n",
    "        '''\n",
    "        construct the circuit using added gates and append measure\n",
    "        '''\n",
    "        self.isConstructed = True\n",
    "\n",
    "        self.q = QuantumRegister(N)\n",
    "        self.c = ClassicalRegister(N)\n",
    "        self.qc = QuantumCircuit(self.q,self.c)\n",
    "\n",
    "        for i in range(len(self.gates)):\n",
    "            gate = self.gates[i]\n",
    "            theta = self.thetas[i]\n",
    "            registerNum = self.regiNums[i]\n",
    "            kitGate, para = gate.put(theta)\n",
    "            kitGate(self.qc,para,*registerNum)\n",
    "        \n",
    "        self.qc.measure(self.q,self.c)\n",
    "    \n",
    "    def getCircuit(self):\n",
    "        assert self.isConstructed, \"Circuit not constructed\"\n",
    "        return self.qc\n",
    "    \n",
    "    def size(self):\n",
    "        \"\"\"\n",
    "        return the number of gates in the circuit\n",
    "        \"\"\"\n",
    "        return len(self.gates)\n",
    "\n",
    "    def updateThetas(self,newThetas):\n",
    "        self.thetas = newThetas\n",
    "        self.construct()\n",
    "    \n",
    "    def setCostFun(self,f):\n",
    "        \"\"\"\n",
    "        set a cost function that have:\n",
    "            input from the result of a circuit\n",
    "            output a scalar\n",
    "        \"\"\"\n",
    "        self.costFun = f\n",
    "    \n",
    "    def calc(self):\n",
    "\n",
    "        backend = Aer.get_backend('qasm_simulator')\n",
    "        job = execute(self.qc, backend, shots=self.simShots)\n",
    "        res = job.result().get_counts(self.qc)\n",
    "        cost = self.costFun(res)\n",
    "        \n",
    "        return cost\n",
    "        "
   ]
  },
  {
   "cell_type": "code",
   "execution_count": 45,
   "metadata": {},
   "outputs": [],
   "source": [
    "N = 4\n",
    "test1 = QuCircWithGrad(N)\n",
    "\n",
    "for i in range(N):\n",
    "    test1.add_gate('Rx',i)\n",
    "\n",
    "for i in range(N-1):\n",
    "    test1.add_gate('Rxx',(i,i+1))\n",
    "    test1.add_gate('Ryy',(i,i+1))\n",
    "    test1.add_gate('Rzz',(i,i+1))\n",
    "\n",
    "for j in range(N-1):\n",
    "    i = (N-2 - i)\n",
    "    test1.add_gate('Rxx',(i,i+1))\n",
    "    test1.add_gate('Ryy',(i,i+1))\n",
    "    test1.add_gate('Rzz',(i,i+1))\n"
   ]
  },
  {
   "cell_type": "code",
   "execution_count": 46,
   "metadata": {},
   "outputs": [],
   "source": [
    "test1.construct()\n",
    "\n",
    "MainQC = test1\n",
    "gradCircs = []\n",
    "for i in range(MainQC.size()):\n",
    "    gradCircs.append(MainQC.genGradCirc(i))\n",
    "\n",
    "\n",
    "    "
   ]
  },
  {
   "cell_type": "code",
   "execution_count": 81,
   "metadata": {},
   "outputs": [
    {
     "data": {
      "text/plain": [
       "{'1001': 7,\n",
       " '1110': 10,\n",
       " '0101': 1,\n",
       " '1011': 12,\n",
       " '0011': 13,\n",
       " '0001': 11,\n",
       " '1100': 11,\n",
       " '0100': 14,\n",
       " '0110': 13,\n",
       " '1010': 217,\n",
       " '0000': 227,\n",
       " '0010': 233,\n",
       " '1000': 231}"
      ]
     },
     "execution_count": 81,
     "metadata": {},
     "output_type": "execute_result"
    }
   ],
   "source": [
    "testRes"
   ]
  },
  {
   "cell_type": "code",
   "execution_count": 55,
   "metadata": {},
   "outputs": [],
   "source": [
    "def state_to_vec(s):\n",
    "    \n",
    "    if s[0] == '1':\n",
    "        state = spin_up\n",
    "        state_mat = spin_up\n",
    "    else:\n",
    "        state = spin_down\n",
    "        state_mat = spin_down\n",
    "    \n",
    "    for curr in s[1:]:\n",
    "        if curr == '1':\n",
    "            state = np.kron(state,spin_up)\n",
    "            state_mat = np.hstack((state_mat,spin_up))\n",
    "        else:\n",
    "            state = np.kron(state,spin_down)\n",
    "            state_mat = np.hstack((state_mat,spin_down))\n",
    "    \n",
    "    return state,state_mat"
   ]
  },
  {
   "cell_type": "code",
   "execution_count": 87,
   "metadata": {},
   "outputs": [],
   "source": [
    "J = 0.1\n",
    "\n",
    "H = np.zeros((2**N,2**N))\n",
    "\n",
    "initLattice = np.kron(sigma_z,sigma_z)\n",
    "for i in range(2,N):\n",
    "    initLattice = np.kron(initLattice,np.eye(2))\n",
    "\n",
    "H += - J * initLattice\n",
    "\n",
    "for lattice_point in range(1,N-1):\n",
    "    curr = np.eye(2)\n",
    "    for i in range(1,lattice_point):\n",
    "        curr = np.kron(curr,np.eye(2))\n",
    "    curr = np.kron( np.kron(curr,sigma_z),sigma_z)\n",
    "    for i in range(lattice_point+2,N):\n",
    "        curr = np.kron(curr,np.eye(2))\n",
    "    \n",
    "    assert curr.shape[0] == H.shape[0]\n",
    "    \n",
    "    H += -J * curr\n"
   ]
  },
  {
   "cell_type": "code",
   "execution_count": 86,
   "metadata": {},
   "outputs": [
    {
     "name": "stdout",
     "output_type": "stream",
     "text": [
      "1 [[0 1 1 1]\n",
      " [1 0 0 0]]\n"
     ]
    },
    {
     "ename": "ValueError",
     "evalue": "operands could not be broadcast together with shapes (4,4) (16,1) (4,4) ",
     "output_type": "error",
     "traceback": [
      "\u001b[0;31m---------------------------------------------------------------------------\u001b[0m",
      "\u001b[0;31mValueError\u001b[0m                                Traceback (most recent call last)",
      "\u001b[1;32m/Users/qwe/MLPhys/QC/GDtest.ipynb Cell 17'\u001b[0m in \u001b[0;36m<module>\u001b[0;34m\u001b[0m\n\u001b[1;32m      <a href='vscode-notebook-cell:/Users/qwe/MLPhys/QC/GDtest.ipynb#ch0000026?line=3'>4</a>\u001b[0m prob \u001b[39m=\u001b[39m testRes[key]\n\u001b[1;32m      <a href='vscode-notebook-cell:/Users/qwe/MLPhys/QC/GDtest.ipynb#ch0000026?line=4'>5</a>\u001b[0m \u001b[39mprint\u001b[39m(prob,state_mat)\n\u001b[0;32m----> <a href='vscode-notebook-cell:/Users/qwe/MLPhys/QC/GDtest.ipynb#ch0000026?line=5'>6</a>\u001b[0m rho \u001b[39m+\u001b[39m\u001b[39m=\u001b[39m state \u001b[39m*\u001b[39m prob\n",
      "\u001b[0;31mValueError\u001b[0m: operands could not be broadcast together with shapes (4,4) (16,1) (4,4) "
     ]
    }
   ],
   "source": [
    "rho = np.zeros((N,N))\n",
    "for key in testRes.keys():\n",
    "    state, _ = state_to_vec(key)\n",
    "    prob = testRes[key] / QuCircWithGrad.simShots\n",
    "    rho += state * prob\n",
    "\n"
   ]
  },
  {
   "cell_type": "code",
   "execution_count": null,
   "metadata": {},
   "outputs": [],
   "source": []
  }
 ],
 "metadata": {
  "interpreter": {
   "hash": "be296274388fc6a39d7d5c375e94b0881815faaa5a1dd49e08d8c63c595f251c"
  },
  "kernelspec": {
   "display_name": "Python 3 (ipykernel)",
   "language": "python",
   "name": "python3"
  },
  "language_info": {
   "codemirror_mode": {
    "name": "ipython",
    "version": 3
   },
   "file_extension": ".py",
   "mimetype": "text/x-python",
   "name": "python",
   "nbconvert_exporter": "python",
   "pygments_lexer": "ipython3",
   "version": "3.10.2"
  }
 },
 "nbformat": 4,
 "nbformat_minor": 2
}
