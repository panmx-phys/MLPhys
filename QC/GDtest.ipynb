{
 "cells": [
  {
   "cell_type": "markdown",
   "metadata": {},
   "source": [
    "# Test parameter shift using qiskit circuit"
   ]
  },
  {
   "cell_type": "code",
   "execution_count": 2,
   "metadata": {},
   "outputs": [],
   "source": [
    "import numpy as np\n",
    "from qiskit import *\n",
    "from qiskit.tools.monitor import job_monitor\n",
    "#import qiskit.tools.jupyter\n",
    "from qiskit.tools.visualization import circuit_drawer, plot_histogram"
   ]
  },
  {
   "cell_type": "markdown",
   "metadata": {},
   "source": [
    "## Target\n",
    "\n",
    "Minimize the energy of two qubit going through one X gate using parameter shift rule\n"
   ]
  },
  {
   "cell_type": "code",
   "execution_count": 3,
   "metadata": {},
   "outputs": [
    {
     "data": {
      "text/html": [
       "<pre style=\"word-wrap: normal;white-space: pre;background: #fff0;line-height: 1.1;font-family: &quot;Courier New&quot;,Courier,monospace\">      ┌───────────┐┌───────────┐┌─┐   \n",
       "q0_0: ┤1          ├┤1          ├┤M├───\n",
       "      │  Rxx(π/2) ││  Ryy(π/2) │└╥┘┌─┐\n",
       "q0_1: ┤0          ├┤0          ├─╫─┤M├\n",
       "      └───────────┘└───────────┘ ║ └╥┘\n",
       "c0: 2/═══════════════════════════╩══╩═\n",
       "                                 0  1 </pre>"
      ],
      "text/plain": [
       "      ┌───────────┐┌───────────┐┌─┐   \n",
       "q0_0: ┤1          ├┤1          ├┤M├───\n",
       "      │  Rxx(π/2) ││  Ryy(π/2) │└╥┘┌─┐\n",
       "q0_1: ┤0          ├┤0          ├─╫─┤M├\n",
       "      └───────────┘└───────────┘ ║ └╥┘\n",
       "c0: 2/═══════════════════════════╩══╩═\n",
       "                                 0  1 "
      ]
     },
     "execution_count": 3,
     "metadata": {},
     "output_type": "execute_result"
    }
   ],
   "source": [
    "q = QuantumRegister(2)\n",
    "c = ClassicalRegister(2)\n",
    "qc = QuantumCircuit(q,c)\n",
    "qc.rxx(np.pi/2,1,0)\n",
    "qc.ryy(np.pi/2,1,0)\n",
    "qc.measure(q,c)\n",
    "qc.draw()\n"
   ]
  },
  {
   "cell_type": "code",
   "execution_count": 4,
   "metadata": {},
   "outputs": [
    {
     "data": {
      "image/png": "[encoded data removed]",
      "text/plain": [
       "<Figure size 504x360 with 1 Axes>"
      ]
     },
     "execution_count": 4,
     "metadata": {},
     "output_type": "execute_result"
    }
   ],
   "source": [
    "backend = Aer.get_backend('qasm_simulator')\n",
    "job = execute(qc, backend, shots=100)\n",
    "plot_histogram(job.result().get_counts(qc))"
   ]
  },
  {
   "cell_type": "markdown",
   "metadata": {},
   "source": [
    "## Create a variational ensemble\n",
    "using $Z$ gate"
   ]
  },
  {
   "cell_type": "code",
   "execution_count": 20,
   "metadata": {},
   "outputs": [
    {
     "data": {
      "text/html": [
       "<pre style=\"word-wrap: normal;white-space: pre;background: #fff0;line-height: 1.1;font-family: &quot;Courier New&quot;,Courier,monospace\">       ┌─────────────┐ ┌─────────────┐ ┌─────────────┐ ┌─┐         \n",
       "q46_0: ┤ Rx(0.78823) ├─┤ Ry(0.78823) ├─┤ Rz(0.78823) ├─┤M├─────────\n",
       "       ├─────────────┴┐├─────────────┴┐├─────────────┴┐└╥┘┌─┐      \n",
       "q46_1: ┤ Rx(0.023384) ├┤ Ry(0.023384) ├┤ Rz(0.023384) ├─╫─┤M├──────\n",
       "       ├─────────────┬┘├─────────────┬┘├─────────────┬┘ ║ └╥┘┌─┐   \n",
       "q46_2: ┤ Rx(0.65722) ├─┤ Ry(0.65722) ├─┤ Rz(0.65722) ├──╫──╫─┤M├───\n",
       "       └┬────────────┤ └┬────────────┤ └┬────────────┤  ║  ║ └╥┘┌─┐\n",
       "q46_3: ─┤ Rx(1.1457) ├──┤ Ry(1.1457) ├──┤ Rz(1.1457) ├──╫──╫──╫─┤M├\n",
       "        └────────────┘  └────────────┘  └────────────┘  ║  ║  ║ └╥┘\n",
       "c11: 4/═════════════════════════════════════════════════╩══╩══╩══╩═\n",
       "                                                        0  1  2  3 </pre>"
      ],
      "text/plain": [
       "       ┌─────────────┐ ┌─────────────┐ ┌─────────────┐ ┌─┐         \n",
       "q46_0: ┤ Rx(0.78823) ├─┤ Ry(0.78823) ├─┤ Rz(0.78823) ├─┤M├─────────\n",
       "       ├─────────────┴┐├─────────────┴┐├─────────────┴┐└╥┘┌─┐      \n",
       "q46_1: ┤ Rx(0.023384) ├┤ Ry(0.023384) ├┤ Rz(0.023384) ├─╫─┤M├──────\n",
       "       ├─────────────┬┘├─────────────┬┘├─────────────┬┘ ║ └╥┘┌─┐   \n",
       "q46_2: ┤ Rx(0.65722) ├─┤ Ry(0.65722) ├─┤ Rz(0.65722) ├──╫──╫─┤M├───\n",
       "       └┬────────────┤ └┬────────────┤ └┬────────────┤  ║  ║ └╥┘┌─┐\n",
       "q46_3: ─┤ Rx(1.1457) ├──┤ Ry(1.1457) ├──┤ Rz(1.1457) ├──╫──╫──╫─┤M├\n",
       "        └────────────┘  └────────────┘  └────────────┘  ║  ║  ║ └╥┘\n",
       "c11: 4/═════════════════════════════════════════════════╩══╩══╩══╩═\n",
       "                                                        0  1  2  3 "
      ]
     },
     "execution_count": 20,
     "metadata": {},
     "output_type": "execute_result"
    }
   ],
   "source": [
    "N = 4\n",
    "q = QuantumRegister(N)\n",
    "c = ClassicalRegister(N)\n",
    "qc = QuantumCircuit(q,c)\n",
    "\n",
    "thetas = np.random.rand(3 * N)\n",
    "for i in range(N):\n",
    "    qc.rx(thetas[i] * np.pi/2,i)\n",
    "    qc.ry(thetas[i] * np.pi/2,i)\n",
    "    qc.rz(thetas[i] * np.pi/2,i)\n",
    "\n",
    "qc.measure(q,c)\n",
    "qc.draw()\n"
   ]
  },
  {
   "cell_type": "code",
   "execution_count": 32,
   "metadata": {},
   "outputs": [
    {
     "data": {
      "image/png": "[encoded data removed]",
      "text/plain": [
       "<Figure size 504x360 with 1 Axes>"
      ]
     },
     "execution_count": 32,
     "metadata": {},
     "output_type": "execute_result"
    }
   ],
   "source": [
    "backend = Aer.get_backend('qasm_simulator')\n",
    "job = execute(qc, backend, shots=1000)\n",
    "plot_histogram(job.result().get_counts(qc))"
   ]
  },
  {
   "cell_type": "code",
   "execution_count": 42,
   "metadata": {},
   "outputs": [],
   "source": [
    "sigma_z = np.array([[1,0],[0,-1]])\n",
    "sigma_x = np.array([[0,1],[1,0]])\n",
    "sigma_y = np.array([[0,1],[1,0]])\n",
    "\n",
    "spin = np.array([0,1])\n",
    "spin_up = np.array([[1],[0]])\n",
    "spin_down= np.array([[0],[1]])"
   ]
  },
  {
   "cell_type": "code",
   "execution_count": 41,
   "metadata": {},
   "outputs": [],
   "source": [
    "def state_to_vec(s):\n",
    "    # return a probability with the corresponding state\n",
    "    if s[0] == '1':\n",
    "        state = spin_up\n",
    "        state_mat = spin_up\n",
    "    else:\n",
    "        state = spin_down\n",
    "        state_mat = spin_down\n",
    "    \n",
    "    for curr in s[1:]:\n",
    "        if curr == '1':\n",
    "            state = np.kron(state,spin_up)\n",
    "            state_mat = np.hstack((state_mat,spin_up))\n",
    "        else:\n",
    "            state = np.kron(state,spin_down)\n",
    "            state_mat = np.hstack((state_mat,spin_down))\n",
    "    \n",
    "    return state,state_mat"
   ]
  },
  {
   "cell_type": "code",
   "execution_count": 39,
   "metadata": {},
   "outputs": [],
   "source": [
    "res = job.result().get_counts(qc)"
   ]
  },
  {
   "cell_type": "code",
   "execution_count": 40,
   "metadata": {},
   "outputs": [
    {
     "data": {
      "text/plain": [
       "349"
      ]
     },
     "execution_count": 40,
     "metadata": {},
     "output_type": "execute_result"
    }
   ],
   "source": [
    "res.get('0000',0)"
   ]
  },
  {
   "cell_type": "code",
   "execution_count": null,
   "metadata": {},
   "outputs": [],
   "source": []
  }
 ],
 "metadata": {
  "interpreter": {
   "hash": "be296274388fc6a39d7d5c375e94b0881815faaa5a1dd49e08d8c63c595f251c"
  },
  "kernelspec": {
   "display_name": "Python 3 (ipykernel)",
   "language": "python",
   "name": "python3"
  },
  "language_info": {
   "codemirror_mode": {
    "name": "ipython",
    "version": 3
   },
   "file_extension": ".py",
   "mimetype": "text/x-python",
   "name": "python",
   "nbconvert_exporter": "python",
   "pygments_lexer": "ipython3",
   "version": "3.10.2"
  }
 },
 "nbformat": 4,
 "nbformat_minor": 2
}
