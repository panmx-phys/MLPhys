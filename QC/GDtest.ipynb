{
 "cells": [
  {
   "cell_type": "markdown",
   "metadata": {},
   "source": [
    "# Test parameter shift using qiskit circuit"
   ]
  },
  {
   "cell_type": "code",
   "execution_count": 16,
   "metadata": {},
   "outputs": [],
   "source": [
    "import numpy as np\n",
    "from qiskit import *\n",
    "from qiskit.tools.monitor import job_monitor\n",
    "#import qiskit.tools.jupyter\n",
    "from qiskit.tools.visualization import circuit_drawer, plot_histogram\n",
    "import copy"
   ]
  },
  {
   "cell_type": "markdown",
   "metadata": {},
   "source": [
    "## Target\n",
    "\n",
    "Minimize the energy of two qubit going through one X gate using parameter shift rule\n"
   ]
  },
  {
   "cell_type": "code",
   "execution_count": 2,
   "metadata": {},
   "outputs": [
    {
     "data": {
      "text/html": [
       "<pre style=\"word-wrap: normal;white-space: pre;background: #fff0;line-height: 1.1;font-family: &quot;Courier New&quot;,Courier,monospace\">      ┌───────────┐┌───────────┐┌─┐   \n",
       "q0_0: ┤1          ├┤1          ├┤M├───\n",
       "      │  Rxx(π/2) ││  Ryy(π/2) │└╥┘┌─┐\n",
       "q0_1: ┤0          ├┤0          ├─╫─┤M├\n",
       "      └───────────┘└───────────┘ ║ └╥┘\n",
       "c0: 2/═══════════════════════════╩══╩═\n",
       "                                 0  1 </pre>"
      ],
      "text/plain": [
       "      ┌───────────┐┌───────────┐┌─┐   \n",
       "q0_0: ┤1          ├┤1          ├┤M├───\n",
       "      │  Rxx(π/2) ││  Ryy(π/2) │└╥┘┌─┐\n",
       "q0_1: ┤0          ├┤0          ├─╫─┤M├\n",
       "      └───────────┘└───────────┘ ║ └╥┘\n",
       "c0: 2/═══════════════════════════╩══╩═\n",
       "                                 0  1 "
      ]
     },
     "execution_count": 2,
     "metadata": {},
     "output_type": "execute_result"
    }
   ],
   "source": [
    "q = QuantumRegister(2)\n",
    "c = ClassicalRegister(2)\n",
    "qc = QuantumCircuit(q,c)\n",
    "qc.rxx(np.pi/2,1,0)\n",
    "qc.ryy(np.pi/2,1,0)\n",
    "qc.measure(q,c)\n",
    "qc.draw()\n"
   ]
  },
  {
   "cell_type": "code",
   "execution_count": 3,
   "metadata": {},
   "outputs": [
    {
     "data": {
      "image/png": "[encoded data removed]",
      "text/plain": [
       "<Figure size 504x360 with 1 Axes>"
      ]
     },
     "execution_count": 3,
     "metadata": {},
     "output_type": "execute_result"
    }
   ],
   "source": [
    "backend = Aer.get_backend('qasm_simulator')\n",
    "job = execute(qc, backend, shots=100)\n",
    "plot_histogram(job.result().get_counts(qc))"
   ]
  },
  {
   "cell_type": "markdown",
   "metadata": {},
   "source": [
    "## Create a variational ensemble\n",
    "using $Z$ gate"
   ]
  },
  {
   "cell_type": "code",
   "execution_count": 4,
   "metadata": {},
   "outputs": [
    {
     "data": {
      "text/html": [
       "<pre style=\"word-wrap: normal;white-space: pre;background: #fff0;line-height: 1.1;font-family: &quot;Courier New&quot;,Courier,monospace\">        ┌────────────┐ ┌────────────┐ ┌────────────┐┌─┐         \n",
       "q12_0: ─┤ Rx(1.1023) ├─┤ Ry(1.1023) ├─┤ Rz(1.1023) ├┤M├─────────\n",
       "       ┌┴────────────┤┌┴────────────┤┌┴────────────┤└╥┘┌─┐      \n",
       "q12_1: ┤ Rx(0.25371) ├┤ Ry(0.25371) ├┤ Rz(0.25371) ├─╫─┤M├──────\n",
       "       └┬────────────┤└┬────────────┤└┬────────────┤ ║ └╥┘┌─┐   \n",
       "q12_2: ─┤ Rx(1.3764) ├─┤ Ry(1.3764) ├─┤ Rz(1.3764) ├─╫──╫─┤M├───\n",
       "       ┌┴────────────┤┌┴────────────┤┌┴────────────┤ ║  ║ └╥┘┌─┐\n",
       "q12_3: ┤ Rx(0.20452) ├┤ Ry(0.20452) ├┤ Rz(0.20452) ├─╫──╫──╫─┤M├\n",
       "       └─────────────┘└─────────────┘└─────────────┘ ║  ║  ║ └╥┘\n",
       " c1: 4/══════════════════════════════════════════════╩══╩══╩══╩═\n",
       "                                                     0  1  2  3 </pre>"
      ],
      "text/plain": [
       "        ┌────────────┐ ┌────────────┐ ┌────────────┐┌─┐         \n",
       "q12_0: ─┤ Rx(1.1023) ├─┤ Ry(1.1023) ├─┤ Rz(1.1023) ├┤M├─────────\n",
       "       ┌┴────────────┤┌┴────────────┤┌┴────────────┤└╥┘┌─┐      \n",
       "q12_1: ┤ Rx(0.25371) ├┤ Ry(0.25371) ├┤ Rz(0.25371) ├─╫─┤M├──────\n",
       "       └┬────────────┤└┬────────────┤└┬────────────┤ ║ └╥┘┌─┐   \n",
       "q12_2: ─┤ Rx(1.3764) ├─┤ Ry(1.3764) ├─┤ Rz(1.3764) ├─╫──╫─┤M├───\n",
       "       ┌┴────────────┤┌┴────────────┤┌┴────────────┤ ║  ║ └╥┘┌─┐\n",
       "q12_3: ┤ Rx(0.20452) ├┤ Ry(0.20452) ├┤ Rz(0.20452) ├─╫──╫──╫─┤M├\n",
       "       └─────────────┘└─────────────┘└─────────────┘ ║  ║  ║ └╥┘\n",
       " c1: 4/══════════════════════════════════════════════╩══╩══╩══╩═\n",
       "                                                     0  1  2  3 "
      ]
     },
     "execution_count": 4,
     "metadata": {},
     "output_type": "execute_result"
    }
   ],
   "source": [
    "N = 4\n",
    "q = QuantumRegister(N)\n",
    "c = ClassicalRegister(N)\n",
    "qc = QuantumCircuit(q,c)\n",
    "\n",
    "thetas = np.random.rand(3 * N)\n",
    "for i in range(N):\n",
    "    qc.rx(thetas[i] * np.pi/2,i)\n",
    "    qc.ry(thetas[i] * np.pi/2,i)\n",
    "    qc.rz(thetas[i] * np.pi/2,i)\n",
    "\n",
    "qc.measure(q,c)\n",
    "qc.draw()\n"
   ]
  },
  {
   "cell_type": "code",
   "execution_count": 5,
   "metadata": {},
   "outputs": [
    {
     "name": "stderr",
     "output_type": "stream",
     "text": [
      "/Users/qwe/miniforge3/envs/qi/lib/python3.10/site-packages/numpy/linalg/linalg.py:2146: RuntimeWarning: divide by zero encountered in det\n",
      "  r = _umath_linalg.det(a, signature=signature)\n",
      "/Users/qwe/miniforge3/envs/qi/lib/python3.10/site-packages/numpy/linalg/linalg.py:2146: RuntimeWarning: invalid value encountered in det\n",
      "  r = _umath_linalg.det(a, signature=signature)\n"
     ]
    },
    {
     "data": {
      "image/png": "[encoded data removed]",
      "text/plain": [
       "<Figure size 504x360 with 1 Axes>"
      ]
     },
     "execution_count": 5,
     "metadata": {},
     "output_type": "execute_result"
    }
   ],
   "source": [
    "backend = Aer.get_backend('qasm_simulator')\n",
    "job = execute(qc, backend, shots=1000)\n",
    "plot_histogram(job.result().get_counts(qc))"
   ]
  },
  {
   "cell_type": "code",
   "execution_count": 6,
   "metadata": {},
   "outputs": [],
   "source": [
    "sigma_z = np.array([[1,0],[0,-1]])\n",
    "sigma_x = np.array([[0,1],[1,0]])\n",
    "sigma_y = np.array([[0,1],[1,0]])\n",
    "\n",
    "spin = np.array([0,1])\n",
    "spin_up = np.array([[1],[0]])\n",
    "spin_down= np.array([[0],[1]])"
   ]
  },
  {
   "cell_type": "code",
   "execution_count": 7,
   "metadata": {},
   "outputs": [],
   "source": [
    "def state_to_vec(s):\n",
    "    # return a probability with the corresponding state\n",
    "    if s[0] == '1':\n",
    "        state = spin_up\n",
    "        state_mat = spin_up\n",
    "    else:\n",
    "        state = spin_down\n",
    "        state_mat = spin_down\n",
    "    \n",
    "    for curr in s[1:]:\n",
    "        if curr == '1':\n",
    "            state = np.kron(state,spin_up)\n",
    "            state_mat = np.hstack((state_mat,spin_up))\n",
    "        else:\n",
    "            state = np.kron(state,spin_down)\n",
    "            state_mat = np.hstack((state_mat,spin_down))\n",
    "    \n",
    "    return state,state_mat"
   ]
  },
  {
   "cell_type": "code",
   "execution_count": 8,
   "metadata": {},
   "outputs": [],
   "source": [
    "res = job.result().get_counts(qc)"
   ]
  },
  {
   "cell_type": "code",
   "execution_count": 9,
   "metadata": {},
   "outputs": [
    {
     "data": {
      "text/plain": [
       "315"
      ]
     },
     "execution_count": 9,
     "metadata": {},
     "output_type": "execute_result"
    }
   ],
   "source": [
    "res.get('0000',0)"
   ]
  },
  {
   "cell_type": "code",
   "execution_count": 17,
   "metadata": {},
   "outputs": [],
   "source": [
    "class QuGateWithGrad:\n",
    "    rDict = {'Rx': 0.5, 'Ry':0.5, 'Rz':0.5, 'Rxx': np.pi/2, 'Ryy': np.pi/2,'Rzz': np.pi/2}\n",
    "\n",
    "    qiskitGateDict = {'Rx':QuantumCircuit.rx, 'Ry':QuantumCircuit.ry,'Rz':QuantumCircuit.rz,\n",
    "    'Rxx':QuantumCircuit.rxx,'Ryy':QuantumCircuit.ryy,'Rzz':QuantumCircuit.rzz}\n",
    "\n",
    "    def __init__(self,symbol: str, theta: float, registerNum: tuple):\n",
    "        self.qiskitGate = self.qiskitGateDict[symbol]\n",
    "        self.r = self.rDict[symbol]\n",
    "        \n",
    "        self.registerNum = registerNum\n",
    "        self.symbol = symbol\n",
    "        self.gradNum = 0 # gradNum -1/+1 add or minus r\n",
    "    \n",
    "    \n",
    "    def put(self,theta) -> tuple:\n",
    "        \n",
    "        return self.qiskitGate, theta + self.gradNum*self.r, self.r\n",
    "    \n",
    "\n",
    "    def setGrad(self,gradNum):\n",
    "\n",
    "        assert gradNum == -1 or gradNum == 1\n",
    "\n",
    "        self.gradNum = gradNum\n",
    "    \n",
    "    "
   ]
  },
  {
   "cell_type": "code",
   "execution_count": 18,
   "metadata": {},
   "outputs": [],
   "source": [
    "class QuCircWithGrad:\n",
    "\n",
    "\n",
    "    def __init__(self,N : int):\n",
    "        self.thetas = []\n",
    "        self.gates = []\n",
    "        self.regiNums = []\n",
    "        self.isConstructed = False\n",
    "        self.qc = None\n",
    "    \n",
    "    def add_gate(self,symbol: str,registerNum: tuple,newTheta = None):\n",
    "        '''\n",
    "        add a gate with a random theta\n",
    "        '''\n",
    "        if type(registerNum) is int:\n",
    "            registerNum = tuple([registerNum])\n",
    "        \n",
    "        if not newTheta:\n",
    "            newTheta = np.random.random() * 2 * np.pi\n",
    "        \n",
    "        newGate = QuGateWithGrad(symbol,newTheta,registerNum)\n",
    "        self.regiNums.append(registerNum)\n",
    "        self.gates.append(newGate)\n",
    "        self.thetas.append(newTheta)\n",
    "\n",
    "    def genGradCirc(self,gradIdx : int):\n",
    "        \"\"\"\n",
    "        generate two circuit with plus and minus gradient\n",
    "        \"\"\"\n",
    "        newCircPlus = copy.deepcopy(self)\n",
    "        newCircMinus = copy.deepcopy(self)\n",
    "\n",
    "        newCircPlus.gates[gradIdx].setGrad(1)\n",
    "        newCircMinus.gates[gradIdx].setGrad(-1)\n",
    "\n",
    "        newCircPlus.construct()\n",
    "        newCircMinus.construct()\n",
    "\n",
    "        return newCircPlus,newCircMinus\n",
    "\n",
    "\n",
    "    def construct(self):\n",
    "        '''\n",
    "        construct the circuit using added gates and append measure\n",
    "        '''\n",
    "        self.q = QuantumRegister(N)\n",
    "        self.c = ClassicalRegister(N)\n",
    "        self.qc = QuantumCircuit(self.q,self.c)\n",
    "\n",
    "        for i in range(len(self.gates)):\n",
    "            gate = self.gates[i]\n",
    "            theta = self.thetas[i]\n",
    "            registerNum = self.regiNums[i]\n",
    "            kitGate, para, _ = gate.put(theta)\n",
    "            kitGate(self.qc,para,*registerNum)\n",
    "        \n",
    "        self.qc.measure(self.q,self.c)\n",
    "    \n",
    "    def draw(self):\n",
    "        self.qc.draw()\n",
    "    \n",
    "\n",
    "        "
   ]
  },
  {
   "cell_type": "code",
   "execution_count": 15,
   "metadata": {},
   "outputs": [],
   "source": []
  },
  {
   "cell_type": "code",
   "execution_count": 19,
   "metadata": {},
   "outputs": [
    {
     "data": {
      "text/html": [
       "<pre style=\"word-wrap: normal;white-space: pre;background: #fff0;line-height: 1.1;font-family: &quot;Courier New&quot;,Courier,monospace\">       ┌────────────┐┌────────────┐ ┌────────────┐┌──────────────┐   ┌─┐   \n",
       "q7_0: ─┤ Rx(2.1187) ├┤ Ry(3.9397) ├─┤ Rz(1.2589) ├┤0             ├───┤M├───\n",
       "      ┌┴────────────┤├────────────┤ ├────────────┤│  Rxx(4.9659) │   └╥┘┌─┐\n",
       "q7_1: ┤ Rx(0.93736) ├┤ Ry(3.6019) ├─┤ Rz(5.8618) ├┤1             ├────╫─┤M├\n",
       "      ├─────────────┤├────────────┤┌┴────────────┤└─────┬─┬──────┘    ║ └╥┘\n",
       "q7_2: ┤ Rx(0.64212) ├┤ Ry(5.0952) ├┤ Rz(0.81171) ├──────┤M├───────────╫──╫─\n",
       "      └┬────────────┤├────────────┤└┬────────────┤      └╥┘       ┌─┐ ║  ║ \n",
       "q7_3: ─┤ Rx(1.0703) ├┤ Ry(5.2902) ├─┤ Rz(5.7932) ├───────╫────────┤M├─╫──╫─\n",
       "       └────────────┘└────────────┘ └────────────┘       ║        └╥┘ ║  ║ \n",
       "c7: 4/═══════════════════════════════════════════════════╩═════════╩══╩══╩═\n",
       "                                                         2         3  0  1 </pre>"
      ],
      "text/plain": [
       "       ┌────────────┐┌────────────┐ ┌────────────┐┌──────────────┐   ┌─┐   \n",
       "q7_0: ─┤ Rx(2.1187) ├┤ Ry(3.9397) ├─┤ Rz(1.2589) ├┤0             ├───┤M├───\n",
       "      ┌┴────────────┤├────────────┤ ├────────────┤│  Rxx(4.9659) │   └╥┘┌─┐\n",
       "q7_1: ┤ Rx(0.93736) ├┤ Ry(3.6019) ├─┤ Rz(5.8618) ├┤1             ├────╫─┤M├\n",
       "      ├─────────────┤├────────────┤┌┴────────────┤└─────┬─┬──────┘    ║ └╥┘\n",
       "q7_2: ┤ Rx(0.64212) ├┤ Ry(5.0952) ├┤ Rz(0.81171) ├──────┤M├───────────╫──╫─\n",
       "      └┬────────────┤├────────────┤└┬────────────┤      └╥┘       ┌─┐ ║  ║ \n",
       "q7_3: ─┤ Rx(1.0703) ├┤ Ry(5.2902) ├─┤ Rz(5.7932) ├───────╫────────┤M├─╫──╫─\n",
       "       └────────────┘└────────────┘ └────────────┘       ║        └╥┘ ║  ║ \n",
       "c7: 4/═══════════════════════════════════════════════════╩═════════╩══╩══╩═\n",
       "                                                         2         3  0  1 "
      ]
     },
     "execution_count": 19,
     "metadata": {},
     "output_type": "execute_result"
    }
   ],
   "source": [
    "N = 4\n",
    "test1 = QuCircWithGrad(N)\n",
    "\n",
    "for i in range(N):\n",
    "    test1.add_gate('Rx',i)\n",
    "    test1.add_gate('Ry',i)\n",
    "    test1.add_gate('Rz',i)\n",
    "\n",
    "test1.add_gate('Rxx',(0,1))\n",
    "test1.construct()\n",
    "k = test1.qc\n",
    "k.draw()"
   ]
  },
  {
   "cell_type": "code",
   "execution_count": 94,
   "metadata": {},
   "outputs": [
    {
     "data": {
      "text/html": [
       "<pre style=\"word-wrap: normal;white-space: pre;background: #fff0;line-height: 1.1;font-family: &quot;Courier New&quot;,Courier,monospace\">       ┌─────────────┐┌─────────────┐┌─────────────┐┌─┐         \n",
       "q60_0: ┤ Rx(0.43649) ├┤ Ry(0.43649) ├┤ Rz(0.43649) ├┤M├─────────\n",
       "       └┬───────────┬┘└┬───────────┬┘└┬───────────┬┘└╥┘┌─┐      \n",
       "q60_1: ─┤ Rx(2/15π) ├──┤ Ry(2/15π) ├──┤ Rz(2/15π) ├──╫─┤M├──────\n",
       "        ├───────────┴┐ ├───────────┴┐ ├───────────┴┐ ║ └╥┘┌─┐   \n",
       "q60_2: ─┤ Rx(0.1006) ├─┤ Ry(0.1006) ├─┤ Rz(0.1006) ├─╫──╫─┤M├───\n",
       "       ┌┴────────────┤┌┴────────────┤┌┴────────────┤ ║  ║ └╥┘┌─┐\n",
       "q60_3: ┤ Rx(0.76906) ├┤ Ry(0.76906) ├┤ Rz(0.76906) ├─╫──╫──╫─┤M├\n",
       "       └─────────────┘└─────────────┘└─────────────┘ ║  ║  ║ └╥┘\n",
       "c37: 4/══════════════════════════════════════════════╩══╩══╩══╩═\n",
       "                                                     0  1  2  3 </pre>"
      ],
      "text/plain": [
       "       ┌─────────────┐┌─────────────┐┌─────────────┐┌─┐         \n",
       "q60_0: ┤ Rx(0.43649) ├┤ Ry(0.43649) ├┤ Rz(0.43649) ├┤M├─────────\n",
       "       └┬───────────┬┘└┬───────────┬┘└┬───────────┬┘└╥┘┌─┐      \n",
       "q60_1: ─┤ Rx(2/15π) ├──┤ Ry(2/15π) ├──┤ Rz(2/15π) ├──╫─┤M├──────\n",
       "        ├───────────┴┐ ├───────────┴┐ ├───────────┴┐ ║ └╥┘┌─┐   \n",
       "q60_2: ─┤ Rx(0.1006) ├─┤ Ry(0.1006) ├─┤ Rz(0.1006) ├─╫──╫─┤M├───\n",
       "       ┌┴────────────┤┌┴────────────┤┌┴────────────┤ ║  ║ └╥┘┌─┐\n",
       "q60_3: ┤ Rx(0.76906) ├┤ Ry(0.76906) ├┤ Rz(0.76906) ├─╫──╫──╫─┤M├\n",
       "       └─────────────┘└─────────────┘└─────────────┘ ║  ║  ║ └╥┘\n",
       "c37: 4/══════════════════════════════════════════════╩══╩══╩══╩═\n",
       "                                                     0  1  2  3 "
      ]
     },
     "execution_count": 94,
     "metadata": {},
     "output_type": "execute_result"
    }
   ],
   "source": [
    "N = 4\n",
    "q = QuantumRegister(N)\n",
    "c = ClassicalRegister(N)\n",
    "qc = QuantumCircuit(q,c)\n",
    "\n",
    "thetas = np.random.rand(3 * N)\n",
    "for i in range(N):\n",
    "    qc.rx(thetas[i] * np.pi/2,i)\n",
    "    qc.ry(thetas[i] * np.pi/2,i)\n",
    "    qc.rz(thetas[i] * np.pi/2,i)\n",
    "\n",
    "qc.measure(q,c)\n",
    "qc.draw()"
   ]
  },
  {
   "cell_type": "code",
   "execution_count": null,
   "metadata": {},
   "outputs": [],
   "source": []
  }
 ],
 "metadata": {
  "interpreter": {
   "hash": "be296274388fc6a39d7d5c375e94b0881815faaa5a1dd49e08d8c63c595f251c"
  },
  "kernelspec": {
   "display_name": "Python 3 (ipykernel)",
   "language": "python",
   "name": "python3"
  },
  "language_info": {
   "codemirror_mode": {
    "name": "ipython",
    "version": 3
   },
   "file_extension": ".py",
   "mimetype": "text/x-python",
   "name": "python",
   "nbconvert_exporter": "python",
   "pygments_lexer": "ipython3",
   "version": "3.10.2"
  }
 },
 "nbformat": 4,
 "nbformat_minor": 2
}
