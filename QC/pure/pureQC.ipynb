{
 "cells": [
  {
   "cell_type": "code",
   "execution_count": 1,
   "metadata": {},
   "outputs": [],
   "source": [
    "from QCutils import *\n",
    "import numpy as np\n",
    "import numpy as jnp"
   ]
  },
  {
   "cell_type": "code",
   "execution_count": 2,
   "metadata": {},
   "outputs": [],
   "source": [
    "N = 6\n",
    "beta = 1\n",
    "J = 0.5\n",
    "h = 0.3\n",
    "sigma_z = np.array([[1,0],[0,-1]])\n",
    "sigma_x = np.array([[0,1],[1,0]])\n",
    "sigma_y = np.array([[0,1],[1,0]])\n",
    "\n",
    "spin = np.array([0,1])\n",
    "spin_up = np.array([[1],[0]])\n",
    "spin_down= np.array([[0],[1]])"
   ]
  },
  {
   "cell_type": "code",
   "execution_count": 3,
   "metadata": {},
   "outputs": [],
   "source": [
    "#def createH(J,h)\n",
    "\n",
    "H = jnp.zeros((2**N,2**N))\n",
    "\n",
    "initLattice = jnp.kron(sigma_z,sigma_z)\n",
    "for i in range(2,N):\n",
    "    initLattice = jnp.kron(initLattice,jnp.eye(2))\n",
    "\n",
    "H += - J * initLattice\n",
    "\n",
    "for lattice_point in range(1,N-1):\n",
    "    curr = jnp.eye(2)\n",
    "    for i in range(1,lattice_point):\n",
    "        curr = jnp.kron(curr,jnp.eye(2))\n",
    "    curr = jnp.kron( jnp.kron(curr,sigma_z),sigma_z)\n",
    "    for i in range(lattice_point+2,N):\n",
    "        curr = jnp.kron(curr,jnp.eye(2))\n",
    "    \n",
    "    assert curr.shape[0] == H.shape[0]\n",
    "    \n",
    "    H += -J * curr\n",
    "\n",
    "\n",
    "initLattice = sigma_x\n",
    "for i in range(1,N):\n",
    "    initLattice = jnp.kron(initLattice,jnp.eye(2))\n",
    "\n",
    "H += - h * initLattice\n",
    "\n",
    "for lattice_point in range(1,N-1):\n",
    "    curr = jnp.eye(2)\n",
    "    for i in range(1,lattice_point):\n",
    "        curr = jnp.kron(curr,jnp.eye(2))\n",
    "    curr = jnp.kron(curr,sigma_x)\n",
    "    for i in range(lattice_point+1,N):\n",
    "        curr = jnp.kron(curr,jnp.eye(2))\n",
    "    \n",
    "    assert curr.shape[0] == H.shape[0]\n",
    "    \n",
    "    H += -h * curr\n",
    "\n",
    "H = jnp.array(H,dtype=jnp.complex128)"
   ]
  },
  {
   "cell_type": "code",
   "execution_count": 4,
   "metadata": {},
   "outputs": [],
   "source": [
    "formator = '{0:' + '0' + str(N)  +'b}'\n",
    "\n",
    "state_in_str = [formator.format(i) for i in range(2**N)]\n",
    "\n",
    "def state_to_vec(s):\n",
    "    \n",
    "    if s[0] == '1':\n",
    "        state = spin_up\n",
    "        state_mat = spin_up\n",
    "    else:\n",
    "        state = spin_down\n",
    "        state_mat = spin_down\n",
    "    \n",
    "    for curr in s[1:]:\n",
    "        if curr == '1':\n",
    "            state = np.kron(state,spin_up)\n",
    "            state_mat = np.hstack((state_mat,spin_up))\n",
    "        else:\n",
    "            state = np.kron(state,spin_down)\n",
    "            state_mat = np.hstack((state_mat,spin_down))\n",
    "    \n",
    "    return state,state_mat\n",
    "\n",
    "stateDict = dict()\n",
    "for s in state_in_str:\n",
    "    stateDict[s] = state_to_vec(s)[0]\n"
   ]
  },
  {
   "cell_type": "code",
   "execution_count": 5,
   "metadata": {},
   "outputs": [],
   "source": [
    "q = QuantumRegister(N)\n",
    "c = ClassicalRegister(N)\n",
    "qc = QuantumCircuit(q,c)\n",
    "\n",
    "thetas = np.random.rand(3 * N)\n",
    "for i in range(N):\n",
    "    qc.rx(thetas[i] * np.pi/2,i)\n",
    "    qc.ry(thetas[i] * np.pi/2,i)\n",
    "    qc.rz(thetas[i] * np.pi/2,i)\n",
    "\n",
    "qc.measure(q,c)\n",
    "backend = Aer.get_backend('qasm_simulator')\n",
    "job = execute(qc, backend, shots=1000)\n",
    "QCresult = job.result().get_counts(qc)"
   ]
  },
  {
   "cell_type": "code",
   "execution_count": 6,
   "metadata": {},
   "outputs": [],
   "source": [
    "def FCostFunc(QCresult):\n",
    "    estF = 0\n",
    "    for key in QCresult.keys():\n",
    "        state = stateDict[key]\n",
    "        prob = QCresult[key] / QuCircWithGrad.simShots\n",
    "        estF += prob * (np.log(prob) + beta * state.T @ H @ state)\n",
    "    return estF[0][0]\n"
   ]
  },
  {
   "cell_type": "code",
   "execution_count": 7,
   "metadata": {},
   "outputs": [],
   "source": [
    "test1 = QuCircWithGrad(N)\n",
    "\n",
    "for i in range(N):\n",
    "    test1.add_gate('Rx',i)\n",
    "\n",
    "for i in range(4):\n",
    "    for i in range(N-1):\n",
    "        test1.add_gate('Rxx',(i,i+1))\n",
    "        test1.add_gate('Ryy',(i,i+1))\n",
    "        test1.add_gate('Rzz',(i,i+1))\n",
    "\n",
    "    for j in range(N-1):\n",
    "        i = (N-2 - i)\n",
    "        test1.add_gate('Rxx',(i,i+1))\n",
    "        test1.add_gate('Ryy',(i,i+1))\n",
    "        test1.add_gate('Rzz',(i,i+1))"
   ]
  },
  {
   "cell_type": "code",
   "execution_count": 8,
   "metadata": {},
   "outputs": [
    {
     "name": "stderr",
     "output_type": "stream",
     "text": [
      "/home/qwe/MLPhys/QC/pure/QCutils.py:97: ComplexWarning: Casting complex values to real discards the imaginary part\n",
      "  thetaGrad[i] = grad1\n"
     ]
    },
    {
     "data": {
      "text/plain": [
       "((-3.6352642524765484+0j),\n",
       " array([-0.08348307,  0.19248107,  0.05552566, -0.07757359,  0.00179987,\n",
       "        -0.13073542,  0.15359113, -0.01545523, -0.06794485, -0.12005781,\n",
       "        -0.11582725,  0.07294065, -0.16237886, -0.02708733,  0.11779016,\n",
       "         0.05833866,  0.19868836,  0.08594824,  0.1405052 , -0.08573416,\n",
       "        -0.03087916,  0.1245387 , -0.00421854, -0.02670766,  0.18899885,\n",
       "        -0.04953069, -0.02045867,  0.08101231, -0.03079402,  0.00221324,\n",
       "         0.15019174,  0.00575936,  0.01146705,  0.09753987,  0.03585808,\n",
       "        -0.02949723,  0.0731844 , -0.02723611, -0.00276052, -0.02498571,\n",
       "        -0.12281997,  0.10138373, -0.07145718, -0.22798783, -0.1850007 ,\n",
       "         0.0551506 , -0.03379632, -0.01592876, -0.0376846 ,  0.09818481,\n",
       "        -0.06217582,  0.007696  , -0.05286841,  0.17694144,  0.01169768,\n",
       "         0.02573217, -0.11680773, -0.0121377 , -0.03233453,  0.20140669,\n",
       "        -0.01311284,  0.03250005, -0.06562012, -0.04795133, -0.03560628,\n",
       "         0.19315571,  0.01542231, -0.0534485 ,  0.16347911,  0.05947688,\n",
       "        -0.06453529,  0.01702054, -0.32340914,  0.05986364, -0.02613621,\n",
       "         0.08011448, -0.13879858, -0.04187709,  0.05603644, -0.19849452,\n",
       "         0.01454634, -0.09220762, -0.04199891,  0.15564726,  0.04651559,\n",
       "        -0.2363169 , -0.02437666, -0.14411203, -0.091358  ,  0.22336395,\n",
       "         0.0836216 , -0.17315983, -0.01726122, -0.03771559, -0.03958116,\n",
       "         0.21309285, -0.09158332, -0.07174334,  0.20619032, -0.25206695,\n",
       "         0.09234917, -0.065452  , -0.0468309 , -0.16001533, -0.16405985,\n",
       "         0.20087775, -0.00570004, -0.07543841, -0.02773935, -0.12339858,\n",
       "         0.01528423, -0.03347694,  0.11282468,  0.01962656, -0.08737156,\n",
       "        -0.07519723, -0.0128062 , -0.01352795,  0.10476067,  0.01131612,\n",
       "        -0.06506775, -0.05075718, -0.01740933, -0.05218115,  0.08030227,\n",
       "         0.02680189]))"
      ]
     },
     "execution_count": 8,
     "metadata": {},
     "output_type": "execute_result"
    }
   ],
   "source": [
    "test1.setCostFun(FCostFunc)\n",
    "test1.construct()\n",
    "test1.calc(),test1.getThetaGrad()"
   ]
  },
  {
   "cell_type": "code",
   "execution_count": 9,
   "metadata": {},
   "outputs": [],
   "source": [
    "def ValandGrad(thetas):\n",
    "    test1.updateThetas(thetas)\n",
    "    return test1.calc(), test1.getThetaGrad()"
   ]
  },
  {
   "cell_type": "code",
   "execution_count": 10,
   "metadata": {},
   "outputs": [
    {
     "name": "stderr",
     "output_type": "stream",
     "text": [
      "/home/qwe/miniconda3/envs/qi/lib/python3.9/site-packages/scipy/optimize/_lbfgsb_py.py:353: ComplexWarning: Casting complex values to real discards the imaginary part\n",
      "  _lbfgsb.setulb(m, x, low_bnd, upper_bnd, nbd, f, g, factr,\n"
     ]
    },
    {
     "name": "stdout",
     "output_type": "stream",
     "text": [
      "success: True \n",
      "niterations: 5 \n",
      "final loss: (-4.38049675102553+0j)\n"
     ]
    }
   ],
   "source": [
    "import scipy.optimize\n",
    "initThetas = 2* np.pi * np.random.rand(test1.size())\n",
    "results = scipy.optimize.minimize(ValandGrad, initThetas,\n",
    "                                  method='L-BFGS-B', jac=True)\n",
    "print(\"success:\", results.success, \"\\nniterations:\", results.nit, \"\\nfinal loss:\", results.fun)"
   ]
  },
  {
   "cell_type": "code",
   "execution_count": 11,
   "metadata": {},
   "outputs": [
    {
     "data": {
      "text/plain": [
       "(-4.9530060181077005-0j)"
      ]
     },
     "execution_count": 11,
     "metadata": {},
     "output_type": "execute_result"
    }
   ],
   "source": [
    "from scipy.linalg import expm\n",
    "-np.log(np.trace(expm(- beta * H)))"
   ]
  },
  {
   "cell_type": "code",
   "execution_count": 21,
   "metadata": {},
   "outputs": [
    {
     "name": "stderr",
     "output_type": "stream",
     "text": [
      "/tmp/ipykernel_10766/1987415637.py:9: ComplexWarning: Casting complex values to real discards the imaginary part\n",
      "  record[i] = test1.calc()\n"
     ]
    }
   ],
   "source": [
    "learningRate = 0.05\n",
    "maxStep = 100\n",
    "record = np.zeros(maxStep)\n",
    "\n",
    "thetas = 2* np.pi * np.random.rand(test1.size())\n",
    "\n",
    "for i in range(maxStep):\n",
    "    test1.updateThetas(thetas)\n",
    "    record[i] = test1.calc()\n",
    "    dTheta = test1.getThetaGrad()\n",
    "    thetas -= learningRate * dTheta"
   ]
  },
  {
   "cell_type": "code",
   "execution_count": 16,
   "metadata": {},
   "outputs": [
    {
     "data": {
      "text/plain": [
       "-1.9857282192311847"
      ]
     },
     "execution_count": 16,
     "metadata": {},
     "output_type": "execute_result"
    }
   ],
   "source": [
    "record[record != 0][0]"
   ]
  },
  {
   "cell_type": "code",
   "execution_count": 9,
   "metadata": {},
   "outputs": [],
   "source": [
    "r = 0.5\n",
    "circList = test1.genGradCircList()\n",
    "thetaGrad = np.zeros(test1.size())"
   ]
  },
  {
   "cell_type": "code",
   "execution_count": 10,
   "metadata": {},
   "outputs": [],
   "source": [
    "circPlus, circMinus = circList[1]"
   ]
  },
  {
   "cell_type": "code",
   "execution_count": 15,
   "metadata": {},
   "outputs": [
    {
     "data": {
      "text/plain": [
       "(-0.276411996093495+0j)"
      ]
     },
     "execution_count": 15,
     "metadata": {},
     "output_type": "execute_result"
    }
   ],
   "source": [
    "grad1 = r * (circPlus.calc() - circMinus.calc())\n",
    "grad1[0][0]"
   ]
  },
  {
   "cell_type": "code",
   "execution_count": 11,
   "metadata": {},
   "outputs": [],
   "source": [
    "circPlus, circMinus = circList[1]\n",
    "grad1 = r * (circPlus.calc() - circMinus.calc())\n",
    "thetaGrad[1] = grad1\n"
   ]
  },
  {
   "cell_type": "code",
   "execution_count": 9,
   "metadata": {},
   "outputs": [],
   "source": [
    "lst = test1.genGradCircList()"
   ]
  },
  {
   "cell_type": "code",
   "execution_count": 12,
   "metadata": {},
   "outputs": [],
   "source": [
    "len(lst)\n",
    "circPlus, circMinus = lst[0]"
   ]
  },
  {
   "cell_type": "code",
   "execution_count": 16,
   "metadata": {},
   "outputs": [
    {
     "name": "stderr",
     "output_type": "stream",
     "text": [
      "/Users/qwe/miniforge3/envs/qi/lib/python3.10/site-packages/numpy/linalg/linalg.py:2146: RuntimeWarning: divide by zero encountered in det\n",
      "  r = _umath_linalg.det(a, signature=signature)\n",
      "/Users/qwe/miniforge3/envs/qi/lib/python3.10/site-packages/numpy/linalg/linalg.py:2146: RuntimeWarning: invalid value encountered in det\n",
      "  r = _umath_linalg.det(a, signature=signature)\n"
     ]
    },
    {
     "data": {
      "text/plain": [
       "array([[-0.01312868+0.j]])"
      ]
     },
     "execution_count": 16,
     "metadata": {},
     "output_type": "execute_result"
    }
   ],
   "source": [
    "circMinus.calc()\n",
    "grad = 0.5 * (circPlus.calc() - circMinus.calc())\n",
    "grad"
   ]
  },
  {
   "cell_type": "code",
   "execution_count": null,
   "metadata": {},
   "outputs": [],
   "source": [
    "test1.getThetaGrad()"
   ]
  }
 ],
 "metadata": {
  "interpreter": {
   "hash": "be296274388fc6a39d7d5c375e94b0881815faaa5a1dd49e08d8c63c595f251c"
  },
  "kernelspec": {
   "display_name": "Python 3.10.2 ('qi')",
   "language": "python",
   "name": "python3"
  },
  "language_info": {
   "codemirror_mode": {
    "name": "ipython",
    "version": 3
   },
   "file_extension": ".py",
   "mimetype": "text/x-python",
   "name": "python",
   "nbconvert_exporter": "python",
   "pygments_lexer": "ipython3",
   "version": "3.10.2"
  },
  "orig_nbformat": 4
 },
 "nbformat": 4,
 "nbformat_minor": 2
}
