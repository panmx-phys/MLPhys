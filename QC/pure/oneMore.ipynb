{
 "cells": [
  {
   "cell_type": "code",
   "execution_count": 1,
   "metadata": {},
   "outputs": [],
   "source": [
    "from QCutils import *\n",
    "from Database.QCDB import *\n",
    "import numpy as np\n",
    "import numpy as jnp"
   ]
  },
  {
   "cell_type": "code",
   "execution_count": 2,
   "metadata": {},
   "outputs": [],
   "source": [
    "N = 6\n",
    "beta = 1\n",
    "J = 0.5\n",
    "h = 0.3"
   ]
  },
  {
   "cell_type": "code",
   "execution_count": 3,
   "metadata": {},
   "outputs": [],
   "source": [
    "#def createH(J,h)\n",
    "\n",
    "H = jnp.zeros((2**N,2**N))\n",
    "\n",
    "initLattice = jnp.kron(sigma_z,sigma_z)\n",
    "for i in range(2,N):\n",
    "    initLattice = jnp.kron(initLattice,jnp.eye(2))\n",
    "\n",
    "H += - J * initLattice\n",
    "\n",
    "for lattice_point in range(1,N-1):\n",
    "    curr = jnp.eye(2)\n",
    "    for i in range(1,lattice_point):\n",
    "        curr = jnp.kron(curr,jnp.eye(2))\n",
    "    curr = jnp.kron( jnp.kron(curr,sigma_z),sigma_z)\n",
    "    for i in range(lattice_point+2,N):\n",
    "        curr = jnp.kron(curr,jnp.eye(2))\n",
    "    \n",
    "    assert curr.shape[0] == H.shape[0]\n",
    "    \n",
    "    H += -J * curr\n",
    "\n",
    "\n",
    "initLattice = sigma_x\n",
    "for i in range(1,N):\n",
    "    initLattice = jnp.kron(initLattice,jnp.eye(2))\n",
    "\n",
    "H += - h * initLattice\n",
    "\n",
    "for lattice_point in range(1,N-1):\n",
    "    curr = jnp.eye(2)\n",
    "    for i in range(1,lattice_point):\n",
    "        curr = jnp.kron(curr,jnp.eye(2))\n",
    "    curr = jnp.kron(curr,sigma_x)\n",
    "    for i in range(lattice_point+1,N):\n",
    "        curr = jnp.kron(curr,jnp.eye(2))\n",
    "    \n",
    "    assert curr.shape[0] == H.shape[0]\n",
    "    \n",
    "    H += -h * curr\n",
    "\n",
    "H = jnp.array(H,dtype=jnp.complex128)"
   ]
  },
  {
   "cell_type": "code",
   "execution_count": 4,
   "metadata": {},
   "outputs": [],
   "source": [
    "test1 = oneMoreCirc(N)\n",
    "test1.setHamiltonian(H)\n",
    "test1.setBeta(beta)"
   ]
  },
  {
   "cell_type": "code",
   "execution_count": 5,
   "metadata": {},
   "outputs": [],
   "source": [
    "for layer in range(4):\n",
    "    for i in range(N-1):\n",
    "        test1.add_Arbitrary_gate((i,i+1))\n",
    "    for j in range(N-1):\n",
    "        i = (N-2 - j)\n",
    "        test1.add_Arbitrary_gate((i,i+1))"
   ]
  },
  {
   "cell_type": "code",
   "execution_count": 6,
   "metadata": {},
   "outputs": [],
   "source": [
    "test1.construct()"
   ]
  },
  {
   "cell_type": "code",
   "execution_count": 7,
   "metadata": {},
   "outputs": [],
   "source": [
    "def ValandGrad(thetas):\n",
    "    test1.updateThetas(thetas)\n",
    "    return test1.calc(), test1.getThetaGrad()"
   ]
  },
  {
   "cell_type": "code",
   "execution_count": 8,
   "metadata": {},
   "outputs": [
    {
     "name": "stderr",
     "output_type": "stream",
     "text": [
      "/Users/qwe/miniforge3/envs/qi/lib/python3.10/site-packages/numpy/linalg/linalg.py:2146: RuntimeWarning: divide by zero encountered in det\n",
      "  r = _umath_linalg.det(a, signature=signature)\n",
      "/Users/qwe/miniforge3/envs/qi/lib/python3.10/site-packages/numpy/linalg/linalg.py:2146: RuntimeWarning: invalid value encountered in det\n",
      "  r = _umath_linalg.det(a, signature=signature)\n",
      "/Users/qwe/MLPhys/QC/pure/QCutils.py:158: ComplexWarning: Casting complex values to real discards the imaginary part\n",
      "  thetaGrad[i] = grad1\n",
      "/Users/qwe/miniforge3/envs/qi/lib/python3.10/site-packages/scipy/optimize/_lbfgsb_py.py:353: ComplexWarning: Casting complex values to real discards the imaginary part\n",
      "  _lbfgsb.setulb(m, x, low_bnd, upper_bnd, nbd, f, g, factr,\n"
     ]
    },
    {
     "ename": "KeyboardInterrupt",
     "evalue": "",
     "output_type": "error",
     "traceback": [
      "\u001b[0;31m---------------------------------------------------------------------------\u001b[0m",
      "\u001b[0;31mKeyboardInterrupt\u001b[0m                         Traceback (most recent call last)",
      "\u001b[1;32m/Users/qwe/MLPhys/QC/pure/oneMore.ipynb Cell 8'\u001b[0m in \u001b[0;36m<module>\u001b[0;34m\u001b[0m\n\u001b[1;32m      <a href='vscode-notebook-cell:/Users/qwe/MLPhys/QC/pure/oneMore.ipynb#ch0000009?line=0'>1</a>\u001b[0m \u001b[39mimport\u001b[39;00m \u001b[39mscipy\u001b[39;00m\u001b[39m.\u001b[39;00m\u001b[39moptimize\u001b[39;00m\n\u001b[1;32m      <a href='vscode-notebook-cell:/Users/qwe/MLPhys/QC/pure/oneMore.ipynb#ch0000009?line=1'>2</a>\u001b[0m initThetas \u001b[39m=\u001b[39m \u001b[39m2\u001b[39m\u001b[39m*\u001b[39m np\u001b[39m.\u001b[39mpi \u001b[39m*\u001b[39m np\u001b[39m.\u001b[39mrandom\u001b[39m.\u001b[39mrand(test1\u001b[39m.\u001b[39msize())\n\u001b[0;32m----> <a href='vscode-notebook-cell:/Users/qwe/MLPhys/QC/pure/oneMore.ipynb#ch0000009?line=2'>3</a>\u001b[0m results \u001b[39m=\u001b[39m scipy\u001b[39m.\u001b[39;49moptimize\u001b[39m.\u001b[39;49mminimize(ValandGrad, initThetas,\n\u001b[1;32m      <a href='vscode-notebook-cell:/Users/qwe/MLPhys/QC/pure/oneMore.ipynb#ch0000009?line=3'>4</a>\u001b[0m                                   method\u001b[39m=\u001b[39;49m\u001b[39m'\u001b[39;49m\u001b[39mL-BFGS-B\u001b[39;49m\u001b[39m'\u001b[39;49m, jac\u001b[39m=\u001b[39;49m\u001b[39mTrue\u001b[39;49;00m)\n\u001b[1;32m      <a href='vscode-notebook-cell:/Users/qwe/MLPhys/QC/pure/oneMore.ipynb#ch0000009?line=4'>5</a>\u001b[0m \u001b[39mprint\u001b[39m(\u001b[39m\"\u001b[39m\u001b[39msuccess:\u001b[39m\u001b[39m\"\u001b[39m, results\u001b[39m.\u001b[39msuccess, \u001b[39m\"\u001b[39m\u001b[39m\\n\u001b[39;00m\u001b[39mniterations:\u001b[39m\u001b[39m\"\u001b[39m, results\u001b[39m.\u001b[39mnit, \u001b[39m\"\u001b[39m\u001b[39m\\n\u001b[39;00m\u001b[39mfinal loss:\u001b[39m\u001b[39m\"\u001b[39m, results\u001b[39m.\u001b[39mfun)\n",
      "File \u001b[0;32m~/miniforge3/envs/qi/lib/python3.10/site-packages/scipy/optimize/_minimize.py:681\u001b[0m, in \u001b[0;36mminimize\u001b[0;34m(fun, x0, args, method, jac, hess, hessp, bounds, constraints, tol, callback, options)\u001b[0m\n\u001b[1;32m    <a href='file:///Users/qwe/miniforge3/envs/qi/lib/python3.10/site-packages/scipy/optimize/_minimize.py?line=677'>678</a>\u001b[0m     res \u001b[39m=\u001b[39m _minimize_newtoncg(fun, x0, args, jac, hess, hessp, callback,\n\u001b[1;32m    <a href='file:///Users/qwe/miniforge3/envs/qi/lib/python3.10/site-packages/scipy/optimize/_minimize.py?line=678'>679</a>\u001b[0m                              \u001b[39m*\u001b[39m\u001b[39m*\u001b[39moptions)\n\u001b[1;32m    <a href='file:///Users/qwe/miniforge3/envs/qi/lib/python3.10/site-packages/scipy/optimize/_minimize.py?line=679'>680</a>\u001b[0m \u001b[39melif\u001b[39;00m meth \u001b[39m==\u001b[39m \u001b[39m'\u001b[39m\u001b[39ml-bfgs-b\u001b[39m\u001b[39m'\u001b[39m:\n\u001b[0;32m--> <a href='file:///Users/qwe/miniforge3/envs/qi/lib/python3.10/site-packages/scipy/optimize/_minimize.py?line=680'>681</a>\u001b[0m     res \u001b[39m=\u001b[39m _minimize_lbfgsb(fun, x0, args, jac, bounds,\n\u001b[1;32m    <a href='file:///Users/qwe/miniforge3/envs/qi/lib/python3.10/site-packages/scipy/optimize/_minimize.py?line=681'>682</a>\u001b[0m                            callback\u001b[39m=\u001b[39;49mcallback, \u001b[39m*\u001b[39;49m\u001b[39m*\u001b[39;49moptions)\n\u001b[1;32m    <a href='file:///Users/qwe/miniforge3/envs/qi/lib/python3.10/site-packages/scipy/optimize/_minimize.py?line=682'>683</a>\u001b[0m \u001b[39melif\u001b[39;00m meth \u001b[39m==\u001b[39m \u001b[39m'\u001b[39m\u001b[39mtnc\u001b[39m\u001b[39m'\u001b[39m:\n\u001b[1;32m    <a href='file:///Users/qwe/miniforge3/envs/qi/lib/python3.10/site-packages/scipy/optimize/_minimize.py?line=683'>684</a>\u001b[0m     res \u001b[39m=\u001b[39m _minimize_tnc(fun, x0, args, jac, bounds, callback\u001b[39m=\u001b[39mcallback,\n\u001b[1;32m    <a href='file:///Users/qwe/miniforge3/envs/qi/lib/python3.10/site-packages/scipy/optimize/_minimize.py?line=684'>685</a>\u001b[0m                         \u001b[39m*\u001b[39m\u001b[39m*\u001b[39moptions)\n",
      "File \u001b[0;32m~/miniforge3/envs/qi/lib/python3.10/site-packages/scipy/optimize/_lbfgsb_py.py:362\u001b[0m, in \u001b[0;36m_minimize_lbfgsb\u001b[0;34m(fun, x0, args, jac, bounds, disp, maxcor, ftol, gtol, eps, maxfun, maxiter, iprint, callback, maxls, finite_diff_rel_step, **unknown_options)\u001b[0m\n\u001b[1;32m    <a href='file:///Users/qwe/miniforge3/envs/qi/lib/python3.10/site-packages/scipy/optimize/_lbfgsb_py.py?line=355'>356</a>\u001b[0m task_str \u001b[39m=\u001b[39m task\u001b[39m.\u001b[39mtobytes()\n\u001b[1;32m    <a href='file:///Users/qwe/miniforge3/envs/qi/lib/python3.10/site-packages/scipy/optimize/_lbfgsb_py.py?line=356'>357</a>\u001b[0m \u001b[39mif\u001b[39;00m task_str\u001b[39m.\u001b[39mstartswith(\u001b[39mb\u001b[39m\u001b[39m'\u001b[39m\u001b[39mFG\u001b[39m\u001b[39m'\u001b[39m):\n\u001b[1;32m    <a href='file:///Users/qwe/miniforge3/envs/qi/lib/python3.10/site-packages/scipy/optimize/_lbfgsb_py.py?line=357'>358</a>\u001b[0m     \u001b[39m# The minimization routine wants f and g at the current x.\u001b[39;00m\n\u001b[1;32m    <a href='file:///Users/qwe/miniforge3/envs/qi/lib/python3.10/site-packages/scipy/optimize/_lbfgsb_py.py?line=358'>359</a>\u001b[0m     \u001b[39m# Note that interruptions due to maxfun are postponed\u001b[39;00m\n\u001b[1;32m    <a href='file:///Users/qwe/miniforge3/envs/qi/lib/python3.10/site-packages/scipy/optimize/_lbfgsb_py.py?line=359'>360</a>\u001b[0m     \u001b[39m# until the completion of the current minimization iteration.\u001b[39;00m\n\u001b[1;32m    <a href='file:///Users/qwe/miniforge3/envs/qi/lib/python3.10/site-packages/scipy/optimize/_lbfgsb_py.py?line=360'>361</a>\u001b[0m     \u001b[39m# Overwrite f and g:\u001b[39;00m\n\u001b[0;32m--> <a href='file:///Users/qwe/miniforge3/envs/qi/lib/python3.10/site-packages/scipy/optimize/_lbfgsb_py.py?line=361'>362</a>\u001b[0m     f, g \u001b[39m=\u001b[39m func_and_grad(x)\n\u001b[1;32m    <a href='file:///Users/qwe/miniforge3/envs/qi/lib/python3.10/site-packages/scipy/optimize/_lbfgsb_py.py?line=362'>363</a>\u001b[0m \u001b[39melif\u001b[39;00m task_str\u001b[39m.\u001b[39mstartswith(\u001b[39mb\u001b[39m\u001b[39m'\u001b[39m\u001b[39mNEW_X\u001b[39m\u001b[39m'\u001b[39m):\n\u001b[1;32m    <a href='file:///Users/qwe/miniforge3/envs/qi/lib/python3.10/site-packages/scipy/optimize/_lbfgsb_py.py?line=363'>364</a>\u001b[0m     \u001b[39m# new iteration\u001b[39;00m\n\u001b[1;32m    <a href='file:///Users/qwe/miniforge3/envs/qi/lib/python3.10/site-packages/scipy/optimize/_lbfgsb_py.py?line=364'>365</a>\u001b[0m     n_iterations \u001b[39m+\u001b[39m\u001b[39m=\u001b[39m \u001b[39m1\u001b[39m\n",
      "File \u001b[0;32m~/miniforge3/envs/qi/lib/python3.10/site-packages/scipy/optimize/_differentiable_functions.py:285\u001b[0m, in \u001b[0;36mScalarFunction.fun_and_grad\u001b[0;34m(self, x)\u001b[0m\n\u001b[1;32m    <a href='file:///Users/qwe/miniforge3/envs/qi/lib/python3.10/site-packages/scipy/optimize/_differentiable_functions.py?line=282'>283</a>\u001b[0m \u001b[39mif\u001b[39;00m \u001b[39mnot\u001b[39;00m np\u001b[39m.\u001b[39marray_equal(x, \u001b[39mself\u001b[39m\u001b[39m.\u001b[39mx):\n\u001b[1;32m    <a href='file:///Users/qwe/miniforge3/envs/qi/lib/python3.10/site-packages/scipy/optimize/_differentiable_functions.py?line=283'>284</a>\u001b[0m     \u001b[39mself\u001b[39m\u001b[39m.\u001b[39m_update_x_impl(x)\n\u001b[0;32m--> <a href='file:///Users/qwe/miniforge3/envs/qi/lib/python3.10/site-packages/scipy/optimize/_differentiable_functions.py?line=284'>285</a>\u001b[0m \u001b[39mself\u001b[39;49m\u001b[39m.\u001b[39;49m_update_fun()\n\u001b[1;32m    <a href='file:///Users/qwe/miniforge3/envs/qi/lib/python3.10/site-packages/scipy/optimize/_differentiable_functions.py?line=285'>286</a>\u001b[0m \u001b[39mself\u001b[39m\u001b[39m.\u001b[39m_update_grad()\n\u001b[1;32m    <a href='file:///Users/qwe/miniforge3/envs/qi/lib/python3.10/site-packages/scipy/optimize/_differentiable_functions.py?line=286'>287</a>\u001b[0m \u001b[39mreturn\u001b[39;00m \u001b[39mself\u001b[39m\u001b[39m.\u001b[39mf, \u001b[39mself\u001b[39m\u001b[39m.\u001b[39mg\n",
      "File \u001b[0;32m~/miniforge3/envs/qi/lib/python3.10/site-packages/scipy/optimize/_differentiable_functions.py:251\u001b[0m, in \u001b[0;36mScalarFunction._update_fun\u001b[0;34m(self)\u001b[0m\n\u001b[1;32m    <a href='file:///Users/qwe/miniforge3/envs/qi/lib/python3.10/site-packages/scipy/optimize/_differentiable_functions.py?line=248'>249</a>\u001b[0m \u001b[39mdef\u001b[39;00m \u001b[39m_update_fun\u001b[39m(\u001b[39mself\u001b[39m):\n\u001b[1;32m    <a href='file:///Users/qwe/miniforge3/envs/qi/lib/python3.10/site-packages/scipy/optimize/_differentiable_functions.py?line=249'>250</a>\u001b[0m     \u001b[39mif\u001b[39;00m \u001b[39mnot\u001b[39;00m \u001b[39mself\u001b[39m\u001b[39m.\u001b[39mf_updated:\n\u001b[0;32m--> <a href='file:///Users/qwe/miniforge3/envs/qi/lib/python3.10/site-packages/scipy/optimize/_differentiable_functions.py?line=250'>251</a>\u001b[0m         \u001b[39mself\u001b[39;49m\u001b[39m.\u001b[39;49m_update_fun_impl()\n\u001b[1;32m    <a href='file:///Users/qwe/miniforge3/envs/qi/lib/python3.10/site-packages/scipy/optimize/_differentiable_functions.py?line=251'>252</a>\u001b[0m         \u001b[39mself\u001b[39m\u001b[39m.\u001b[39mf_updated \u001b[39m=\u001b[39m \u001b[39mTrue\u001b[39;00m\n",
      "File \u001b[0;32m~/miniforge3/envs/qi/lib/python3.10/site-packages/scipy/optimize/_differentiable_functions.py:155\u001b[0m, in \u001b[0;36mScalarFunction.__init__.<locals>.update_fun\u001b[0;34m()\u001b[0m\n\u001b[1;32m    <a href='file:///Users/qwe/miniforge3/envs/qi/lib/python3.10/site-packages/scipy/optimize/_differentiable_functions.py?line=153'>154</a>\u001b[0m \u001b[39mdef\u001b[39;00m \u001b[39mupdate_fun\u001b[39m():\n\u001b[0;32m--> <a href='file:///Users/qwe/miniforge3/envs/qi/lib/python3.10/site-packages/scipy/optimize/_differentiable_functions.py?line=154'>155</a>\u001b[0m     \u001b[39mself\u001b[39m\u001b[39m.\u001b[39mf \u001b[39m=\u001b[39m fun_wrapped(\u001b[39mself\u001b[39;49m\u001b[39m.\u001b[39;49mx)\n",
      "File \u001b[0;32m~/miniforge3/envs/qi/lib/python3.10/site-packages/scipy/optimize/_differentiable_functions.py:137\u001b[0m, in \u001b[0;36mScalarFunction.__init__.<locals>.fun_wrapped\u001b[0;34m(x)\u001b[0m\n\u001b[1;32m    <a href='file:///Users/qwe/miniforge3/envs/qi/lib/python3.10/site-packages/scipy/optimize/_differentiable_functions.py?line=132'>133</a>\u001b[0m \u001b[39mself\u001b[39m\u001b[39m.\u001b[39mnfev \u001b[39m+\u001b[39m\u001b[39m=\u001b[39m \u001b[39m1\u001b[39m\n\u001b[1;32m    <a href='file:///Users/qwe/miniforge3/envs/qi/lib/python3.10/site-packages/scipy/optimize/_differentiable_functions.py?line=133'>134</a>\u001b[0m \u001b[39m# Send a copy because the user may overwrite it.\u001b[39;00m\n\u001b[1;32m    <a href='file:///Users/qwe/miniforge3/envs/qi/lib/python3.10/site-packages/scipy/optimize/_differentiable_functions.py?line=134'>135</a>\u001b[0m \u001b[39m# Overwriting results in undefined behaviour because\u001b[39;00m\n\u001b[1;32m    <a href='file:///Users/qwe/miniforge3/envs/qi/lib/python3.10/site-packages/scipy/optimize/_differentiable_functions.py?line=135'>136</a>\u001b[0m \u001b[39m# fun(self.x) will change self.x, with the two no longer linked.\u001b[39;00m\n\u001b[0;32m--> <a href='file:///Users/qwe/miniforge3/envs/qi/lib/python3.10/site-packages/scipy/optimize/_differentiable_functions.py?line=136'>137</a>\u001b[0m fx \u001b[39m=\u001b[39m fun(np\u001b[39m.\u001b[39;49mcopy(x), \u001b[39m*\u001b[39;49margs)\n\u001b[1;32m    <a href='file:///Users/qwe/miniforge3/envs/qi/lib/python3.10/site-packages/scipy/optimize/_differentiable_functions.py?line=137'>138</a>\u001b[0m \u001b[39m# Make sure the function returns a true scalar\u001b[39;00m\n\u001b[1;32m    <a href='file:///Users/qwe/miniforge3/envs/qi/lib/python3.10/site-packages/scipy/optimize/_differentiable_functions.py?line=138'>139</a>\u001b[0m \u001b[39mif\u001b[39;00m \u001b[39mnot\u001b[39;00m np\u001b[39m.\u001b[39misscalar(fx):\n",
      "File \u001b[0;32m~/miniforge3/envs/qi/lib/python3.10/site-packages/scipy/optimize/_optimize.py:76\u001b[0m, in \u001b[0;36mMemoizeJac.__call__\u001b[0;34m(self, x, *args)\u001b[0m\n\u001b[1;32m     <a href='file:///Users/qwe/miniforge3/envs/qi/lib/python3.10/site-packages/scipy/optimize/_optimize.py?line=73'>74</a>\u001b[0m \u001b[39mdef\u001b[39;00m \u001b[39m__call__\u001b[39m(\u001b[39mself\u001b[39m, x, \u001b[39m*\u001b[39margs):\n\u001b[1;32m     <a href='file:///Users/qwe/miniforge3/envs/qi/lib/python3.10/site-packages/scipy/optimize/_optimize.py?line=74'>75</a>\u001b[0m     \u001b[39m\"\"\" returns the the function value \"\"\"\u001b[39;00m\n\u001b[0;32m---> <a href='file:///Users/qwe/miniforge3/envs/qi/lib/python3.10/site-packages/scipy/optimize/_optimize.py?line=75'>76</a>\u001b[0m     \u001b[39mself\u001b[39;49m\u001b[39m.\u001b[39;49m_compute_if_needed(x, \u001b[39m*\u001b[39;49margs)\n\u001b[1;32m     <a href='file:///Users/qwe/miniforge3/envs/qi/lib/python3.10/site-packages/scipy/optimize/_optimize.py?line=76'>77</a>\u001b[0m     \u001b[39mreturn\u001b[39;00m \u001b[39mself\u001b[39m\u001b[39m.\u001b[39m_value\n",
      "File \u001b[0;32m~/miniforge3/envs/qi/lib/python3.10/site-packages/scipy/optimize/_optimize.py:70\u001b[0m, in \u001b[0;36mMemoizeJac._compute_if_needed\u001b[0;34m(self, x, *args)\u001b[0m\n\u001b[1;32m     <a href='file:///Users/qwe/miniforge3/envs/qi/lib/python3.10/site-packages/scipy/optimize/_optimize.py?line=67'>68</a>\u001b[0m \u001b[39mif\u001b[39;00m \u001b[39mnot\u001b[39;00m np\u001b[39m.\u001b[39mall(x \u001b[39m==\u001b[39m \u001b[39mself\u001b[39m\u001b[39m.\u001b[39mx) \u001b[39mor\u001b[39;00m \u001b[39mself\u001b[39m\u001b[39m.\u001b[39m_value \u001b[39mis\u001b[39;00m \u001b[39mNone\u001b[39;00m \u001b[39mor\u001b[39;00m \u001b[39mself\u001b[39m\u001b[39m.\u001b[39mjac \u001b[39mis\u001b[39;00m \u001b[39mNone\u001b[39;00m:\n\u001b[1;32m     <a href='file:///Users/qwe/miniforge3/envs/qi/lib/python3.10/site-packages/scipy/optimize/_optimize.py?line=68'>69</a>\u001b[0m     \u001b[39mself\u001b[39m\u001b[39m.\u001b[39mx \u001b[39m=\u001b[39m np\u001b[39m.\u001b[39masarray(x)\u001b[39m.\u001b[39mcopy()\n\u001b[0;32m---> <a href='file:///Users/qwe/miniforge3/envs/qi/lib/python3.10/site-packages/scipy/optimize/_optimize.py?line=69'>70</a>\u001b[0m     fg \u001b[39m=\u001b[39m \u001b[39mself\u001b[39;49m\u001b[39m.\u001b[39;49mfun(x, \u001b[39m*\u001b[39;49margs)\n\u001b[1;32m     <a href='file:///Users/qwe/miniforge3/envs/qi/lib/python3.10/site-packages/scipy/optimize/_optimize.py?line=70'>71</a>\u001b[0m     \u001b[39mself\u001b[39m\u001b[39m.\u001b[39mjac \u001b[39m=\u001b[39m fg[\u001b[39m1\u001b[39m]\n\u001b[1;32m     <a href='file:///Users/qwe/miniforge3/envs/qi/lib/python3.10/site-packages/scipy/optimize/_optimize.py?line=71'>72</a>\u001b[0m     \u001b[39mself\u001b[39m\u001b[39m.\u001b[39m_value \u001b[39m=\u001b[39m fg[\u001b[39m0\u001b[39m]\n",
      "\u001b[1;32m/Users/qwe/MLPhys/QC/pure/oneMore.ipynb Cell 7'\u001b[0m in \u001b[0;36mValandGrad\u001b[0;34m(thetas)\u001b[0m\n\u001b[1;32m      <a href='vscode-notebook-cell:/Users/qwe/MLPhys/QC/pure/oneMore.ipynb#ch0000008?line=0'>1</a>\u001b[0m \u001b[39mdef\u001b[39;00m \u001b[39mValandGrad\u001b[39m(thetas):\n\u001b[1;32m      <a href='vscode-notebook-cell:/Users/qwe/MLPhys/QC/pure/oneMore.ipynb#ch0000008?line=1'>2</a>\u001b[0m     test1\u001b[39m.\u001b[39mupdateThetas(thetas)\n\u001b[0;32m----> <a href='vscode-notebook-cell:/Users/qwe/MLPhys/QC/pure/oneMore.ipynb#ch0000008?line=2'>3</a>\u001b[0m     \u001b[39mreturn\u001b[39;00m test1\u001b[39m.\u001b[39mcalc(), test1\u001b[39m.\u001b[39;49mgetThetaGrad()\n",
      "File \u001b[0;32m~/MLPhys/QC/pure/QCutils.py:156\u001b[0m, in \u001b[0;36mQuCircWithGrad.getThetaGrad\u001b[0;34m(self)\u001b[0m\n\u001b[1;32m    <a href='file:///Users/qwe/MLPhys/QC/pure/QCutils.py?line=153'>154</a>\u001b[0m \u001b[39mfor\u001b[39;00m i \u001b[39min\u001b[39;00m \u001b[39mrange\u001b[39m(\u001b[39mself\u001b[39m\u001b[39m.\u001b[39msize()):\n\u001b[1;32m    <a href='file:///Users/qwe/MLPhys/QC/pure/QCutils.py?line=154'>155</a>\u001b[0m     circPlus, circMinus \u001b[39m=\u001b[39m circList[i]\n\u001b[0;32m--> <a href='file:///Users/qwe/MLPhys/QC/pure/QCutils.py?line=155'>156</a>\u001b[0m     grad1 \u001b[39m=\u001b[39m r \u001b[39m*\u001b[39m (circPlus\u001b[39m.\u001b[39;49mcalc() \u001b[39m-\u001b[39m circMinus\u001b[39m.\u001b[39mcalc())\n\u001b[1;32m    <a href='file:///Users/qwe/MLPhys/QC/pure/QCutils.py?line=156'>157</a>\u001b[0m     \u001b[39massert\u001b[39;00m np\u001b[39m.\u001b[39mabs(np\u001b[39m.\u001b[39mimag(grad1)) \u001b[39m<\u001b[39m \u001b[39m0.001\u001b[39m\n\u001b[1;32m    <a href='file:///Users/qwe/MLPhys/QC/pure/QCutils.py?line=157'>158</a>\u001b[0m     thetaGrad[i] \u001b[39m=\u001b[39m grad1\n",
      "File \u001b[0;32m~/MLPhys/QC/pure/QCutils.py:250\u001b[0m, in \u001b[0;36moneMoreCirc.calc\u001b[0;34m(self)\u001b[0m\n\u001b[1;32m    <a href='file:///Users/qwe/MLPhys/QC/pure/QCutils.py?line=247'>248</a>\u001b[0m \u001b[39mdef\u001b[39;00m \u001b[39mcalc\u001b[39m(\u001b[39mself\u001b[39m):\n\u001b[1;32m    <a href='file:///Users/qwe/MLPhys/QC/pure/QCutils.py?line=248'>249</a>\u001b[0m     backend \u001b[39m=\u001b[39m Aer\u001b[39m.\u001b[39mget_backend(\u001b[39m'\u001b[39m\u001b[39mstatevector_simulator\u001b[39m\u001b[39m'\u001b[39m)\n\u001b[0;32m--> <a href='file:///Users/qwe/MLPhys/QC/pure/QCutils.py?line=249'>250</a>\u001b[0m     job \u001b[39m=\u001b[39m execute(\u001b[39mself\u001b[39;49m\u001b[39m.\u001b[39;49mqc, backend, shots\u001b[39m=\u001b[39;49m\u001b[39mself\u001b[39;49m\u001b[39m.\u001b[39;49msimShots)\n\u001b[1;32m    <a href='file:///Users/qwe/MLPhys/QC/pure/QCutils.py?line=250'>251</a>\u001b[0m     QCresult \u001b[39m=\u001b[39m job\u001b[39m.\u001b[39mresult()\u001b[39m.\u001b[39mget_counts(\u001b[39mself\u001b[39m\u001b[39m.\u001b[39mqc)\n\u001b[1;32m    <a href='file:///Users/qwe/MLPhys/QC/pure/QCutils.py?line=251'>252</a>\u001b[0m     estF \u001b[39m=\u001b[39m \u001b[39m0\u001b[39m\n",
      "File \u001b[0;32m~/miniforge3/envs/qi/lib/python3.10/site-packages/qiskit/execute_function.py:294\u001b[0m, in \u001b[0;36mexecute\u001b[0;34m(experiments, backend, basis_gates, coupling_map, backend_properties, initial_layout, seed_transpiler, optimization_level, pass_manager, qobj_id, qobj_header, shots, memory, max_credits, seed_simulator, default_qubit_los, default_meas_los, qubit_lo_range, meas_lo_range, schedule_los, meas_level, meas_return, memory_slots, memory_slot_size, rep_time, rep_delay, parameter_binds, schedule_circuit, inst_map, meas_map, scheduling_method, init_qubits, **run_config)\u001b[0m\n\u001b[1;32m    <a href='file:///Users/qwe/miniforge3/envs/qi/lib/python3.10/site-packages/qiskit/execute_function.py?line=290'>291</a>\u001b[0m     experiments \u001b[39m=\u001b[39m pass_manager\u001b[39m.\u001b[39mrun(experiments)\n\u001b[1;32m    <a href='file:///Users/qwe/miniforge3/envs/qi/lib/python3.10/site-packages/qiskit/execute_function.py?line=291'>292</a>\u001b[0m \u001b[39melse\u001b[39;00m:\n\u001b[1;32m    <a href='file:///Users/qwe/miniforge3/envs/qi/lib/python3.10/site-packages/qiskit/execute_function.py?line=292'>293</a>\u001b[0m     \u001b[39m# transpiling the circuits using given transpile options\u001b[39;00m\n\u001b[0;32m--> <a href='file:///Users/qwe/miniforge3/envs/qi/lib/python3.10/site-packages/qiskit/execute_function.py?line=293'>294</a>\u001b[0m     experiments \u001b[39m=\u001b[39m transpile(\n\u001b[1;32m    <a href='file:///Users/qwe/miniforge3/envs/qi/lib/python3.10/site-packages/qiskit/execute_function.py?line=294'>295</a>\u001b[0m         experiments,\n\u001b[1;32m    <a href='file:///Users/qwe/miniforge3/envs/qi/lib/python3.10/site-packages/qiskit/execute_function.py?line=295'>296</a>\u001b[0m         basis_gates\u001b[39m=\u001b[39;49mbasis_gates,\n\u001b[1;32m    <a href='file:///Users/qwe/miniforge3/envs/qi/lib/python3.10/site-packages/qiskit/execute_function.py?line=296'>297</a>\u001b[0m         coupling_map\u001b[39m=\u001b[39;49mcoupling_map,\n\u001b[1;32m    <a href='file:///Users/qwe/miniforge3/envs/qi/lib/python3.10/site-packages/qiskit/execute_function.py?line=297'>298</a>\u001b[0m         backend_properties\u001b[39m=\u001b[39;49mbackend_properties,\n\u001b[1;32m    <a href='file:///Users/qwe/miniforge3/envs/qi/lib/python3.10/site-packages/qiskit/execute_function.py?line=298'>299</a>\u001b[0m         initial_layout\u001b[39m=\u001b[39;49minitial_layout,\n\u001b[1;32m    <a href='file:///Users/qwe/miniforge3/envs/qi/lib/python3.10/site-packages/qiskit/execute_function.py?line=299'>300</a>\u001b[0m         seed_transpiler\u001b[39m=\u001b[39;49mseed_transpiler,\n\u001b[1;32m    <a href='file:///Users/qwe/miniforge3/envs/qi/lib/python3.10/site-packages/qiskit/execute_function.py?line=300'>301</a>\u001b[0m         optimization_level\u001b[39m=\u001b[39;49moptimization_level,\n\u001b[1;32m    <a href='file:///Users/qwe/miniforge3/envs/qi/lib/python3.10/site-packages/qiskit/execute_function.py?line=301'>302</a>\u001b[0m         backend\u001b[39m=\u001b[39;49mbackend,\n\u001b[1;32m    <a href='file:///Users/qwe/miniforge3/envs/qi/lib/python3.10/site-packages/qiskit/execute_function.py?line=302'>303</a>\u001b[0m     )\n\u001b[1;32m    <a href='file:///Users/qwe/miniforge3/envs/qi/lib/python3.10/site-packages/qiskit/execute_function.py?line=304'>305</a>\u001b[0m \u001b[39mif\u001b[39;00m schedule_circuit:\n\u001b[1;32m    <a href='file:///Users/qwe/miniforge3/envs/qi/lib/python3.10/site-packages/qiskit/execute_function.py?line=305'>306</a>\u001b[0m     experiments \u001b[39m=\u001b[39m schedule(\n\u001b[1;32m    <a href='file:///Users/qwe/miniforge3/envs/qi/lib/python3.10/site-packages/qiskit/execute_function.py?line=306'>307</a>\u001b[0m         circuits\u001b[39m=\u001b[39mexperiments,\n\u001b[1;32m    <a href='file:///Users/qwe/miniforge3/envs/qi/lib/python3.10/site-packages/qiskit/execute_function.py?line=307'>308</a>\u001b[0m         backend\u001b[39m=\u001b[39mbackend,\n\u001b[0;32m   (...)\u001b[0m\n\u001b[1;32m    <a href='file:///Users/qwe/miniforge3/envs/qi/lib/python3.10/site-packages/qiskit/execute_function.py?line=310'>311</a>\u001b[0m         method\u001b[39m=\u001b[39mscheduling_method,\n\u001b[1;32m    <a href='file:///Users/qwe/miniforge3/envs/qi/lib/python3.10/site-packages/qiskit/execute_function.py?line=311'>312</a>\u001b[0m     )\n",
      "File \u001b[0;32m~/miniforge3/envs/qi/lib/python3.10/site-packages/qiskit/compiler/transpiler.py:335\u001b[0m, in \u001b[0;36mtranspile\u001b[0;34m(circuits, backend, basis_gates, inst_map, coupling_map, backend_properties, initial_layout, layout_method, routing_method, translation_method, scheduling_method, instruction_durations, dt, approximation_degree, timing_constraints, seed_transpiler, optimization_level, pass_manager, callback, output_name, unitary_synthesis_method, unitary_synthesis_plugin_config, target)\u001b[0m\n\u001b[1;32m    <a href='file:///Users/qwe/miniforge3/envs/qi/lib/python3.10/site-packages/qiskit/compiler/transpiler.py?line=331'>332</a>\u001b[0m _check_circuits_coupling_map(circuits, transpile_args, backend)\n\u001b[1;32m    <a href='file:///Users/qwe/miniforge3/envs/qi/lib/python3.10/site-packages/qiskit/compiler/transpiler.py?line=333'>334</a>\u001b[0m \u001b[39m# Transpile circuits in parallel\u001b[39;00m\n\u001b[0;32m--> <a href='file:///Users/qwe/miniforge3/envs/qi/lib/python3.10/site-packages/qiskit/compiler/transpiler.py?line=334'>335</a>\u001b[0m circuits \u001b[39m=\u001b[39m parallel_map(_transpile_circuit, \u001b[39mlist\u001b[39;49m(\u001b[39mzip\u001b[39;49m(circuits, transpile_args)))\n\u001b[1;32m    <a href='file:///Users/qwe/miniforge3/envs/qi/lib/python3.10/site-packages/qiskit/compiler/transpiler.py?line=336'>337</a>\u001b[0m end_time \u001b[39m=\u001b[39m time()\n\u001b[1;32m    <a href='file:///Users/qwe/miniforge3/envs/qi/lib/python3.10/site-packages/qiskit/compiler/transpiler.py?line=337'>338</a>\u001b[0m _log_transpile_time(start_time, end_time)\n",
      "File \u001b[0;32m~/miniforge3/envs/qi/lib/python3.10/site-packages/qiskit/tools/parallel.py:132\u001b[0m, in \u001b[0;36mparallel_map\u001b[0;34m(task, values, task_args, task_kwargs, num_processes)\u001b[0m\n\u001b[1;32m    <a href='file:///Users/qwe/miniforge3/envs/qi/lib/python3.10/site-packages/qiskit/tools/parallel.py?line=129'>130</a>\u001b[0m     \u001b[39mreturn\u001b[39;00m []\n\u001b[1;32m    <a href='file:///Users/qwe/miniforge3/envs/qi/lib/python3.10/site-packages/qiskit/tools/parallel.py?line=130'>131</a>\u001b[0m \u001b[39mif\u001b[39;00m \u001b[39mlen\u001b[39m(values) \u001b[39m==\u001b[39m \u001b[39m1\u001b[39m:\n\u001b[0;32m--> <a href='file:///Users/qwe/miniforge3/envs/qi/lib/python3.10/site-packages/qiskit/tools/parallel.py?line=131'>132</a>\u001b[0m     \u001b[39mreturn\u001b[39;00m [task(values[\u001b[39m0\u001b[39;49m], \u001b[39m*\u001b[39;49mtask_args, \u001b[39m*\u001b[39;49m\u001b[39m*\u001b[39;49mtask_kwargs)]\n\u001b[1;32m    <a href='file:///Users/qwe/miniforge3/envs/qi/lib/python3.10/site-packages/qiskit/tools/parallel.py?line=133'>134</a>\u001b[0m Publisher()\u001b[39m.\u001b[39mpublish(\u001b[39m\"\u001b[39m\u001b[39mterra.parallel.start\u001b[39m\u001b[39m\"\u001b[39m, \u001b[39mlen\u001b[39m(values))\n\u001b[1;32m    <a href='file:///Users/qwe/miniforge3/envs/qi/lib/python3.10/site-packages/qiskit/tools/parallel.py?line=134'>135</a>\u001b[0m nfinished \u001b[39m=\u001b[39m [\u001b[39m0\u001b[39m]\n",
      "File \u001b[0;32m~/miniforge3/envs/qi/lib/python3.10/site-packages/qiskit/compiler/transpiler.py:429\u001b[0m, in \u001b[0;36m_transpile_circuit\u001b[0;34m(circuit_config_tuple)\u001b[0m\n\u001b[1;32m    <a href='file:///Users/qwe/miniforge3/envs/qi/lib/python3.10/site-packages/qiskit/compiler/transpiler.py?line=425'>426</a>\u001b[0m \u001b[39melse\u001b[39;00m:\n\u001b[1;32m    <a href='file:///Users/qwe/miniforge3/envs/qi/lib/python3.10/site-packages/qiskit/compiler/transpiler.py?line=426'>427</a>\u001b[0m     \u001b[39mraise\u001b[39;00m TranspilerError(\u001b[39m\"\u001b[39m\u001b[39moptimization_level can range from 0 to 3.\u001b[39m\u001b[39m\"\u001b[39m)\n\u001b[0;32m--> <a href='file:///Users/qwe/miniforge3/envs/qi/lib/python3.10/site-packages/qiskit/compiler/transpiler.py?line=428'>429</a>\u001b[0m result \u001b[39m=\u001b[39m pass_manager\u001b[39m.\u001b[39;49mrun(\n\u001b[1;32m    <a href='file:///Users/qwe/miniforge3/envs/qi/lib/python3.10/site-packages/qiskit/compiler/transpiler.py?line=429'>430</a>\u001b[0m     circuit, callback\u001b[39m=\u001b[39;49mtranspile_config[\u001b[39m\"\u001b[39;49m\u001b[39mcallback\u001b[39;49m\u001b[39m\"\u001b[39;49m], output_name\u001b[39m=\u001b[39;49mtranspile_config[\u001b[39m\"\u001b[39;49m\u001b[39moutput_name\u001b[39;49m\u001b[39m\"\u001b[39;49m]\n\u001b[1;32m    <a href='file:///Users/qwe/miniforge3/envs/qi/lib/python3.10/site-packages/qiskit/compiler/transpiler.py?line=430'>431</a>\u001b[0m )\n\u001b[1;32m    <a href='file:///Users/qwe/miniforge3/envs/qi/lib/python3.10/site-packages/qiskit/compiler/transpiler.py?line=432'>433</a>\u001b[0m \u001b[39mif\u001b[39;00m transpile_config[\u001b[39m\"\u001b[39m\u001b[39mfaulty_qubits_map\u001b[39m\u001b[39m\"\u001b[39m]:\n\u001b[1;32m    <a href='file:///Users/qwe/miniforge3/envs/qi/lib/python3.10/site-packages/qiskit/compiler/transpiler.py?line=433'>434</a>\u001b[0m     \u001b[39mreturn\u001b[39;00m _remap_circuit_faulty_backend(\n\u001b[1;32m    <a href='file:///Users/qwe/miniforge3/envs/qi/lib/python3.10/site-packages/qiskit/compiler/transpiler.py?line=434'>435</a>\u001b[0m         result,\n\u001b[1;32m    <a href='file:///Users/qwe/miniforge3/envs/qi/lib/python3.10/site-packages/qiskit/compiler/transpiler.py?line=435'>436</a>\u001b[0m         transpile_config[\u001b[39m\"\u001b[39m\u001b[39mbackend_num_qubits\u001b[39m\u001b[39m\"\u001b[39m],\n\u001b[1;32m    <a href='file:///Users/qwe/miniforge3/envs/qi/lib/python3.10/site-packages/qiskit/compiler/transpiler.py?line=436'>437</a>\u001b[0m         pass_manager_config\u001b[39m.\u001b[39mbackend_properties,\n\u001b[1;32m    <a href='file:///Users/qwe/miniforge3/envs/qi/lib/python3.10/site-packages/qiskit/compiler/transpiler.py?line=437'>438</a>\u001b[0m         transpile_config[\u001b[39m\"\u001b[39m\u001b[39mfaulty_qubits_map\u001b[39m\u001b[39m\"\u001b[39m],\n\u001b[1;32m    <a href='file:///Users/qwe/miniforge3/envs/qi/lib/python3.10/site-packages/qiskit/compiler/transpiler.py?line=438'>439</a>\u001b[0m     )\n",
      "File \u001b[0;32m~/miniforge3/envs/qi/lib/python3.10/site-packages/qiskit/transpiler/passmanager.py:218\u001b[0m, in \u001b[0;36mPassManager.run\u001b[0;34m(self, circuits, output_name, callback)\u001b[0m\n\u001b[1;32m    <a href='file:///Users/qwe/miniforge3/envs/qi/lib/python3.10/site-packages/qiskit/transpiler/passmanager.py?line=215'>216</a>\u001b[0m     \u001b[39mreturn\u001b[39;00m circuits\n\u001b[1;32m    <a href='file:///Users/qwe/miniforge3/envs/qi/lib/python3.10/site-packages/qiskit/transpiler/passmanager.py?line=216'>217</a>\u001b[0m \u001b[39mif\u001b[39;00m \u001b[39misinstance\u001b[39m(circuits, QuantumCircuit):\n\u001b[0;32m--> <a href='file:///Users/qwe/miniforge3/envs/qi/lib/python3.10/site-packages/qiskit/transpiler/passmanager.py?line=217'>218</a>\u001b[0m     \u001b[39mreturn\u001b[39;00m \u001b[39mself\u001b[39;49m\u001b[39m.\u001b[39;49m_run_single_circuit(circuits, output_name, callback)\n\u001b[1;32m    <a href='file:///Users/qwe/miniforge3/envs/qi/lib/python3.10/site-packages/qiskit/transpiler/passmanager.py?line=218'>219</a>\u001b[0m \u001b[39mif\u001b[39;00m \u001b[39mlen\u001b[39m(circuits) \u001b[39m==\u001b[39m \u001b[39m1\u001b[39m:\n\u001b[1;32m    <a href='file:///Users/qwe/miniforge3/envs/qi/lib/python3.10/site-packages/qiskit/transpiler/passmanager.py?line=219'>220</a>\u001b[0m     \u001b[39mreturn\u001b[39;00m \u001b[39mself\u001b[39m\u001b[39m.\u001b[39m_run_single_circuit(circuits[\u001b[39m0\u001b[39m], output_name, callback)\n",
      "File \u001b[0;32m~/miniforge3/envs/qi/lib/python3.10/site-packages/qiskit/transpiler/passmanager.py:273\u001b[0m, in \u001b[0;36mPassManager._run_single_circuit\u001b[0;34m(self, circuit, output_name, callback)\u001b[0m\n\u001b[1;32m    <a href='file:///Users/qwe/miniforge3/envs/qi/lib/python3.10/site-packages/qiskit/transpiler/passmanager.py?line=260'>261</a>\u001b[0m \u001b[39m\"\"\"Run all the passes on a ``circuit``.\u001b[39;00m\n\u001b[1;32m    <a href='file:///Users/qwe/miniforge3/envs/qi/lib/python3.10/site-packages/qiskit/transpiler/passmanager.py?line=261'>262</a>\u001b[0m \n\u001b[1;32m    <a href='file:///Users/qwe/miniforge3/envs/qi/lib/python3.10/site-packages/qiskit/transpiler/passmanager.py?line=262'>263</a>\u001b[0m \u001b[39mArgs:\u001b[39;00m\n\u001b[0;32m   (...)\u001b[0m\n\u001b[1;32m    <a href='file:///Users/qwe/miniforge3/envs/qi/lib/python3.10/site-packages/qiskit/transpiler/passmanager.py?line=269'>270</a>\u001b[0m \u001b[39m    The transformed circuit.\u001b[39;00m\n\u001b[1;32m    <a href='file:///Users/qwe/miniforge3/envs/qi/lib/python3.10/site-packages/qiskit/transpiler/passmanager.py?line=270'>271</a>\u001b[0m \u001b[39m\"\"\"\u001b[39;00m\n\u001b[1;32m    <a href='file:///Users/qwe/miniforge3/envs/qi/lib/python3.10/site-packages/qiskit/transpiler/passmanager.py?line=271'>272</a>\u001b[0m running_passmanager \u001b[39m=\u001b[39m \u001b[39mself\u001b[39m\u001b[39m.\u001b[39m_create_running_passmanager()\n\u001b[0;32m--> <a href='file:///Users/qwe/miniforge3/envs/qi/lib/python3.10/site-packages/qiskit/transpiler/passmanager.py?line=272'>273</a>\u001b[0m result \u001b[39m=\u001b[39m running_passmanager\u001b[39m.\u001b[39;49mrun(circuit, output_name\u001b[39m=\u001b[39;49moutput_name, callback\u001b[39m=\u001b[39;49mcallback)\n\u001b[1;32m    <a href='file:///Users/qwe/miniforge3/envs/qi/lib/python3.10/site-packages/qiskit/transpiler/passmanager.py?line=273'>274</a>\u001b[0m \u001b[39mself\u001b[39m\u001b[39m.\u001b[39mproperty_set \u001b[39m=\u001b[39m running_passmanager\u001b[39m.\u001b[39mproperty_set\n\u001b[1;32m    <a href='file:///Users/qwe/miniforge3/envs/qi/lib/python3.10/site-packages/qiskit/transpiler/passmanager.py?line=274'>275</a>\u001b[0m \u001b[39mreturn\u001b[39;00m result\n",
      "File \u001b[0;32m~/miniforge3/envs/qi/lib/python3.10/site-packages/qiskit/transpiler/runningpassmanager.py:125\u001b[0m, in \u001b[0;36mRunningPassManager.run\u001b[0;34m(***failed resolving arguments***)\u001b[0m\n\u001b[1;32m    <a href='file:///Users/qwe/miniforge3/envs/qi/lib/python3.10/site-packages/qiskit/transpiler/runningpassmanager.py?line=121'>122</a>\u001b[0m     \u001b[39mfor\u001b[39;00m pass_ \u001b[39min\u001b[39;00m passset:\n\u001b[1;32m    <a href='file:///Users/qwe/miniforge3/envs/qi/lib/python3.10/site-packages/qiskit/transpiler/runningpassmanager.py?line=122'>123</a>\u001b[0m         dag \u001b[39m=\u001b[39m \u001b[39mself\u001b[39m\u001b[39m.\u001b[39m_do_pass(pass_, dag, passset\u001b[39m.\u001b[39moptions)\n\u001b[0;32m--> <a href='file:///Users/qwe/miniforge3/envs/qi/lib/python3.10/site-packages/qiskit/transpiler/runningpassmanager.py?line=124'>125</a>\u001b[0m circuit \u001b[39m=\u001b[39m dag_to_circuit(dag)\n\u001b[1;32m    <a href='file:///Users/qwe/miniforge3/envs/qi/lib/python3.10/site-packages/qiskit/transpiler/runningpassmanager.py?line=125'>126</a>\u001b[0m \u001b[39mif\u001b[39;00m output_name:\n\u001b[1;32m    <a href='file:///Users/qwe/miniforge3/envs/qi/lib/python3.10/site-packages/qiskit/transpiler/runningpassmanager.py?line=126'>127</a>\u001b[0m     circuit\u001b[39m.\u001b[39mname \u001b[39m=\u001b[39m output_name\n",
      "File \u001b[0;32m~/miniforge3/envs/qi/lib/python3.10/site-packages/qiskit/converters/dag_to_circuit.py:63\u001b[0m, in \u001b[0;36mdag_to_circuit\u001b[0;34m(dag)\u001b[0m\n\u001b[1;32m     <a href='file:///Users/qwe/miniforge3/envs/qi/lib/python3.10/site-packages/qiskit/converters/dag_to_circuit.py?line=58'>59</a>\u001b[0m circuit\u001b[39m.\u001b[39mcalibrations \u001b[39m=\u001b[39m dag\u001b[39m.\u001b[39mcalibrations\n\u001b[1;32m     <a href='file:///Users/qwe/miniforge3/envs/qi/lib/python3.10/site-packages/qiskit/converters/dag_to_circuit.py?line=60'>61</a>\u001b[0m \u001b[39mfor\u001b[39;00m node \u001b[39min\u001b[39;00m dag\u001b[39m.\u001b[39mtopological_op_nodes():\n\u001b[1;32m     <a href='file:///Users/qwe/miniforge3/envs/qi/lib/python3.10/site-packages/qiskit/converters/dag_to_circuit.py?line=61'>62</a>\u001b[0m     \u001b[39m# Get arguments for classical control (if any)\u001b[39;00m\n\u001b[0;32m---> <a href='file:///Users/qwe/miniforge3/envs/qi/lib/python3.10/site-packages/qiskit/converters/dag_to_circuit.py?line=62'>63</a>\u001b[0m     inst \u001b[39m=\u001b[39m node\u001b[39m.\u001b[39;49mop\u001b[39m.\u001b[39;49mcopy()\n\u001b[1;32m     <a href='file:///Users/qwe/miniforge3/envs/qi/lib/python3.10/site-packages/qiskit/converters/dag_to_circuit.py?line=63'>64</a>\u001b[0m     circuit\u001b[39m.\u001b[39m_append(inst, node\u001b[39m.\u001b[39mqargs, node\u001b[39m.\u001b[39mcargs)\n\u001b[1;32m     <a href='file:///Users/qwe/miniforge3/envs/qi/lib/python3.10/site-packages/qiskit/converters/dag_to_circuit.py?line=65'>66</a>\u001b[0m circuit\u001b[39m.\u001b[39mduration \u001b[39m=\u001b[39m dag\u001b[39m.\u001b[39mduration\n",
      "File \u001b[0;32m~/miniforge3/envs/qi/lib/python3.10/site-packages/qiskit/circuit/instruction.py:438\u001b[0m, in \u001b[0;36mInstruction.copy\u001b[0;34m(self, name)\u001b[0m\n\u001b[1;32m    <a href='file:///Users/qwe/miniforge3/envs/qi/lib/python3.10/site-packages/qiskit/circuit/instruction.py?line=425'>426</a>\u001b[0m \u001b[39mdef\u001b[39;00m \u001b[39mcopy\u001b[39m(\u001b[39mself\u001b[39m, name\u001b[39m=\u001b[39m\u001b[39mNone\u001b[39;00m):\n\u001b[1;32m    <a href='file:///Users/qwe/miniforge3/envs/qi/lib/python3.10/site-packages/qiskit/circuit/instruction.py?line=426'>427</a>\u001b[0m     \u001b[39m\"\"\"\u001b[39;00m\n\u001b[1;32m    <a href='file:///Users/qwe/miniforge3/envs/qi/lib/python3.10/site-packages/qiskit/circuit/instruction.py?line=427'>428</a>\u001b[0m \u001b[39m    Copy of the instruction.\u001b[39;00m\n\u001b[1;32m    <a href='file:///Users/qwe/miniforge3/envs/qi/lib/python3.10/site-packages/qiskit/circuit/instruction.py?line=428'>429</a>\u001b[0m \n\u001b[0;32m   (...)\u001b[0m\n\u001b[1;32m    <a href='file:///Users/qwe/miniforge3/envs/qi/lib/python3.10/site-packages/qiskit/circuit/instruction.py?line=435'>436</a>\u001b[0m \u001b[39m        updated if it was provided\u001b[39;00m\n\u001b[1;32m    <a href='file:///Users/qwe/miniforge3/envs/qi/lib/python3.10/site-packages/qiskit/circuit/instruction.py?line=436'>437</a>\u001b[0m \u001b[39m    \"\"\"\u001b[39;00m\n\u001b[0;32m--> <a href='file:///Users/qwe/miniforge3/envs/qi/lib/python3.10/site-packages/qiskit/circuit/instruction.py?line=437'>438</a>\u001b[0m     cpy \u001b[39m=\u001b[39m \u001b[39mself\u001b[39;49m\u001b[39m.\u001b[39;49m__deepcopy__()\n\u001b[1;32m    <a href='file:///Users/qwe/miniforge3/envs/qi/lib/python3.10/site-packages/qiskit/circuit/instruction.py?line=439'>440</a>\u001b[0m     \u001b[39mif\u001b[39;00m name:\n\u001b[1;32m    <a href='file:///Users/qwe/miniforge3/envs/qi/lib/python3.10/site-packages/qiskit/circuit/instruction.py?line=440'>441</a>\u001b[0m         cpy\u001b[39m.\u001b[39mname \u001b[39m=\u001b[39m name\n",
      "File \u001b[0;32m~/miniforge3/envs/qi/lib/python3.10/site-packages/qiskit/circuit/instruction.py:445\u001b[0m, in \u001b[0;36mInstruction.__deepcopy__\u001b[0;34m(self, _memo)\u001b[0m\n\u001b[1;32m    <a href='file:///Users/qwe/miniforge3/envs/qi/lib/python3.10/site-packages/qiskit/circuit/instruction.py?line=443'>444</a>\u001b[0m \u001b[39mdef\u001b[39;00m \u001b[39m__deepcopy__\u001b[39m(\u001b[39mself\u001b[39m, _memo\u001b[39m=\u001b[39m\u001b[39mNone\u001b[39;00m):\n\u001b[0;32m--> <a href='file:///Users/qwe/miniforge3/envs/qi/lib/python3.10/site-packages/qiskit/circuit/instruction.py?line=444'>445</a>\u001b[0m     cpy \u001b[39m=\u001b[39m copy\u001b[39m.\u001b[39;49mcopy(\u001b[39mself\u001b[39;49m)\n\u001b[1;32m    <a href='file:///Users/qwe/miniforge3/envs/qi/lib/python3.10/site-packages/qiskit/circuit/instruction.py?line=445'>446</a>\u001b[0m     cpy\u001b[39m.\u001b[39m_params \u001b[39m=\u001b[39m copy\u001b[39m.\u001b[39mcopy(\u001b[39mself\u001b[39m\u001b[39m.\u001b[39m_params)\n\u001b[1;32m    <a href='file:///Users/qwe/miniforge3/envs/qi/lib/python3.10/site-packages/qiskit/circuit/instruction.py?line=446'>447</a>\u001b[0m     \u001b[39mif\u001b[39;00m \u001b[39mself\u001b[39m\u001b[39m.\u001b[39m_definition:\n",
      "File \u001b[0;32m~/miniforge3/envs/qi/lib/python3.10/copy.py:82\u001b[0m, in \u001b[0;36mcopy\u001b[0;34m(x)\u001b[0m\n\u001b[1;32m     <a href='file:///Users/qwe/miniforge3/envs/qi/lib/python3.10/copy.py?line=77'>78</a>\u001b[0m \u001b[39mif\u001b[39;00m \u001b[39missubclass\u001b[39m(\u001b[39mcls\u001b[39m, \u001b[39mtype\u001b[39m):\n\u001b[1;32m     <a href='file:///Users/qwe/miniforge3/envs/qi/lib/python3.10/copy.py?line=78'>79</a>\u001b[0m     \u001b[39m# treat it as a regular class:\u001b[39;00m\n\u001b[1;32m     <a href='file:///Users/qwe/miniforge3/envs/qi/lib/python3.10/copy.py?line=79'>80</a>\u001b[0m     \u001b[39mreturn\u001b[39;00m _copy_immutable(x)\n\u001b[0;32m---> <a href='file:///Users/qwe/miniforge3/envs/qi/lib/python3.10/copy.py?line=81'>82</a>\u001b[0m copier \u001b[39m=\u001b[39m \u001b[39mgetattr\u001b[39;49m(\u001b[39mcls\u001b[39;49m, \u001b[39m\"\u001b[39;49m\u001b[39m__copy__\u001b[39;49m\u001b[39m\"\u001b[39;49m, \u001b[39mNone\u001b[39;49;00m)\n\u001b[1;32m     <a href='file:///Users/qwe/miniforge3/envs/qi/lib/python3.10/copy.py?line=82'>83</a>\u001b[0m \u001b[39mif\u001b[39;00m copier \u001b[39mis\u001b[39;00m \u001b[39mnot\u001b[39;00m \u001b[39mNone\u001b[39;00m:\n\u001b[1;32m     <a href='file:///Users/qwe/miniforge3/envs/qi/lib/python3.10/copy.py?line=83'>84</a>\u001b[0m     \u001b[39mreturn\u001b[39;00m copier(x)\n",
      "\u001b[0;31mKeyboardInterrupt\u001b[0m: "
     ]
    }
   ],
   "source": [
    "import scipy.optimize\n",
    "initThetas = 2* np.pi * np.random.rand(test1.size())\n",
    "results = scipy.optimize.minimize(ValandGrad, initThetas,\n",
    "                                  method='L-BFGS-B', jac=True)\n",
    "print(\"success:\", results.success, \"\\nniterations:\", results.nit, \"\\nfinal loss:\", results.fun)"
   ]
  },
  {
   "cell_type": "code",
   "execution_count": null,
   "metadata": {},
   "outputs": [],
   "source": [
    "-4.509538109296834+0j"
   ]
  },
  {
   "cell_type": "code",
   "execution_count": 20,
   "metadata": {},
   "outputs": [
    {
     "name": "stderr",
     "output_type": "stream",
     "text": [
      "/var/folders/2_/8rs1gbh95pd73jb7n34phc980000gn/T/ipykernel_7599/1750703168.py:1: ComplexWarning: Casting complex values to real discards the imaginary part\n",
      "  saveTojson(\"QC with one more qubit\",beta=beta,additional={\"layer\":3},res=float(results.fun))\n"
     ]
    },
    {
     "ename": "TypeError",
     "evalue": "the JSON object must be str, bytes or bytearray, not TextIOWrapper",
     "output_type": "error",
     "traceback": [
      "\u001b[0;31m---------------------------------------------------------------------------\u001b[0m",
      "\u001b[0;31mTypeError\u001b[0m                                 Traceback (most recent call last)",
      "\u001b[1;32m/Users/qwe/MLPhys/QC/pure/oneMore.ipynb Cell 9'\u001b[0m in \u001b[0;36m<module>\u001b[0;34m\u001b[0m\n\u001b[0;32m----> <a href='vscode-notebook-cell:/Users/qwe/MLPhys/QC/pure/oneMore.ipynb#ch0000027?line=0'>1</a>\u001b[0m saveTojson(\u001b[39m\"\u001b[39;49m\u001b[39mQC with one more qubit\u001b[39;49m\u001b[39m\"\u001b[39;49m,beta\u001b[39m=\u001b[39;49mbeta,additional\u001b[39m=\u001b[39;49m{\u001b[39m\"\u001b[39;49m\u001b[39mlayer\u001b[39;49m\u001b[39m\"\u001b[39;49m:\u001b[39m3\u001b[39;49m},res\u001b[39m=\u001b[39;49m\u001b[39mfloat\u001b[39;49m(results\u001b[39m.\u001b[39;49mfun))\n",
      "File \u001b[0;32m~/MLPhys/Database/QCDB.py:33\u001b[0m, in \u001b[0;36msaveTojson\u001b[0;34m(description, beta, res, h, J, N, additional)\u001b[0m\n\u001b[1;32m     <a href='file:///Users/qwe/MLPhys/Database/QCDB.py?line=30'>31</a>\u001b[0m newJson \u001b[39m=\u001b[39m json\u001b[39m.\u001b[39mdumps(newDict)\n\u001b[1;32m     <a href='file:///Users/qwe/MLPhys/Database/QCDB.py?line=31'>32</a>\u001b[0m \u001b[39mwith\u001b[39;00m \u001b[39mopen\u001b[39m(jsonFile) \u001b[39mas\u001b[39;00m data_file:\n\u001b[0;32m---> <a href='file:///Users/qwe/MLPhys/Database/QCDB.py?line=32'>33</a>\u001b[0m     old_data \u001b[39m=\u001b[39m json\u001b[39m.\u001b[39;49mloads(data_file)\n\u001b[1;32m     <a href='file:///Users/qwe/MLPhys/Database/QCDB.py?line=33'>34</a>\u001b[0m old_data \u001b[39m+\u001b[39m\u001b[39m=\u001b[39m newJson\n\u001b[1;32m     <a href='file:///Users/qwe/MLPhys/Database/QCDB.py?line=34'>35</a>\u001b[0m \u001b[39mwith\u001b[39;00m \u001b[39mopen\u001b[39m(jsonFile, \u001b[39m'\u001b[39m\u001b[39mw\u001b[39m\u001b[39m'\u001b[39m) \u001b[39mas\u001b[39;00m outfile:\n",
      "File \u001b[0;32m~/miniforge3/envs/qi/lib/python3.10/json/__init__.py:339\u001b[0m, in \u001b[0;36mloads\u001b[0;34m(s, cls, object_hook, parse_float, parse_int, parse_constant, object_pairs_hook, **kw)\u001b[0m\n\u001b[1;32m    <a href='file:///Users/qwe/miniforge3/envs/qi/lib/python3.10/json/__init__.py?line=336'>337</a>\u001b[0m \u001b[39melse\u001b[39;00m:\n\u001b[1;32m    <a href='file:///Users/qwe/miniforge3/envs/qi/lib/python3.10/json/__init__.py?line=337'>338</a>\u001b[0m     \u001b[39mif\u001b[39;00m \u001b[39mnot\u001b[39;00m \u001b[39misinstance\u001b[39m(s, (\u001b[39mbytes\u001b[39m, \u001b[39mbytearray\u001b[39m)):\n\u001b[0;32m--> <a href='file:///Users/qwe/miniforge3/envs/qi/lib/python3.10/json/__init__.py?line=338'>339</a>\u001b[0m         \u001b[39mraise\u001b[39;00m \u001b[39mTypeError\u001b[39;00m(\u001b[39mf\u001b[39m\u001b[39m'\u001b[39m\u001b[39mthe JSON object must be str, bytes or bytearray, \u001b[39m\u001b[39m'\u001b[39m\n\u001b[1;32m    <a href='file:///Users/qwe/miniforge3/envs/qi/lib/python3.10/json/__init__.py?line=339'>340</a>\u001b[0m                         \u001b[39mf\u001b[39m\u001b[39m'\u001b[39m\u001b[39mnot \u001b[39m\u001b[39m{\u001b[39;00ms\u001b[39m.\u001b[39m\u001b[39m__class__\u001b[39m\u001b[39m.\u001b[39m\u001b[39m__name__\u001b[39m\u001b[39m}\u001b[39;00m\u001b[39m'\u001b[39m)\n\u001b[1;32m    <a href='file:///Users/qwe/miniforge3/envs/qi/lib/python3.10/json/__init__.py?line=340'>341</a>\u001b[0m     s \u001b[39m=\u001b[39m s\u001b[39m.\u001b[39mdecode(detect_encoding(s), \u001b[39m'\u001b[39m\u001b[39msurrogatepass\u001b[39m\u001b[39m'\u001b[39m)\n\u001b[1;32m    <a href='file:///Users/qwe/miniforge3/envs/qi/lib/python3.10/json/__init__.py?line=342'>343</a>\u001b[0m \u001b[39mif\u001b[39;00m (\u001b[39mcls\u001b[39m \u001b[39mis\u001b[39;00m \u001b[39mNone\u001b[39;00m \u001b[39mand\u001b[39;00m object_hook \u001b[39mis\u001b[39;00m \u001b[39mNone\u001b[39;00m \u001b[39mand\u001b[39;00m\n\u001b[1;32m    <a href='file:///Users/qwe/miniforge3/envs/qi/lib/python3.10/json/__init__.py?line=343'>344</a>\u001b[0m         parse_int \u001b[39mis\u001b[39;00m \u001b[39mNone\u001b[39;00m \u001b[39mand\u001b[39;00m parse_float \u001b[39mis\u001b[39;00m \u001b[39mNone\u001b[39;00m \u001b[39mand\u001b[39;00m\n\u001b[1;32m    <a href='file:///Users/qwe/miniforge3/envs/qi/lib/python3.10/json/__init__.py?line=344'>345</a>\u001b[0m         parse_constant \u001b[39mis\u001b[39;00m \u001b[39mNone\u001b[39;00m \u001b[39mand\u001b[39;00m object_pairs_hook \u001b[39mis\u001b[39;00m \u001b[39mNone\u001b[39;00m \u001b[39mand\u001b[39;00m \u001b[39mnot\u001b[39;00m kw):\n",
      "\u001b[0;31mTypeError\u001b[0m: the JSON object must be str, bytes or bytearray, not TextIOWrapper"
     ]
    }
   ],
   "source": [
    "saveTojson(\"QC with one more qubit\",beta=beta,additional={\"layer\":3},res=float(results.fun))"
   ]
  },
  {
   "cell_type": "code",
   "execution_count": 13,
   "metadata": {},
   "outputs": [
    {
     "data": {
      "text/plain": [
       "(-4.9530060181077005-0j)"
      ]
     },
     "execution_count": 13,
     "metadata": {},
     "output_type": "execute_result"
    }
   ],
   "source": [
    "from scipy.linalg import expm\n",
    "-np.log(np.trace(expm(- beta * H)))"
   ]
  },
  {
   "cell_type": "code",
   "execution_count": 21,
   "metadata": {},
   "outputs": [
    {
     "name": "stderr",
     "output_type": "stream",
     "text": [
      "/tmp/ipykernel_10766/1987415637.py:9: ComplexWarning: Casting complex values to real discards the imaginary part\n",
      "  record[i] = test1.calc()\n"
     ]
    }
   ],
   "source": [
    "learningRate = 0.05\n",
    "maxStep = 100\n",
    "record = np.zeros(maxStep)\n",
    "\n",
    "thetas = 2* np.pi * np.random.rand(test1.size())\n",
    "\n",
    "for i in range(maxStep):\n",
    "    test1.updateThetas(thetas)\n",
    "    record[i] = test1.calc()\n",
    "    dTheta = test1.getThetaGrad()\n",
    "    thetas -= learningRate * dTheta"
   ]
  },
  {
   "cell_type": "code",
   "execution_count": 16,
   "metadata": {},
   "outputs": [
    {
     "data": {
      "text/plain": [
       "-1.9857282192311847"
      ]
     },
     "execution_count": 16,
     "metadata": {},
     "output_type": "execute_result"
    }
   ],
   "source": [
    "record[record != 0][0]"
   ]
  },
  {
   "cell_type": "code",
   "execution_count": 9,
   "metadata": {},
   "outputs": [],
   "source": [
    "r = 0.5\n",
    "circList = test1.genGradCircList()\n",
    "thetaGrad = np.zeros(test1.size())"
   ]
  },
  {
   "cell_type": "code",
   "execution_count": 10,
   "metadata": {},
   "outputs": [],
   "source": [
    "circPlus, circMinus = circList[1]"
   ]
  },
  {
   "cell_type": "code",
   "execution_count": 15,
   "metadata": {},
   "outputs": [
    {
     "data": {
      "text/plain": [
       "(-0.276411996093495+0j)"
      ]
     },
     "execution_count": 15,
     "metadata": {},
     "output_type": "execute_result"
    }
   ],
   "source": [
    "grad1 = r * (circPlus.calc() - circMinus.calc())\n",
    "grad1[0][0]"
   ]
  },
  {
   "cell_type": "code",
   "execution_count": 11,
   "metadata": {},
   "outputs": [],
   "source": [
    "circPlus, circMinus = circList[1]\n",
    "grad1 = r * (circPlus.calc() - circMinus.calc())\n",
    "thetaGrad[1] = grad1\n"
   ]
  },
  {
   "cell_type": "code",
   "execution_count": 9,
   "metadata": {},
   "outputs": [],
   "source": [
    "lst = test1.genGradCircList()"
   ]
  },
  {
   "cell_type": "code",
   "execution_count": 12,
   "metadata": {},
   "outputs": [],
   "source": [
    "len(lst)\n",
    "circPlus, circMinus = lst[0]"
   ]
  },
  {
   "cell_type": "code",
   "execution_count": 16,
   "metadata": {},
   "outputs": [
    {
     "name": "stderr",
     "output_type": "stream",
     "text": [
      "/Users/qwe/miniforge3/envs/qi/lib/python3.10/site-packages/numpy/linalg/linalg.py:2146: RuntimeWarning: divide by zero encountered in det\n",
      "  r = _umath_linalg.det(a, signature=signature)\n",
      "/Users/qwe/miniforge3/envs/qi/lib/python3.10/site-packages/numpy/linalg/linalg.py:2146: RuntimeWarning: invalid value encountered in det\n",
      "  r = _umath_linalg.det(a, signature=signature)\n"
     ]
    },
    {
     "data": {
      "text/plain": [
       "array([[-0.01312868+0.j]])"
      ]
     },
     "execution_count": 16,
     "metadata": {},
     "output_type": "execute_result"
    }
   ],
   "source": [
    "circMinus.calc()\n",
    "grad = 0.5 * (circPlus.calc() - circMinus.calc())\n",
    "grad"
   ]
  },
  {
   "cell_type": "code",
   "execution_count": null,
   "metadata": {},
   "outputs": [],
   "source": [
    "test1.getThetaGrad()"
   ]
  }
 ],
 "metadata": {
  "interpreter": {
   "hash": "be296274388fc6a39d7d5c375e94b0881815faaa5a1dd49e08d8c63c595f251c"
  },
  "kernelspec": {
   "display_name": "Python 3.10.2 ('qi')",
   "language": "python",
   "name": "python3"
  },
  "language_info": {
   "codemirror_mode": {
    "name": "ipython",
    "version": 3
   },
   "file_extension": ".py",
   "mimetype": "text/x-python",
   "name": "python",
   "nbconvert_exporter": "python",
   "pygments_lexer": "ipython3",
   "version": "3.10.2"
  },
  "orig_nbformat": 4
 },
 "nbformat": 4,
 "nbformat_minor": 2
}
