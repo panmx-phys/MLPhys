{
 "cells": [
  {
   "cell_type": "code",
   "execution_count": 1,
   "metadata": {},
   "outputs": [
    {
     "name": "stderr",
     "output_type": "stream",
     "text": [
      "/Users/qwe/miniforge3/envs/jaxEnv/lib/python3.10/site-packages/jax/_src/lib/__init__.py:33: UserWarning: JAX on Mac ARM machines is experimental and minimally tested. Please see https://github.com/google/jax/issues/5501 in the event of problems.\n",
      "  warnings.warn(\"JAX on Mac ARM machines is experimental and minimally tested. \"\n",
      "WARNING:absl:No GPU/TPU found, falling back to CPU. (Set TF_CPP_MIN_LOG_LEVEL=0 and rerun for more info.)\n"
     ]
    }
   ],
   "source": [
    "import jax\n",
    "import jax.numpy as jnp\n",
    "import numpy as np\n",
    "from jaxQCUtil import *\n",
    "from jax.config import config\n",
    "from jax.scipy.linalg import expm\n",
    "config.update(\"jax_enable_x64\", True)\n",
    "np.random.seed(1)\n"
   ]
  },
  {
   "cell_type": "code",
   "execution_count": 12,
   "metadata": {},
   "outputs": [
    {
     "name": "stdout",
     "output_type": "stream",
     "text": [
      "[[ 0.292+0.j     0.   -0.455j  0.   -0.455j -0.708-0.j   ]\n",
      " [ 0.   -0.455j  0.292+0.j    -0.708-0.j     0.   -0.455j]\n",
      " [ 0.   -0.455j -0.708-0.j     0.292+0.j     0.   -0.455j]\n",
      " [-0.708-0.j     0.   -0.455j  0.   -0.455j  0.292+0.j   ]]\n"
     ]
    }
   ],
   "source": [
    "mapping =jnp.array([[0,0],[0,1]])\n",
    "testMat = jnp.arange(16).reshape((4,4))\n",
    "\n",
    "res = Rx(1)\n",
    "\n",
    "for i in range(1):\n",
    "    res=jnp.kron(res,Rx(1))\n",
    "\n",
    "print_matrix(res)\n"
   ]
  },
  {
   "cell_type": "code",
   "execution_count": 17,
   "metadata": {},
   "outputs": [
    {
     "name": "stdout",
     "output_type": "stream",
     "text": [
      "[[0.54+0.j    0.  -0.841j 0.  +0.j    0.  +0.j   ]\n",
      " [0.  -0.841j 0.54+0.j    0.  +0.j    0.  +0.j   ]\n",
      " [0.  +0.j    0.  +0.j    0.54+0.j    0.  -0.841j]\n",
      " [0.  +0.j    0.  +0.j    0.  -0.841j 0.54+0.j   ]]\n",
      "[[0.54+0.j    0.  -0.841j]\n",
      " [0.  -0.841j 0.54+0.j   ]]\n"
     ]
    }
   ],
   "source": [
    "res = jnp.identity(2)\n",
    "\n",
    "for i in range(1):\n",
    "    res=jnp.kron(res,Rx(1))\n",
    "\n",
    "print_matrix(res)\n",
    "print_matrix(Rx(1))"
   ]
  },
  {
   "cell_type": "code",
   "execution_count": 7,
   "metadata": {},
   "outputs": [],
   "source": [
    "initMat = jnp.zeros(2)\n",
    "\n",
    "for i in range(4):\n",
    "    if i == 2:\n",
    "        res = jnp.kron(initMat,Rx(1))\n",
    "    res = jnp.kron(initMat,Rx(1))"
   ]
  },
  {
   "cell_type": "code",
   "execution_count": 2,
   "metadata": {},
   "outputs": [],
   "source": [
    "@jax.jit\n",
    "def vec2Unitary(input):\n",
    "    '''\n",
    "    Converts unitary matrix to a vector of parameters (which parameterize the unitary). This vector effectively parameterizes SU(4).\n",
    "\n",
    "\n",
    "    Args:\n",
    "        N(int): Matrix size \n",
    "        input(float arrary): (matN**2 + matN)//2 - 1 size free parameters\n",
    "\n",
    "    Returns:\n",
    "        A complex (matN,matN) array that parameterized by the input vector\n",
    "    '''\n",
    "\n",
    "    # append 0 to the end so we can normalize it later\n",
    "    newVec = jnp.append(input,0)\n",
    "\n",
    "    temp = jnp.zeros((matN,matN))\n",
    "    h_mat = temp.at[jnp.tril_indices(matN)].set(newVec)\n",
    "\n",
    "    tr = jnp.trace(h_mat)\n",
    "    \n",
    "    # normalize trace to 0\n",
    "    h_mat.at[-1].set(-tr)\n",
    "    h_mat = (h_mat.conjugate().T + h_mat)/2\n",
    "    unitary = jax.scipy.linalg.expm(1j * h_mat)\n",
    "\n",
    "    return unitary"
   ]
  },
  {
   "cell_type": "code",
   "execution_count": 3,
   "metadata": {},
   "outputs": [],
   "source": [
    "N = 5\n",
    "beta = 1\n",
    "J = 0.5\n",
    "h = 0.3\n",
    "\n",
    "matN = 5\n",
    "perMatParaN = 2**(2*matN)-1\n",
    "\n",
    "trivialPlacement = True\n",
    "layerNum = 1\n",
    "\n",
    "sigma_z = jnp.array([[1,0],[0,-1]])\n",
    "sigma_x = jnp.array([[0,1],[1,0]])\n",
    "sigma_y = jnp.array([[0,1],[1,0]])\n",
    "\n",
    "spin = jnp.array([0,1])\n",
    "spin_up = jnp.array([[1],[0]])\n",
    "spin_down= jnp.array([[0],[1]])\n",
    "\n"
   ]
  },
  {
   "cell_type": "code",
   "execution_count": 4,
   "metadata": {},
   "outputs": [
    {
     "data": {
      "text/plain": [
       "DeviceArray([0., 0., 0., 0., 0., 0., 0., 0., 0., 0., 0., 0., 0., 0., 0.,\n",
       "             0., 0., 0., 0., 0., 0., 0., 0., 0., 0., 0., 0., 0., 0., 0.,\n",
       "             0., 1.], dtype=float64)"
      ]
     },
     "execution_count": 4,
     "metadata": {},
     "output_type": "execute_result"
    }
   ],
   "source": [
    "staringState = jnp.zeros((2**N))\n",
    "staringState.at[-1].set(1)"
   ]
  },
  {
   "cell_type": "code",
   "execution_count": 5,
   "metadata": {},
   "outputs": [
    {
     "ename": "TypeError",
     "evalue": "scan carry output and input must have identical types, got\nDIFFERENT ShapedArray(complex128[2,10]) vs. ShapedArray(int64[5]).",
     "output_type": "error",
     "traceback": [
      "\u001b[0;31m---------------------------------------------------------------------------\u001b[0m",
      "\u001b[0;31mTypeError\u001b[0m                                 Traceback (most recent call last)",
      "\u001b[1;32m/Users/qwe/MLPhys/QC/jaxEmu/Ising.ipynb Cell 5'\u001b[0m in \u001b[0;36m<cell line: 7>\u001b[0;34m()\u001b[0m\n\u001b[1;32m      <a href='vscode-notebook-cell:/Users/qwe/MLPhys/QC/jaxEmu/Ising.ipynb#ch0000029?line=3'>4</a>\u001b[0m     uni,_ \u001b[39m=\u001b[39m jax\u001b[39m.\u001b[39mlax\u001b[39m.\u001b[39mscan(Rx,thetas,init)\n\u001b[1;32m      <a href='vscode-notebook-cell:/Users/qwe/MLPhys/QC/jaxEmu/Ising.ipynb#ch0000029?line=4'>5</a>\u001b[0m     \u001b[39mreturn\u001b[39;00m uni\n\u001b[0;32m----> <a href='vscode-notebook-cell:/Users/qwe/MLPhys/QC/jaxEmu/Ising.ipynb#ch0000029?line=6'>7</a>\u001b[0m RxLayer(jnp\u001b[39m.\u001b[39;49marange(N))\n",
      "    \u001b[0;31m[... skipping hidden 14 frame]\u001b[0m\n",
      "\u001b[1;32m/Users/qwe/MLPhys/QC/jaxEmu/Ising.ipynb Cell 5'\u001b[0m in \u001b[0;36mRxLayer\u001b[0;34m(thetas)\u001b[0m\n\u001b[1;32m      <a href='vscode-notebook-cell:/Users/qwe/MLPhys/QC/jaxEmu/Ising.ipynb#ch0000029?line=0'>1</a>\u001b[0m \u001b[39m@jax\u001b[39m\u001b[39m.\u001b[39mjit\n\u001b[1;32m      <a href='vscode-notebook-cell:/Users/qwe/MLPhys/QC/jaxEmu/Ising.ipynb#ch0000029?line=1'>2</a>\u001b[0m \u001b[39mdef\u001b[39;00m \u001b[39mRxLayer\u001b[39m(thetas):\n\u001b[1;32m      <a href='vscode-notebook-cell:/Users/qwe/MLPhys/QC/jaxEmu/Ising.ipynb#ch0000029?line=2'>3</a>\u001b[0m     init \u001b[39m=\u001b[39m jnp\u001b[39m.\u001b[39midentity(\u001b[39m2\u001b[39m)\n\u001b[0;32m----> <a href='vscode-notebook-cell:/Users/qwe/MLPhys/QC/jaxEmu/Ising.ipynb#ch0000029?line=3'>4</a>\u001b[0m     uni,_ \u001b[39m=\u001b[39m jax\u001b[39m.\u001b[39;49mlax\u001b[39m.\u001b[39;49mscan(Rx,thetas,init)\n\u001b[1;32m      <a href='vscode-notebook-cell:/Users/qwe/MLPhys/QC/jaxEmu/Ising.ipynb#ch0000029?line=4'>5</a>\u001b[0m     \u001b[39mreturn\u001b[39;00m uni\n",
      "    \u001b[0;31m[... skipping hidden 2 frame]\u001b[0m\n",
      "File \u001b[0;32m~/miniforge3/envs/jaxEnv/lib/python3.10/site-packages/jax/_src/lax/control_flow.py:2201\u001b[0m, in \u001b[0;36m_check_tree_and_avals\u001b[0;34m(what, tree1, avals1, tree2, avals2)\u001b[0m\n\u001b[1;32m   <a href='file:///Users/qwe/miniforge3/envs/jaxEnv/lib/python3.10/site-packages/jax/_src/lax/control_flow.py?line=2197'>2198</a>\u001b[0m \u001b[39mif\u001b[39;00m \u001b[39mnot\u001b[39;00m \u001b[39mall\u001b[39m(_map(core\u001b[39m.\u001b[39mtypematch, avals1, avals2)):\n\u001b[1;32m   <a href='file:///Users/qwe/miniforge3/envs/jaxEnv/lib/python3.10/site-packages/jax/_src/lax/control_flow.py?line=2198'>2199</a>\u001b[0m   diff \u001b[39m=\u001b[39m tree_map(_show_diff, tree_unflatten(tree1, avals1),\n\u001b[1;32m   <a href='file:///Users/qwe/miniforge3/envs/jaxEnv/lib/python3.10/site-packages/jax/_src/lax/control_flow.py?line=2199'>2200</a>\u001b[0m                   tree_unflatten(tree2, avals2))\n\u001b[0;32m-> <a href='file:///Users/qwe/miniforge3/envs/jaxEnv/lib/python3.10/site-packages/jax/_src/lax/control_flow.py?line=2200'>2201</a>\u001b[0m   \u001b[39mraise\u001b[39;00m \u001b[39mTypeError\u001b[39;00m(\u001b[39mf\u001b[39m\u001b[39m\"\u001b[39m\u001b[39m{\u001b[39;00mwhat\u001b[39m}\u001b[39;00m\u001b[39m must have identical types, got\u001b[39m\u001b[39m\\n\u001b[39;00m\u001b[39m{\u001b[39;00mdiff\u001b[39m}\u001b[39;00m\u001b[39m.\u001b[39m\u001b[39m\"\u001b[39m)\n",
      "\u001b[0;31mTypeError\u001b[0m: scan carry output and input must have identical types, got\nDIFFERENT ShapedArray(complex128[2,10]) vs. ShapedArray(int64[5])."
     ]
    }
   ],
   "source": [
    "@jax.jit\n",
    "def RxLayer(thetas):\n",
    "    init = jnp.identity(2)\n",
    "    uni,_ = jax.lax.scan(Rx,thetas,init)\n",
    "    return uni\n",
    "\n",
    "RxLayer(jnp.arange(N))\n",
    "    "
   ]
  },
  {
   "cell_type": "code",
   "execution_count": 4,
   "metadata": {},
   "outputs": [],
   "source": [
    "H = jnp.zeros((2**N,2**N))\n",
    "\n",
    "initLattice = jnp.kron(sigma_z,sigma_z)\n",
    "for i in range(2,N):\n",
    "    initLattice = jnp.kron(initLattice,jnp.eye(2))\n",
    "\n",
    "H += - J * initLattice\n",
    "\n",
    "for lattice_point in range(1,N-1):\n",
    "    curr = jnp.eye(2)\n",
    "    for i in range(1,lattice_point):\n",
    "        curr = jnp.kron(curr,jnp.eye(2))\n",
    "    curr = jnp.kron( jnp.kron(curr,sigma_z),sigma_z)\n",
    "    for i in range(lattice_point+2,N):\n",
    "        curr = jnp.kron(curr,jnp.eye(2))\n",
    "    \n",
    "    assert curr.shape[0] == H.shape[0]\n",
    "    \n",
    "    H += -J * curr\n",
    "\n",
    "\n",
    "initLattice = sigma_x\n",
    "for i in range(1,N):\n",
    "    initLattice = jnp.kron(initLattice,jnp.eye(2))\n",
    "\n",
    "H += - h * initLattice\n",
    "\n",
    "for lattice_point in range(1,N-1):\n",
    "    curr = jnp.eye(2)\n",
    "    for i in range(1,lattice_point):\n",
    "        curr = jnp.kron(curr,jnp.eye(2))\n",
    "    curr = jnp.kron(curr,sigma_x)\n",
    "    for i in range(lattice_point+1,N):\n",
    "        curr = jnp.kron(curr,jnp.eye(2))\n",
    "    \n",
    "    assert curr.shape[0] == H.shape[0]\n",
    "    \n",
    "    H += -h * curr\n",
    "\n",
    "H = jnp.array(H,dtype=jnp.complex128)"
   ]
  },
  {
   "cell_type": "code",
   "execution_count": 5,
   "metadata": {},
   "outputs": [],
   "source": [
    "# prepare the ensemble basis\n",
    "\n",
    "formator = '{0:' + '0' + str(N)  +'b}'\n",
    "\n",
    "state_in_str = [formator.format(i) for i in range(2**N)]\n",
    "\n",
    "\n",
    "def state_to_vec(s):\n",
    "    # return a probability with the corresponding state\n",
    "    if s[0] == '1':\n",
    "        state = spin_up\n",
    "        state_mat = spin_up\n",
    "    else:\n",
    "        state = spin_down\n",
    "        state_mat = spin_down\n",
    "    \n",
    "    for curr in s[1:]:\n",
    "        if curr == '1':\n",
    "            state = jnp.kron(state,spin_up)\n",
    "            state_mat = jnp.hstack((state_mat,spin_up))\n",
    "        else:\n",
    "            state = jnp.kron(state,spin_down)\n",
    "            state_mat = jnp.hstack((state_mat,spin_down))\n",
    "    \n",
    "    return state,state_mat\n",
    "\n",
    "allstate = jnp.stack([state_to_vec(s)[0] for s in state_in_str])\n",
    "allstateMat = jnp.stack([state_to_vec(s)[1] for s in state_in_str])\n"
   ]
  },
  {
   "cell_type": "code",
   "execution_count": 6,
   "metadata": {},
   "outputs": [],
   "source": [
    "# Utilities\n",
    "\n",
    "@jax.jit\n",
    "def stateMat_to_prob(state_mat,probs):\n",
    "    prob_mat = jnp.multiply(probs,state_mat)\n",
    "    prob_state = prob_mat[0,:] + prob_mat[1,:]\n",
    "    return jnp.prod(prob_state)\n",
    "\n",
    "@jax.jit\n",
    "def build_ensemble(px):\n",
    "    single = lambda p,state: p * jnp.outer(state,state)\n",
    "    mats = jax.vmap(single,(0,0),0)(px,allstate)\n",
    "    return jnp.sum(mats, axis=0)\n",
    "\n",
    "@jax.jit\n",
    "def weighted_expected(operator,px):\n",
    "    single = lambda state: state.T @ operator @ state\n",
    "    expectedVs =  jax.vmap(single)(allstate)\n",
    "    res = jnp.sum(jnp.multiply(expectedVs[:,0,0],px))\n",
    "    return jnp.real(res)\n",
    "\n",
    "@jax.jit\n",
    "def mat_prod(carry,x):\n",
    "    return carry @ x ,0\n",
    "\n",
    "@jax.jit\n",
    "def unitary_prods(uniVec):\n",
    "    uniVec = uniVec.reshape((layer_num,(2**(2*N)-1)))\n",
    "    unis = jax.vmap(vec2Unitary,in_axes=(None,0))(N,uniVec)\n",
    "    res,_ = jax.lax.scan(mat_prod,jnp.eye(2**N,dtype=jnp.complex128),unis)\n",
    "    return res\n",
    "\n",
    "\n",
    "stateMat_to_prob_map = jax.vmap(stateMat_to_prob,(0,None),0)"
   ]
  },
  {
   "cell_type": "markdown",
   "metadata": {},
   "source": [
    "Free parameters initialization:"
   ]
  },
  {
   "cell_type": "code",
   "execution_count": 13,
   "metadata": {},
   "outputs": [],
   "source": [
    "eps = jnp.array(0.5 * np.random.rand(N))\n",
    "uniVec = jnp.array(np.random.rand(uniParas_num))\n",
    "paras = jnp.hstack((eps,uniVec))"
   ]
  },
  {
   "cell_type": "code",
   "execution_count": 18,
   "metadata": {},
   "outputs": [
    {
     "name": "stdout",
     "output_type": "stream",
     "text": [
      "-16.14772350286639\n",
      "-16.14772350286639\n"
     ]
    },
    {
     "data": {
      "text/plain": [
       "DeviceArray([[ 0.22173209+2.43656628e-01j, -0.0990587 +4.50345594e-02j,\n",
       "               0.09468157+2.20339562e-01j, ...,\n",
       "              -0.23921613+1.75591412e-01j,  0.02014918+1.82938343e-01j,\n",
       "              -0.01045757+4.19483484e-03j],\n",
       "             [-0.22316293-5.10691371e-02j,  0.33418243+7.19849344e-02j,\n",
       "              -0.15078023-1.41396342e-01j, ...,\n",
       "               0.02897866+3.46465599e-01j,  0.18782914+3.80740141e-01j,\n",
       "               0.01164877+1.20322717e-04j],\n",
       "             [-0.1055486 -8.46074549e-02j, -0.21371473-1.61121658e-01j,\n",
       "               0.29067478+3.30218821e-01j, ...,\n",
       "               0.22848382+2.70225861e-01j, -0.08654695+1.31256530e-02j,\n",
       "              -0.01649239-1.78697578e-02j],\n",
       "             ...,\n",
       "             [ 0.04569813-2.36875698e-01j,  0.03544656+1.54617683e-01j,\n",
       "              -0.05909613-1.09782667e-01j, ...,\n",
       "               0.30988148+2.38845104e-01j, -0.19060754-1.69084725e-02j,\n",
       "              -0.00270196-3.04543922e-02j],\n",
       "             [-0.1274384 -2.15797947e-01j, -0.01372564-8.47746292e-03j,\n",
       "               0.11285039-4.47811286e-02j, ...,\n",
       "              -0.18963903-1.02493282e-01j,  0.37597035-3.79056275e-02j,\n",
       "               0.00616382-3.34849880e-02j],\n",
       "             [ 0.01370765-1.53861225e-02j,  0.03595711-1.19106954e-02j,\n",
       "               0.01588492+2.30957184e-03j, ...,\n",
       "               0.02123157-1.05424748e-02j,  0.02934456-2.07223025e-02j,\n",
       "              -0.76145822+6.32240175e-01j]], dtype=complex128)"
      ]
     },
     "execution_count": 18,
     "metadata": {},
     "output_type": "execute_result"
    }
   ],
   "source": [
    "vec2Unitary(N,uniVec)"
   ]
  },
  {
   "cell_type": "code",
   "execution_count": 8,
   "metadata": {},
   "outputs": [
    {
     "data": {
      "text/plain": [
       "(DeviceArray(-3.41101604, dtype=float64), (4097,))"
      ]
     },
     "execution_count": 8,
     "metadata": {},
     "output_type": "execute_result"
    }
   ],
   "source": [
    "def ising(paras):\n",
    "    eps = paras[:N]\n",
    "    uniVec = paras[N:]\n",
    "\n",
    "    p_down = 1/(1+jnp.exp(-beta * eps))\n",
    "    p_up = jnp.exp(-beta * eps)/(1+jnp.exp(-beta * eps))\n",
    "    probs = jnp.vstack((p_down,p_up))\n",
    "\n",
    "    px = stateMat_to_prob_map(allstateMat,probs)\n",
    "    unitary = unitary_prods(uniVec)\n",
    "    operator = unitary.conjugate().T @ H @ unitary\n",
    "\n",
    "    entropy = jnp.sum(jnp.multiply(px,jnp.log(px)))\n",
    "    loss = entropy + beta* weighted_expected(operator,px)\n",
    "    #print(entropy)\n",
    "    return loss\n",
    "\n",
    "\n",
    "\n",
    "\n",
    "ising(paras),jax.grad(ising)(paras).shape\n",
    "#ising(paras)\n",
    "\n"
   ]
  },
  {
   "cell_type": "code",
   "execution_count": 9,
   "metadata": {},
   "outputs": [
    {
     "name": "stdout",
     "output_type": "stream",
     "text": [
      "success: True \n",
      "niterations: 767 \n",
      "final loss: -4.1016182712021045\n"
     ]
    }
   ],
   "source": [
    "import scipy.optimize\n",
    "\n",
    "def value_and_grad_numpy(f):\n",
    "    def val_grad_f(*args):\n",
    "        value, grad = jax.value_and_grad(f)(*args)\n",
    "        return np.float64(value), np.array(grad,dtype=np.float64)\n",
    "    return val_grad_f\n",
    "results = scipy.optimize.minimize(value_and_grad_numpy(ising), np.array(paras,dtype=np.float64),\n",
    "                                  method='L-BFGS-B', jac=True)\n",
    "print(\"success:\", results.success, \"\\nniterations:\", results.nit, \"\\nfinal loss:\", results.fun)"
   ]
  },
  {
   "cell_type": "code",
   "execution_count": 9,
   "metadata": {},
   "outputs": [
    {
     "data": {
      "text/plain": [
       "DeviceArray(-4.10161988-0.j, dtype=complex128)"
      ]
     },
     "execution_count": 9,
     "metadata": {},
     "output_type": "execute_result"
    }
   ],
   "source": [
    "-jnp.log(jnp.trace(expm(- beta * H)))"
   ]
  },
  {
   "cell_type": "code",
   "execution_count": 10,
   "metadata": {},
   "outputs": [],
   "source": [
    "def exact_ising(J,h,beta):\n",
    "    inside1 = jnp.exp(beta * J) * jnp.cosh(beta*h) \n",
    "    inside2 = jnp.sqrt(jnp.exp(2*beta * J) * (jnp.sinh(beta*h)**2) + jnp.exp(-2*beta * J))\n",
    "\n",
    "    return - (1/beta) * jnp.log(inside1+inside2)"
   ]
  },
  {
   "cell_type": "code",
   "execution_count": 11,
   "metadata": {},
   "outputs": [
    {
     "data": {
      "text/plain": [
       "DeviceArray(0.02614691-1.05410334e-18j, dtype=complex128)"
      ]
     },
     "execution_count": 11,
     "metadata": {},
     "output_type": "execute_result"
    }
   ],
   "source": [
    "\n",
    "p_down = 1/(1+jnp.exp(-beta * eps))\n",
    "p_up = jnp.exp(-beta * eps)/(1+jnp.exp(-beta * eps))\n",
    "probs = jnp.vstack((p_down,p_up))\n",
    "px = stateMat_to_prob_map(allstateMat,probs)\n",
    "unitary = unitary_prods(uniVec)\n",
    "operator = unitary.conjugate().T @ H @ unitary\n",
    "\n",
    "entropy = jnp.sum(jnp.multiply(px,jnp.log(px)))\n",
    "#print_matrix(unitary.conjugate().T @ unitary)\n",
    "#operator[2:4,2:4]\n",
    "beta* weighted_expected(operator,px)\n",
    "single = lambda state: state.T @ operator @ state\n",
    "expectedVs =  jax.vmap(single)(allstate)\n",
    "res = jnp.sum(jnp.multiply(expectedVs[:,0,0],px))\n",
    "#print(expectedVs)r\n",
    "res\n"
   ]
  },
  {
   "cell_type": "code",
   "execution_count": null,
   "metadata": {},
   "outputs": [],
   "source": []
  }
 ],
 "metadata": {
  "interpreter": {
   "hash": "880a427375ebf8b04afddfb4f48c6c6ca9969963e0262786f7b9dfb8d22529db"
  },
  "kernelspec": {
   "display_name": "Python 3.9.6 64-bit ('base': conda)",
   "name": "python3"
  },
  "language_info": {
   "codemirror_mode": {
    "name": "ipython",
    "version": 3
   },
   "file_extension": ".py",
   "mimetype": "text/x-python",
   "name": "python",
   "nbconvert_exporter": "python",
   "pygments_lexer": "ipython3",
   "version": "3.10.4"
  },
  "orig_nbformat": 4
 },
 "nbformat": 4,
 "nbformat_minor": 2
}
