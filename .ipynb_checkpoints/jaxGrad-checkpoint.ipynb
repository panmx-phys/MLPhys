{
 "cells": [
  {
   "cell_type": "code",
   "execution_count": 1,
   "metadata": {
    "id": "WN5PDoJ613Le"
   },
   "outputs": [],
   "source": [
    "import jax.numpy as jnp\n",
    "from jax import grad, jit, vmap, ops\n",
    "from jax import random\n",
    "import numpy as np\n",
    "import jax\n",
    "from jax.scipy.linalg import expm\n",
    "from jax.scipy import linalg\n"
   ]
  },
  {
   "cell_type": "code",
   "execution_count": 2,
   "metadata": {},
   "outputs": [],
   "source": [
    "# tunning parameter (constant in grad)\n",
    "numStates=25\n",
    "numSteps=31\n",
    "numBands=5\n",
    "fr=25.18\n",
    "kpoints=250\n",
    "kvec=jnp.linspace(-1,0,kpoints)\n",
    "\n",
    "def tridiag(a, b, c, k1=-1, k2=0, k3=1):\n",
    "    return jnp.diag(a, k1) + jnp.diag(b, k2) + jnp.diag(c, k3)\n",
    "\n",
    "\n",
    "C = []\n",
    "for i in range(2,numStates,2):\n",
    "    C = C + [0,i]\n",
    "C = jnp.array(C)\n",
    "D = jnp.zeros(numStates)\n",
    "M1 = tridiag(C,D,-1 * C)\n",
    "\n",
    "E = [0]\n",
    "for i in range(2,numStates,2):\n",
    "    E = E + [(i)**2,(i)**2]\n",
    "M2 = jnp.array(-np.diag(E))\n",
    "\n",
    "\n",
    "F = jnp.concatenate((jnp.array([jnp.sqrt(2)]) , jnp.ones(numStates-3)))\n",
    "M3 = jnp.diag(F,-2) + jnp.diag(F,2)"
   ]
  },
  {
   "cell_type": "markdown",
   "metadata": {},
   "source": [
    "# Pade"
   ]
  },
  {
   "cell_type": "code",
   "execution_count": 6,
   "metadata": {},
   "outputs": [],
   "source": [
    "padeCoefA = (0,1,5/2,74/33,19/22,29/220,7/1320)\n",
    "padeCoefB = (1,3,75/22,20/11,5/11,1/221,1/924)\n",
    "\n",
    "@jax.jit\n",
    "def logm(mat):\n",
    "    Npq = jnp.zeros(mat.shape)\n",
    "    Dpq = jnp.identity(mat.shape[0])\n",
    "    \n",
    "    for i in range(1,7):\n",
    "        curr = jnp.linalg.matrix_power(mat - jnp.identity(mat.shape[0]),i)\n",
    "        Npq += padeCoefA[i] * curr\n",
    "        Dpq += padeCoefB[i] * curr\n",
    "        \n",
    "    return jnp.linalg.inv(Dpq) @ Npq\n"
   ]
  },
  {
   "cell_type": "code",
   "execution_count": 23,
   "metadata": {},
   "outputs": [
    {
     "data": {
      "text/plain": [
       "DeviceArray([[-3.54647636e-05,  8.81552696e-05,  1.03950500e-04, ...,\n",
       "              -4.49167565e-05,  6.63399696e-05,  8.94577242e-05],\n",
       "             [ 7.15814531e-05, -3.08379531e-05,  2.48178840e-05, ...,\n",
       "               4.83244658e-05,  1.38767064e-05,  8.08392651e-05],\n",
       "             [-2.30625272e-04, -8.71913508e-05, -3.56007367e-05, ...,\n",
       "               5.88322291e-05, -6.77937642e-05,  6.16796315e-05],\n",
       "             ...,\n",
       "             [ 7.96262175e-05,  1.00784469e-04,  2.58907676e-06, ...,\n",
       "              -1.27159059e-04, -8.23885202e-05, -1.79056078e-05],\n",
       "             [-1.57834031e-04,  8.24555755e-05, -4.32824250e-04, ...,\n",
       "               1.02482736e-04, -7.65584409e-05,  6.71390444e-05],\n",
       "             [ 1.87754631e-04,  5.66802919e-06,  1.94675289e-04, ...,\n",
       "              -1.83104072e-04,  6.45220280e-05,  1.46273524e-05]],            dtype=float32)"
      ]
     },
     "execution_count": 23,
     "metadata": {},
     "output_type": "execute_result"
    }
   ],
   "source": [
    "from scipy import linalg\n",
    "import numpy as np\n",
    "\n",
    "N = 100\n",
    "test = 0.01 * np.random.rand(size=(N,N)) + np.identity(N)\n",
    "\n",
    "logm(test) - linalg.logm(test)"
   ]
  },
  {
   "cell_type": "code",
   "execution_count": 25,
   "metadata": {},
   "outputs": [
    {
     "data": {
      "text/plain": [
       "DeviceArray([[-0.05335252,  0.03544155, -0.04392498, ...,  0.01543865,\n",
       "               0.02274147,  0.00441582],\n",
       "             [-0.03129308,  0.06824718,  0.08331676, ...,  0.03264381,\n",
       "               0.03987109,  0.00487409],\n",
       "             [ 0.0036211 ,  0.00889917, -0.03060531, ...,  0.00169048,\n",
       "              -0.00846129,  0.04844356],\n",
       "             ...,\n",
       "             [ 0.02152383,  0.00537034,  0.06124863, ...,  0.06865254,\n",
       "              -0.06855287, -0.027758  ],\n",
       "             [-0.00974592, -0.06546516, -0.00678593, ...,  0.03173976,\n",
       "               0.03235643,  0.02157707],\n",
       "             [ 0.09501714,  0.02144121,  0.00904912, ...,  0.00275127,\n",
       "               0.03614387,  0.00952093]], dtype=float32)"
      ]
     },
     "execution_count": 25,
     "metadata": {},
     "output_type": "execute_result"
    }
   ],
   "source": [
    "logm(test)"
   ]
  },
  {
   "cell_type": "code",
   "execution_count": 9,
   "metadata": {},
   "outputs": [],
   "source": [
    "# freqs: driving frequencies\n",
    "# alphas: driving strength\n",
    "\n",
    "def computeFloquetLoss(freq,alpha,A):\n",
    "    lcm = 1/freq\n",
    "    Ttot =  lcm \n",
    "    ftot = 1/Ttot\n",
    "    \n",
    "    dT = (1/freq)/numSteps\n",
    "\n",
    "    N = int(jnp.ceil(Ttot/dT))\n",
    "\n",
    "    tVec = jnp.linspace(0,Ttot,N)\n",
    "    dT = tVec[1] - tVec[0]\n",
    "    tVec = tVec[:-1]\n",
    "    tVec = tVec + dT/2\n",
    "    dTau = (2 * jnp.pi * fr) * dT\n",
    "\n",
    "    @jax.jit\n",
    "    def perKstep(k):\n",
    "        unitary = jnp.identity(M1.shape[0])\n",
    "        for tt in range(tVec.shape[0]):\n",
    "            t = tVec[tt]\n",
    "            unitary = jnp.matmul(unitary,expm(-1j * dTau * createHmat(t,k)))\n",
    "        return unitary\n",
    "\n",
    "    @jax.jit\n",
    "    def createHmat(t,k):\n",
    "        modfunc = 1 + jnp.sum(alpha * jnp.sin(2 * jnp.pi * freq * t))\n",
    "        newMat = (k**2) * jnp.identity(numStates) - 2* 1j * k * M1 -M2  - (1/4) * M3 * A * modfunc\n",
    "        return newMat\n",
    "\n",
    "    @jax.jit\n",
    "    def genUni():\n",
    "        kMap = vmap(perKstep)\n",
    "        return kMap(kvec)\n",
    "\n",
    "    res = genUni()\n",
    "\n",
    "    def eigWrapper(mat):\n",
    "        return jnp.linalg.eigvals(mat)\n",
    "\n",
    "    eig = jax.jit(eigWrapper,backend='cpu')\n",
    "    b =jnp.linalg.eigvals(res)\n",
    "    rawEfloquet = jnp.real(1j*jnp.log(b)* (ftot/fr) / (2*np.pi))\n",
    "    \n",
    "\n",
    "    \n",
    "    return jnp.std(rawEfloquet)\n",
    "    \n",
    "    \n"
   ]
  },
  {
   "cell_type": "code",
   "execution_count": null,
   "metadata": {},
   "outputs": [
    {
     "ename": "NotImplementedError",
     "evalue": "Nonsymmetric eigendecomposition is only implemented on the CPU backend",
     "output_type": "error",
     "traceback": [
      "\u001b[0;31m---------------------------------------------------------------------------\u001b[0m",
      "\u001b[0;31mNotImplementedError\u001b[0m                       Traceback (most recent call last)",
      "\u001b[0;32m/tmp/ipykernel_17268/1438605196.py\u001b[0m in \u001b[0;36m<module>\u001b[0;34m\u001b[0m\n\u001b[0;32m----> 1\u001b[0;31m \u001b[0mgrad\u001b[0m\u001b[0;34m(\u001b[0m\u001b[0mcomputeFloquetLoss\u001b[0m\u001b[0;34m)\u001b[0m\u001b[0;34m(\u001b[0m\u001b[0;36m70.0\u001b[0m\u001b[0;34m,\u001b[0m\u001b[0;36m0.5\u001b[0m\u001b[0;34m,\u001b[0m\u001b[0;36m3.0\u001b[0m\u001b[0;34m)\u001b[0m\u001b[0;34m\u001b[0m\u001b[0;34m\u001b[0m\u001b[0m\n\u001b[0m",
      "    \u001b[0;31m[... skipping hidden 9 frame]\u001b[0m\n",
      "\u001b[0;32m/tmp/ipykernel_17268/3334352708.py\u001b[0m in \u001b[0;36mcomputeFloquetLoss\u001b[0;34m(freq, alpha, A)\u001b[0m\n\u001b[1;32m     38\u001b[0m     \u001b[0mres\u001b[0m \u001b[0;34m=\u001b[0m \u001b[0mgenUni\u001b[0m\u001b[0;34m(\u001b[0m\u001b[0;34m)\u001b[0m\u001b[0;34m\u001b[0m\u001b[0;34m\u001b[0m\u001b[0m\n\u001b[1;32m     39\u001b[0m \u001b[0;34m\u001b[0m\u001b[0m\n\u001b[0;32m---> 40\u001b[0;31m     \u001b[0mb\u001b[0m \u001b[0;34m=\u001b[0m\u001b[0mjnp\u001b[0m\u001b[0;34m.\u001b[0m\u001b[0mlinalg\u001b[0m\u001b[0;34m.\u001b[0m\u001b[0meigvals\u001b[0m\u001b[0;34m(\u001b[0m\u001b[0mres\u001b[0m\u001b[0;34m)\u001b[0m\u001b[0;34m\u001b[0m\u001b[0;34m\u001b[0m\u001b[0m\n\u001b[0m\u001b[1;32m     41\u001b[0m     \u001b[0mrawEfloquet\u001b[0m \u001b[0;34m=\u001b[0m \u001b[0mjnp\u001b[0m\u001b[0;34m.\u001b[0m\u001b[0mreal\u001b[0m\u001b[0;34m(\u001b[0m\u001b[0;36m1j\u001b[0m\u001b[0;34m*\u001b[0m\u001b[0mjnp\u001b[0m\u001b[0;34m.\u001b[0m\u001b[0mlog\u001b[0m\u001b[0;34m(\u001b[0m\u001b[0mb\u001b[0m\u001b[0;34m)\u001b[0m\u001b[0;34m*\u001b[0m \u001b[0;34m(\u001b[0m\u001b[0mftot\u001b[0m\u001b[0;34m/\u001b[0m\u001b[0mfr\u001b[0m\u001b[0;34m)\u001b[0m \u001b[0;34m/\u001b[0m \u001b[0;34m(\u001b[0m\u001b[0;36m2\u001b[0m\u001b[0;34m*\u001b[0m\u001b[0mnp\u001b[0m\u001b[0;34m.\u001b[0m\u001b[0mpi\u001b[0m\u001b[0;34m)\u001b[0m\u001b[0;34m)\u001b[0m\u001b[0;34m\u001b[0m\u001b[0;34m\u001b[0m\u001b[0m\n\u001b[1;32m     42\u001b[0m \u001b[0;34m\u001b[0m\u001b[0m\n",
      "\u001b[0;32m~/.local/lib/python3.9/site-packages/jax/_src/numpy/linalg.py\u001b[0m in \u001b[0;36meigvals\u001b[0;34m(a)\u001b[0m\n\u001b[1;32m    291\u001b[0m \u001b[0;34m@\u001b[0m\u001b[0m_wraps\u001b[0m\u001b[0;34m(\u001b[0m\u001b[0mnp\u001b[0m\u001b[0;34m.\u001b[0m\u001b[0mlinalg\u001b[0m\u001b[0;34m.\u001b[0m\u001b[0meigvals\u001b[0m\u001b[0;34m)\u001b[0m\u001b[0;34m\u001b[0m\u001b[0;34m\u001b[0m\u001b[0m\n\u001b[1;32m    292\u001b[0m \u001b[0;32mdef\u001b[0m \u001b[0meigvals\u001b[0m\u001b[0;34m(\u001b[0m\u001b[0ma\u001b[0m\u001b[0;34m)\u001b[0m\u001b[0;34m:\u001b[0m\u001b[0;34m\u001b[0m\u001b[0;34m\u001b[0m\u001b[0m\n\u001b[0;32m--> 293\u001b[0;31m   return lax_linalg.eig(a, compute_left_eigenvectors=False,\n\u001b[0m\u001b[1;32m    294\u001b[0m                         compute_right_eigenvectors=False)[0]\n\u001b[1;32m    295\u001b[0m \u001b[0;34m\u001b[0m\u001b[0m\n",
      "    \u001b[0;31m[... skipping hidden 15 frame]\u001b[0m\n",
      "\u001b[0;32m~/.local/lib/python3.9/site-packages/jax/_src/lax/linalg.py\u001b[0m in \u001b[0;36meig_translation_rule\u001b[0;34m(c, operand, compute_left_eigenvectors, compute_right_eigenvectors)\u001b[0m\n\u001b[1;32m    381\u001b[0m def eig_translation_rule(c, operand, *, compute_left_eigenvectors,\n\u001b[1;32m    382\u001b[0m                          compute_right_eigenvectors):\n\u001b[0;32m--> 383\u001b[0;31m   raise NotImplementedError(\n\u001b[0m\u001b[1;32m    384\u001b[0m     \"Nonsymmetric eigendecomposition is only implemented on the CPU backend\")\n\u001b[1;32m    385\u001b[0m \u001b[0;34m\u001b[0m\u001b[0m\n",
      "\u001b[0;31mNotImplementedError\u001b[0m: Nonsymmetric eigendecomposition is only implemented on the CPU backend"
     ]
    }
   ],
   "source": [
    "grad(computeFloquetLoss)(70.0,0.5,3.0)"
   ]
  },
  {
   "cell_type": "code",
   "execution_count": null,
   "metadata": {},
   "outputs": [],
   "source": [
    "@jax.jit\n",
    "def blochStates(i):\n",
    "    k = kvec[i]\n",
    "    currF = vF[i,:,:] \n",
    "    H0 =  (k**2) * jnp.identity(numStates) - 2* 1j * k * M1 -M2  - (1/4) * M3 * A \n",
    "    a,vS = jnp.linalg.eigh(H0)\n",
    "    vS = jnp.transpose(vS)\n",
    "    Cvec = jnp.matmul(vS,jnp.conjugate(currF))\n",
    "    Pvec = jnp.multiply(Cvec,jnp.conjugate(Cvec))\n",
    "    inds = jnp.argmax(Pvec,axis=1)\n",
    "    Efloquet = rawEfloquet[i,inds[:numBands]]\n",
    "    return Efloquet\n",
    "bandsF = vmap(blochStates)(jnp.arange(250))"
   ]
  },
  {
   "cell_type": "code",
   "execution_count": null,
   "metadata": {},
   "outputs": [],
   "source": []
  }
 ],
 "metadata": {
  "colab": {
   "collapsed_sections": [],
   "name": "jaxApp.ipynb",
   "provenance": []
  },
  "kernelspec": {
   "display_name": "Python 3 (ipykernel)",
   "language": "python",
   "name": "python3"
  },
  "language_info": {
   "codemirror_mode": {
    "name": "ipython",
    "version": 3
   },
   "file_extension": ".py",
   "mimetype": "text/x-python",
   "name": "python",
   "nbconvert_exporter": "python",
   "pygments_lexer": "ipython3",
   "version": "3.9.6"
  }
 },
 "nbformat": 4,
 "nbformat_minor": 4
}
