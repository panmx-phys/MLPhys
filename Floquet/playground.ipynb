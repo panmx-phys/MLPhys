{
 "cells": [
  {
   "cell_type": "code",
   "execution_count": 1,
   "source": [
    "import jax.numpy as jnp\n",
    "from jax import grad, jit, vmap, ops\n",
    "from jax import random\n",
    "import numpy as np\n",
    "import jax\n",
    "from jax.scipy.linalg import expm\n",
    "from jax.scipy import linalg\n",
    "import eigAD\n",
    "from jax.config import config   \n",
    "config.update(\"jax_enable_x64\", True)"
   ],
   "outputs": [],
   "metadata": {}
  },
  {
   "cell_type": "code",
   "execution_count": 2,
   "source": [
    "# tunning parameter (constant in grad)\n",
    "numStates=25\n",
    "numSteps=31\n",
    "numBands=5\n",
    "fr=25.18\n",
    "kpoints=250\n",
    "kvec=jnp.linspace(-1,0,kpoints)\n",
    "\n",
    "def tridiag(a, b, c, k1=-1, k2=0, k3=1):\n",
    "    return np.diag(a, k1) + np.diag(b, k2) + np.diag(c, k3)\n",
    "\n",
    "\n",
    "C = []\n",
    "for i in range(2,numStates,2):\n",
    "    C = C + [0,i]\n",
    "C = np.array(C)\n",
    "D = np.zeros(numStates)\n",
    "M1 = tridiag(C,D,-1 * C)\n",
    "\n",
    "E = [0]\n",
    "for i in range(2,numStates,2):\n",
    "    E = E + [(i)**2,(i)**2]\n",
    "M2 = np.array(-np.diag(E))\n",
    "\n",
    "\n",
    "F = np.concatenate((np.array([np.sqrt(2)]), np.ones(numStates-3)))\n",
    "M3 = np.diag(F,-2) + np.diag(F,2)"
   ],
   "outputs": [],
   "metadata": {}
  },
  {
   "cell_type": "code",
   "execution_count": 3,
   "source": [
    "freq = 70.0\n",
    "Ttot = 1/freq\n",
    "ftot = 1/Ttot\n",
    "dT = Ttot/numSteps\n",
    "N = 31\n",
    "\n",
    "tVec = jnp.linspace(0,Ttot,N)\n",
    "dT = tVec[1] - tVec[0]\n",
    "tVec = tVec[:-1]\n",
    "tVec = tVec + dT/2\n",
    "modfunc = 1 + 0.5 * jnp.sin(2 * jnp.pi * freq * tVec)"
   ],
   "outputs": [],
   "metadata": {}
  },
  {
   "cell_type": "code",
   "execution_count": 8,
   "source": [
    "# freqs: driving frequencies\n",
    "# alphas: driving strength\n",
    "\n",
    "M1 = jnp.asarray(M1)\n",
    "M2 = jnp.asarray(M2)\n",
    "M3 = jnp.asarray(M3)\n",
    "\n",
    "def computeFloquetLoss(modulation):\n",
    "    \n",
    "    A = modulation[0]\n",
    "    modulation = modulation[1:]\n",
    "    dTau = (2 * jnp.pi * fr) * dT\n",
    "\n",
    "    @jax.jit\n",
    "    def perKstep(k):\n",
    "        unitaryInit = jnp.identity(M1.shape[0],dtype=jnp.complex128)\n",
    "\n",
    "        @jax.jit\n",
    "        def scanf(unitary,tIdx):\n",
    "            dU = expm(-1j * dTau * createHmat(tIdx,k))\n",
    "            dU = jnp.asarray(dU)\n",
    "            unitary = jnp.asarray(unitary)\n",
    "            unitary = jnp.matmul(unitary,dU)\n",
    "            return unitary,0\n",
    "\n",
    "        res, _ = jax.lax.scan(scanf,unitaryInit,jnp.arange(N))\n",
    "        return res\n",
    "\n",
    "\n",
    "    @jax.jit\n",
    "    def createHmat(tIdx,k):\n",
    "        newMat = (k**2) * jnp.identity(numStates,dtype=jnp.complex128) - 2* 1j * k * M1 -M2  - (1/4) * M3 * A * modulation[tIdx]\n",
    "        return newMat\n",
    "    \n",
    "\n",
    "    def genUni():\n",
    "        kMap = vmap(perKstep)\n",
    "        return kMap(kvec)\n",
    "\n",
    "    res = genUni()\n",
    "\n",
    "    def eigWrapper(mat):\n",
    "        return eigAD.eig(mat)\n",
    "\n",
    "    eigWrapper= jax.jit(eigWrapper,backend='cpu')\n",
    "    eigWrapper= vmap(eigWrapper)\n",
    "    b,vF = eigWrapper(res)\n",
    "    rawEfloquet = jnp.real(1j*jnp.log(b)* (ftot/fr) / (2*np.pi))\n",
    "    \n",
    "    @jax.jit\n",
    "    def blochStates(i):\n",
    "        k = kvec[i]\n",
    "        currF = vF[i,:,:] \n",
    "        H0 =  (k**2) * jnp.identity(numStates) - 2* 1j * k * M1 -M2  - (1/4) * M3 * A \n",
    "        a,vS = jnp.linalg.eigh(H0)\n",
    "        vS = jnp.transpose(vS)\n",
    "        Cvec = jnp.matmul(vS,jnp.conjugate(currF))\n",
    "        Pvec = jnp.multiply(Cvec,jnp.conjugate(Cvec))\n",
    "        inds = jnp.argmax(jnp.real(Pvec),axis=1)\n",
    "        Efloquet = rawEfloquet[i,inds[:numBands]]\n",
    "        return Efloquet\n",
    "    bandsF = vmap(blochStates)(jnp.arange(250))\n",
    "\n",
    "    return bandsF[:,0]\n",
    "    \n",
    "    "
   ],
   "outputs": [],
   "metadata": {}
  },
  {
   "cell_type": "code",
   "execution_count": 5,
   "source": [
    "callbacks = np.load(\"trivial.npy\")"
   ],
   "outputs": [],
   "metadata": {}
  },
  {
   "cell_type": "code",
   "execution_count": 19,
   "source": [
    "losses = [computeFloquetLoss(jnp.array(callbacks[i,:])) for i in range(callbacks.shape[0])]"
   ],
   "outputs": [],
   "metadata": {}
  },
  {
   "cell_type": "code",
   "execution_count": 11,
   "source": [
    "res = computeFloquetLoss(jnp.array(callbacks[-1,:]))"
   ],
   "outputs": [],
   "metadata": {}
  },
  {
   "cell_type": "code",
   "execution_count": 14,
   "source": [
    "bandsF = res\n",
    "mirror = jnp.flip(bandsF,axis=0)\n",
    "bandsF = jnp.concatenate((bandsF,mirror),axis=0)\n",
    "import matplotlib.pyplot as plt\n",
    "plt.plot(bandsF)"
   ],
   "outputs": [
    {
     "output_type": "execute_result",
     "data": {
      "text/plain": [
       "[<matplotlib.lines.Line2D at 0x7febfa097fd0>]"
      ]
     },
     "metadata": {},
     "execution_count": 14
    },
    {
     "output_type": "display_data",
     "data": {
      "image/png": "[encoded data removed]",
      "text/plain": [
       "<Figure size 432x288 with 1 Axes>"
      ]
     },
     "metadata": {
      "needs_background": "light"
     }
    }
   ],
   "metadata": {}
  },
  {
   "cell_type": "code",
   "execution_count": 15,
   "source": [
    "callbacks[-1,:]"
   ],
   "outputs": [
    {
     "output_type": "execute_result",
     "data": {
      "text/plain": [
       "array([73.070819  , 13.10087561, 13.17177756, 13.35317954, 13.76508492,\n",
       "       14.34846934, 14.30883127, 12.68944963, 10.3295133 ,  9.55823239,\n",
       "       11.07237646, 13.46693684, 15.24523967, 16.2120579 , 16.34824207,\n",
       "       14.9726744 , 12.30711587, 10.25478627, 11.14088894, 14.78294761,\n",
       "       18.55204955, 20.52681664, 20.7702244 , 19.6471135 , 17.22924237,\n",
       "       14.32638902, 12.59981959, 12.76282181, 13.48051289, 13.65018194,\n",
       "       13.34943847])"
      ]
     },
     "metadata": {},
     "execution_count": 15
    }
   ],
   "metadata": {}
  },
  {
   "cell_type": "code",
   "execution_count": null,
   "source": [],
   "outputs": [],
   "metadata": {}
  }
 ],
 "metadata": {
  "colab": {
   "collapsed_sections": [],
   "name": "jaxApp.ipynb",
   "provenance": []
  },
  "kernelspec": {
   "name": "python3",
   "display_name": "Python 3.9.6 64-bit ('base': conda)"
  },
  "language_info": {
   "codemirror_mode": {
    "name": "ipython",
    "version": 3
   },
   "file_extension": ".py",
   "mimetype": "text/x-python",
   "name": "python",
   "nbconvert_exporter": "python",
   "pygments_lexer": "ipython3",
   "version": "3.9.6"
  },
  "interpreter": {
   "hash": "6d2e4df79d9b8264f4bf5b116cc281ac4a1cd6527d280090d0e724de364dd3bf"
  }
 },
 "nbformat": 4,
 "nbformat_minor": 4
}