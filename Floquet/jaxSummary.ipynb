{
 "cells": [
  {
   "cell_type": "code",
   "execution_count": 1,
   "source": [
    "import jax.numpy as jnp\n",
    "from jax import grad, jit, vmap, ops\n",
    "import numpy as np\n",
    "import jax\n",
    "from jax.scipy.linalg import expm\n",
    "import eigAD\n",
    "from jax.config import config   \n",
    "config.update(\"jax_enable_x64\", True)"
   ],
   "outputs": [],
   "metadata": {
    "id": "WN5PDoJ613Le"
   }
  },
  {
   "cell_type": "code",
   "execution_count": 2,
   "source": [
    "# tunning parameter (constant in grad)\n",
    "numStates=25\n",
    "numSteps=31\n",
    "numBands=2\n",
    "fr=25.18\n",
    "kpoints=250\n",
    "kvec=jnp.linspace(-1,0,kpoints)\n",
    "\n",
    "def tridiag(a, b, c, k1=-1, k2=0, k3=1):\n",
    "    return np.diag(a, k1) + np.diag(b, k2) + np.diag(c, k3)\n",
    "\n",
    "\n",
    "C = []\n",
    "for i in range(2,numStates,2):\n",
    "    C = C + [0,i]\n",
    "C = np.array(C)\n",
    "D = np.zeros(numStates)\n",
    "M1 = tridiag(C,D,-1 * C)\n",
    "\n",
    "E = [0]\n",
    "for i in range(2,numStates,2):\n",
    "    E = E + [(i)**2,(i)**2]\n",
    "M2 = np.array(-np.diag(E))\n",
    "\n",
    "\n",
    "F = np.concatenate((np.array([np.sqrt(2)]), np.ones(numStates-3)))\n",
    "M3 = np.diag(F,-2) + np.diag(F,2)"
   ],
   "outputs": [],
   "metadata": {}
  },
  {
   "cell_type": "code",
   "execution_count": 3,
   "source": [
    "freq = 70.0\n",
    "Ttot = 1/freq\n",
    "ftot = 1/Ttot\n",
    "dT = Ttot/numSteps\n",
    "N = 31\n",
    "\n",
    "tVec = jnp.linspace(0,Ttot,N)\n",
    "dT = tVec[1] - tVec[0]\n",
    "tVec = tVec[:-1]\n",
    "tVec = tVec + dT/2\n",
    "modfunc = 1 + 0.5 * jnp.sin(2 * jnp.pi * freq * tVec)"
   ],
   "outputs": [],
   "metadata": {}
  },
  {
   "cell_type": "code",
   "execution_count": 4,
   "source": [
    "# freqs: driving frequencies\n",
    "# alphas: driving strength\n",
    "\n",
    "M1 = jnp.asarray(M1,dtype=jnp.complex64)\n",
    "M2 = jnp.asarray(M2,dtype=jnp.complex64)\n",
    "M3 = jnp.asarray(M3,dtype=jnp.complex64)\n",
    "\n",
    "def computeFloquet(modulation):\n",
    "    \n",
    "    A = modulation[0]\n",
    "    modulation = modulation[1:]\n",
    "    dTau = (2 * jnp.pi * fr) * dT\n",
    "\n",
    "    @jax.jit\n",
    "    def perKstep(k):\n",
    "        unitaryInit = jnp.identity(M1.shape[0],dtype=jnp.complex64)\n",
    "\n",
    "        @jax.jit\n",
    "        def scanf(unitary,tIdx):\n",
    "            dU = expm(-1j * dTau * createHmat(tIdx,k))\n",
    "            dU = jnp.asarray(dU,dtype=jnp.complex64)\n",
    "            unitary = jnp.asarray(unitary,dtype=jnp.complex64)\n",
    "            unitary = jnp.matmul(unitary,dU)\n",
    "            return unitary,0\n",
    "\n",
    "        res, _ = jax.lax.scan(scanf,unitaryInit,jnp.arange(N))\n",
    "        return res\n",
    "\n",
    "\n",
    "    @jax.jit\n",
    "    def createHmat(tIdx,k):\n",
    "        newMat = (k**2) * jnp.identity(numStates,dtype=jnp.complex64) - 2* 1j * k * M1 -M2  - (1/4) * M3 * A * modulation[tIdx]\n",
    "        return newMat\n",
    "    \n",
    "\n",
    "    def genUni():\n",
    "        kMap = vmap(perKstep)\n",
    "        return kMap(kvec)\n",
    "\n",
    "    res = genUni()\n",
    "\n",
    "    def eigWrapper(mat):\n",
    "        return eigAD.eig(mat)\n",
    "\n",
    "    eigWrapper= jax.jit(eigWrapper,backend='cpu')\n",
    "    eigWrapper= vmap(eigWrapper)\n",
    "    b,vF = eigWrapper(res)\n",
    "    rawEfloquet = jnp.real(1j*jnp.log(b)* (ftot/fr) / (2*np.pi))\n",
    "    \n",
    "    @jax.jit\n",
    "    def blochStates(i):\n",
    "        k = kvec[i]\n",
    "        currF = vF[i,:,:] \n",
    "        H0 =  (k**2) * jnp.identity(numStates) - 2* 1j * k * M1 -M2  - (1/4) * M3 * A \n",
    "        a,vS = jnp.linalg.eigh(H0)\n",
    "        vS = jnp.transpose(vS)\n",
    "        Cvec = jnp.matmul(vS,jnp.conjugate(currF))\n",
    "        Pvec = jnp.multiply(Cvec,jnp.conjugate(Cvec))\n",
    "        inds = jnp.argmax(jnp.real(Pvec),axis=1)\n",
    "        Efloquet = rawEfloquet[i,inds[:numBands]]\n",
    "        return Efloquet\n",
    "    bandsF = vmap(blochStates)(jnp.arange(250))\n",
    "\n",
    "    return bandsF\n",
    "    \n",
    "    \n"
   ],
   "outputs": [],
   "metadata": {}
  },
  {
   "cell_type": "code",
   "execution_count": 5,
   "source": [
    "init_para = np.ones(N)\n",
    "init_para[0] = 2.0\n",
    "init_para[1:] = modfunc\n",
    "\n",
    "\n",
    "#bandsF = computeFloquet(jnp.array(init_para))\n",
    "\n",
    "@jax.jit\n",
    "def loss(params):\n",
    "    params = jnp.array(params)\n",
    "    bandsF = computeFloquet(params)\n",
    "    bandsF = jnp.sort(bandsF,axis=1)\n",
    "    gaps = bandsF[:,1] - bandsF[:,0]\n",
    "    minGap = jnp.min(gaps)\n",
    "    return jnp.abs(minGap - 0.5)\n",
    "\n",
    "loss= jax.jit(loss,backend='cpu')"
   ],
   "outputs": [],
   "metadata": {}
  },
  {
   "cell_type": "code",
   "execution_count": 6,
   "source": [
    "grad(loss)(init_para)"
   ],
   "outputs": [
    {
     "output_type": "execute_result",
     "data": {
      "text/plain": [
       "DeviceArray([-0.0857636 , -0.00733626, -0.0123534 , -0.01646438,\n",
       "             -0.01964758, -0.02197378, -0.02353851, -0.02439603,\n",
       "             -0.02454019, -0.02393533, -0.02255794, -0.02041025,\n",
       "             -0.01750356, -0.01383856, -0.0094097 , -0.00424105,\n",
       "              0.00156269,  0.00778181,  0.01408809,  0.02008929,\n",
       "              0.02538619,  0.02961867,  0.03249539,  0.03381372,\n",
       "              0.03347496,  0.03149426,  0.02800211,  0.02323532,\n",
       "              0.01751619,  0.01122029,  0.00473874], dtype=float64)"
      ]
     },
     "metadata": {},
     "execution_count": 6
    }
   ],
   "metadata": {}
  },
  {
   "cell_type": "code",
   "execution_count": 7,
   "source": [
    "res = init_para\n",
    "def callback(xk):\n",
    "    global res\n",
    "    res = np.vstack((res,xk))\n",
    "    np.save(\"callbacks.npy\",res)\n",
    "\n",
    "import scipy.optimize\n",
    "\n",
    "def value_and_grad_numpy(f):\n",
    "    def val_grad_f(*args):\n",
    "        value, grad = jax.value_and_grad(f)(*args)\n",
    "        return np.array(value), np.array(grad)\n",
    "    return val_grad_f\n",
    "results = scipy.optimize.minimize(value_and_grad_numpy(loss), np.array(init_para),\n",
    "                                  method='L-BFGS-B', jac=True,callback=callback)\n",
    "print(\"success:\", results.success, \"\\nniterations:\", results.nit, \"\\nfinal loss:\", results.fun)\n"
   ],
   "outputs": [
    {
     "output_type": "stream",
     "name": "stdout",
     "text": [
      "success: False \n",
      "niterations: 4 \n",
      "final loss: 0.0\n"
     ]
    }
   ],
   "metadata": {}
  },
  {
   "cell_type": "code",
   "execution_count": 8,
   "source": [
    "\n",
    "import matplotlib.pyplot as plt\n",
    "bandsF = computeFloquet(jnp.array(results.x))\n",
    "bandsF = jnp.sort(bandsF,axis=1)\n",
    "gaps = bandsF[:,1] - bandsF[:,0]\n",
    "xpoint = jnp.argmin(gaps)\n",
    "plt.plot(bandsF[:,:3])\n",
    "plt.plot((xpoint,xpoint),(bandsF[xpoint,1] , bandsF[xpoint,0]),'k-')"
   ],
   "outputs": [
    {
     "output_type": "execute_result",
     "data": {
      "text/plain": [
       "[<matplotlib.lines.Line2D at 0x7f1cd5e42100>]"
      ]
     },
     "metadata": {},
     "execution_count": 8
    },
    {
     "output_type": "display_data",
     "data": {
      "image/png": "[encoded data removed]",
      "text/plain": [
       "<Figure size 432x288 with 1 Axes>"
      ]
     },
     "metadata": {
      "needs_background": "light"
     }
    }
   ],
   "metadata": {}
  },
  {
   "cell_type": "code",
   "execution_count": 9,
   "source": [
    "jnp.min(gaps)"
   ],
   "outputs": [
    {
     "output_type": "execute_result",
     "data": {
      "text/plain": [
       "DeviceArray(0.4999999, dtype=float32)"
      ]
     },
     "metadata": {},
     "execution_count": 9
    }
   ],
   "metadata": {}
  },
  {
   "cell_type": "code",
   "execution_count": null,
   "source": [],
   "outputs": [],
   "metadata": {}
  }
 ],
 "metadata": {
  "colab": {
   "collapsed_sections": [],
   "name": "jaxApp.ipynb",
   "provenance": []
  },
  "kernelspec": {
   "name": "python3",
   "display_name": "Python 3.9.6 64-bit ('base': conda)"
  },
  "language_info": {
   "codemirror_mode": {
    "name": "ipython",
    "version": 3
   },
   "file_extension": ".py",
   "mimetype": "text/x-python",
   "name": "python",
   "nbconvert_exporter": "python",
   "pygments_lexer": "ipython3",
   "version": "3.9.6"
  },
  "interpreter": {
   "hash": "6d2e4df79d9b8264f4bf5b116cc281ac4a1cd6527d280090d0e724de364dd3bf"
  }
 },
 "nbformat": 4,
 "nbformat_minor": 4
}