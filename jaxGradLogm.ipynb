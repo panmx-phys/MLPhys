{
 "cells": [
  {
   "cell_type": "code",
   "execution_count": 1,
   "source": [
    "import jax.numpy as jnp\n",
    "from jax import grad, jit, vmap, ops\n",
    "from jax import random\n",
    "import numpy as np\n",
    "import jax\n",
    "from jax.scipy.linalg import expm\n",
    "from jax.scipy import linalg\n",
    "import eigAD\n"
   ],
   "outputs": [],
   "metadata": {
    "id": "WN5PDoJ613Le"
   }
  },
  {
   "cell_type": "code",
   "execution_count": 2,
   "source": [
    "# tunning parameter (constant in grad)\n",
    "numStates=25\n",
    "numSteps=31\n",
    "numBands=5\n",
    "fr=25.18\n",
    "kpoints=250\n",
    "kvec=jnp.linspace(-1,0,kpoints)\n",
    "\n",
    "def tridiag(a, b, c, k1=-1, k2=0, k3=1):\n",
    "    return np.diag(a, k1) + np.diag(b, k2) + np.diag(c, k3)\n",
    "\n",
    "\n",
    "C = []\n",
    "for i in range(2,numStates,2):\n",
    "    C = C + [0,i]\n",
    "C = np.array(C)\n",
    "D = np.zeros(numStates)\n",
    "M1 = tridiag(C,D,-1 * C)\n",
    "\n",
    "E = [0]\n",
    "for i in range(2,numStates,2):\n",
    "    E = E + [(i)**2,(i)**2]\n",
    "M2 = np.array(-np.diag(E))\n",
    "\n",
    "\n",
    "F = np.concatenate((np.array([np.sqrt(2)]) , np.ones(numStates-3)))\n",
    "M3 = np.diag(F,-2) + np.diag(F,2)"
   ],
   "outputs": [],
   "metadata": {}
  },
  {
   "cell_type": "code",
   "execution_count": 3,
   "source": [
    "padeCoefA = (0,1,5/2,74/33,19/22,29/220,7/1320)\n",
    "padeCoefB = (1,3,75/22,20/11,5/11,1/221,1/924)\n",
    "\n",
    "@jax.jit\n",
    "def logm(mat):\n",
    "    Npq = jnp.zeros(mat.shape)\n",
    "    Dpq = jnp.identity(mat.shape[0])\n",
    "    \n",
    "    for i in range(1,7):\n",
    "        curr = jnp.linalg.matrix_power(mat - jnp.identity(mat.shape[0]),i)\n",
    "        Npq += padeCoefA[i] * curr\n",
    "        Dpq += padeCoefB[i] * curr\n",
    "        \n",
    "    return jnp.linalg.inv(Dpq) @ Npq\n"
   ],
   "outputs": [],
   "metadata": {}
  },
  {
   "cell_type": "code",
   "execution_count": 7,
   "source": [
    "# freqs: driving frequencies\n",
    "# alphas: driving strength\n",
    "\n",
    "M1 = jnp.asarray(M1,dtype=jnp.complex64)\n",
    "M2 = jnp.asarray(M2,dtype=jnp.complex64)\n",
    "M3 = jnp.asarray(M3,dtype=jnp.complex64)\n",
    "\n",
    "def computeFloquetLoss(freq,alpha,A):\n",
    "    lcm = 1/freq\n",
    "    Ttot =  lcm \n",
    "    ftot = 1/Ttot\n",
    "    \n",
    "    dT = (1/freq)/numSteps\n",
    "\n",
    "    N = int(jnp.ceil(Ttot/dT))\n",
    "\n",
    "    tVec = jnp.linspace(0,Ttot,N)\n",
    "    dT = tVec[1] - tVec[0]\n",
    "    tVec = tVec[:-1]\n",
    "    tVec = tVec + dT/2\n",
    "    dTau = (2 * jnp.pi * fr) * dT\n",
    "\n",
    "    @jax.jit\n",
    "    def perKstep(k):\n",
    "        unitaryInit = jnp.identity(M1.shape[0],dtype=jnp.complex64)\n",
    "\n",
    "        @jax.jit\n",
    "        def scanf(unitary,t):\n",
    "            dU = expm(-1j * dTau * createHmat(t,k))\n",
    "            dU = jnp.asarray(dU,dtype=jnp.complex64)\n",
    "            unitary = jnp.asarray(unitary,dtype=jnp.complex64)\n",
    "            unitary = jnp.matmul(unitary,dU)\n",
    "            return unitary,0\n",
    "\n",
    "        res, _ = jax.lax.scan(scanf,unitaryInit,tVec)\n",
    "        return res\n",
    "\n",
    "    @jax.jit\n",
    "    def createHmat(t,k):\n",
    "        modfunc = 1 + jnp.sum(alpha * jnp.sin(2 * jnp.pi * freq * t))\n",
    "        newMat = (k**2) * jnp.identity(numStates,dtype=jnp.complex64) - 2* 1j * k * M1 -M2  - (1/4) * M3 * A * modfunc\n",
    "        return jnp.asarray(newMat,dtype=jnp.complex64)\n",
    "\n",
    "    def genUni():\n",
    "        kMap = vmap(perKstep)\n",
    "        return kMap(kvec)\n",
    "\n",
    "    res = genUni()\n",
    "\n",
    "    logmMap = vmap(logm)\n",
    "    eigMap= vmap(jnp.linalg.eigh)\n",
    "    b,vF = eigMap(1j* (ftot/fr) / (2*np.pi) *logmMap(res))\n",
    "    rawEfloquet = jnp.real(b)\n",
    "    \n",
    "    @jax.jit\n",
    "    def blochStates(i):\n",
    "        k = kvec[i]\n",
    "        currF = vF[i,:,:] \n",
    "        H0 =  (k**2) * jnp.identity(numStates) - 2* 1j * k * M1 -M2  - (1/4) * M3 * A \n",
    "        a,vS = jnp.linalg.eigh(H0)\n",
    "        vS = jnp.transpose(vS)\n",
    "        Cvec = jnp.matmul(vS,jnp.conjugate(currF))\n",
    "        Pvec = jnp.multiply(Cvec,jnp.conjugate(Cvec))\n",
    "        inds = jnp.argmax(jnp.real(Pvec),axis=1)\n",
    "        Efloquet = rawEfloquet[i,inds[:numBands]]\n",
    "        return Efloquet\n",
    "    bandsF = vmap(blochStates)(jnp.arange(250))\n",
    "\n",
    "    return jnp.std(bandsF)\n",
    "    \n",
    "    \n"
   ],
   "outputs": [],
   "metadata": {}
  },
  {
   "cell_type": "code",
   "execution_count": 5,
   "source": [
    "bandsF = computeFloquetLoss(70.0,0.5,2.0)\n",
    "mirror = jnp.flip(bandsF,axis=0)\n",
    "bandsF = jnp.concatenate((bandsF,mirror),axis=0)\n",
    "import matplotlib.pyplot as plt\n",
    "plt.plot(bandsF[:,:3])"
   ],
   "outputs": [
    {
     "output_type": "execute_result",
     "data": {
      "text/plain": [
       "[<matplotlib.lines.Line2D at 0x7f32b8b96b80>,\n",
       " <matplotlib.lines.Line2D at 0x7f32b8b96b50>,\n",
       " <matplotlib.lines.Line2D at 0x7f32b8b96fa0>]"
      ]
     },
     "metadata": {},
     "execution_count": 5
    },
    {
     "output_type": "display_data",
     "data": {
      "image/png": "[encoded data removed]",
      "text/plain": [
       "<Figure size 432x288 with 1 Axes>"
      ]
     },
     "metadata": {
      "needs_background": "light"
     }
    }
   ],
   "metadata": {}
  },
  {
   "cell_type": "code",
   "execution_count": 9,
   "source": [
    "grad(computeFloquetLoss)(70.0,0.5,2.0)"
   ],
   "outputs": [
    {
     "output_type": "execute_result",
     "data": {
      "text/plain": [
       "DeviceArray(0.00509676, dtype=float32)"
      ]
     },
     "metadata": {},
     "execution_count": 9
    }
   ],
   "metadata": {}
  },
  {
   "cell_type": "code",
   "execution_count": null,
   "source": [],
   "outputs": [],
   "metadata": {}
  }
 ],
 "metadata": {
  "colab": {
   "collapsed_sections": [],
   "name": "jaxApp.ipynb",
   "provenance": []
  },
  "kernelspec": {
   "name": "python3",
   "display_name": "Python 3.9.6 64-bit ('base': conda)"
  },
  "language_info": {
   "codemirror_mode": {
    "name": "ipython",
    "version": 3
   },
   "file_extension": ".py",
   "mimetype": "text/x-python",
   "name": "python",
   "nbconvert_exporter": "python",
   "pygments_lexer": "ipython3",
   "version": "3.9.6"
  },
  "interpreter": {
   "hash": "6d2e4df79d9b8264f4bf5b116cc281ac4a1cd6527d280090d0e724de364dd3bf"
  }
 },
 "nbformat": 4,
 "nbformat_minor": 4
}