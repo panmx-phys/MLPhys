{
 "cells": [
  {
   "cell_type": "code",
   "execution_count": 138,
   "metadata": {},
   "outputs": [
    {
     "data": {
      "text/plain": [
       "DeviceArray(0.750391, dtype=float32)"
      ]
     },
     "execution_count": 138,
     "metadata": {},
     "output_type": "execute_result"
    }
   ],
   "source": [
    "import jax\n",
    "import jax.numpy as jnp\n",
    "import numpy as np\n",
    "from jax import random\n",
    "\n",
    "key = random.PRNGKey(80)\n",
    "random.uniform(key)"
   ]
  },
  {
   "cell_type": "code",
   "execution_count": 139,
   "metadata": {},
   "outputs": [
    {
     "ename": "TypeError",
     "evalue": "split() missing 1 required positional argument: 'key'",
     "output_type": "error",
     "traceback": [
      "\u001b[0;31m---------------------------------------------------------------------------\u001b[0m",
      "\u001b[0;31mTypeError\u001b[0m                                 Traceback (most recent call last)",
      "\u001b[0;32m/var/folders/2_/8rs1gbh95pd73jb7n34phc980000gn/T/ipykernel_1207/3226220130.py\u001b[0m in \u001b[0;36m<module>\u001b[0;34m\u001b[0m\n\u001b[1;32m     35\u001b[0m \u001b[0;34m\u001b[0m\u001b[0m\n\u001b[1;32m     36\u001b[0m \u001b[0;34m\u001b[0m\u001b[0m\n\u001b[0;32m---> 37\u001b[0;31m \u001b[0mrand_spin\u001b[0m \u001b[0;34m=\u001b[0m  \u001b[0mjax\u001b[0m\u001b[0;34m.\u001b[0m\u001b[0mvmap\u001b[0m\u001b[0;34m(\u001b[0m\u001b[0mchoose_spin\u001b[0m\u001b[0;34m)\u001b[0m\u001b[0;34m(\u001b[0m\u001b[0mprobs\u001b[0m\u001b[0;34m.\u001b[0m\u001b[0mT\u001b[0m\u001b[0;34m)\u001b[0m\u001b[0;34m\u001b[0m\u001b[0;34m\u001b[0m\u001b[0m\n\u001b[0m\u001b[1;32m     38\u001b[0m \u001b[0mrand_spin\u001b[0m \u001b[0;34m=\u001b[0m \u001b[0mrand_spin\u001b[0m\u001b[0;34m.\u001b[0m\u001b[0mT\u001b[0m\u001b[0;34m\u001b[0m\u001b[0;34m\u001b[0m\u001b[0m\n\u001b[1;32m     39\u001b[0m \u001b[0;34m\u001b[0m\u001b[0m\n",
      "    \u001b[0;31m[... skipping hidden 3 frame]\u001b[0m\n",
      "\u001b[0;32m/var/folders/2_/8rs1gbh95pd73jb7n34phc980000gn/T/ipykernel_1207/3226220130.py\u001b[0m in \u001b[0;36mchoose_spin\u001b[0;34m(prob)\u001b[0m\n\u001b[1;32m     22\u001b[0m \u001b[0;34m\u001b[0m\u001b[0m\n\u001b[1;32m     23\u001b[0m \u001b[0;32mdef\u001b[0m \u001b[0mchoose_spin\u001b[0m\u001b[0;34m(\u001b[0m\u001b[0mprob\u001b[0m\u001b[0;34m)\u001b[0m\u001b[0;34m:\u001b[0m\u001b[0;34m\u001b[0m\u001b[0;34m\u001b[0m\u001b[0m\n\u001b[0;32m---> 24\u001b[0;31m     \u001b[0mkey\u001b[0m \u001b[0;34m=\u001b[0m \u001b[0mrandom\u001b[0m\u001b[0;34m.\u001b[0m\u001b[0msplit\u001b[0m\u001b[0;34m(\u001b[0m\u001b[0;34m)\u001b[0m\u001b[0;34m\u001b[0m\u001b[0;34m\u001b[0m\u001b[0m\n\u001b[0m\u001b[1;32m     25\u001b[0m     \u001b[0mchoice\u001b[0m \u001b[0;34m=\u001b[0m \u001b[0mrandom\u001b[0m\u001b[0;34m.\u001b[0m\u001b[0mchoice\u001b[0m\u001b[0;34m(\u001b[0m\u001b[0mkey\u001b[0m\u001b[0;34m,\u001b[0m\u001b[0mspin\u001b[0m\u001b[0;34m,\u001b[0m\u001b[0mp\u001b[0m\u001b[0;34m=\u001b[0m\u001b[0mprob\u001b[0m\u001b[0;34m)\u001b[0m\u001b[0;34m\u001b[0m\u001b[0;34m\u001b[0m\u001b[0m\n\u001b[1;32m     26\u001b[0m     \u001b[0mup_func\u001b[0m \u001b[0;34m=\u001b[0m \u001b[0;32mlambda\u001b[0m \u001b[0mx\u001b[0m\u001b[0;34m:\u001b[0m \u001b[0mspin_up\u001b[0m\u001b[0;34m\u001b[0m\u001b[0;34m\u001b[0m\u001b[0m\n",
      "\u001b[0;31mTypeError\u001b[0m: split() missing 1 required positional argument: 'key'"
     ]
    }
   ],
   "source": [
    "np.random.seed(1)\n",
    "N = 4\n",
    "beta = 1\n",
    "\n",
    "sigma_z = jnp.array([[1,0],[0,-1]])\n",
    "sigma_x = jnp.array([[0,1],[1,0]])\n",
    "sigma_y = jnp.array([[0,1],[1,0]])\n",
    "\n",
    "# Generate x \n",
    "\n",
    "spin_choices = jnp.hstack(([[0],[1]],)*N)\n",
    "spin = jnp.array([0,1])\n",
    "spin_up = jnp.array([[1],[0]])\n",
    "spin_down= jnp.array([[0],[1]])\n",
    "\n",
    "epsilons = np.random.rand(2,N)\n",
    "eps = jnp.array(0.5 * np.random.rand(N))\n",
    "p_down = 1/(1+jnp.exp(-beta * eps))\n",
    "p_up = jnp.exp(-beta * eps)/(1+jnp.exp(-beta * eps))\n",
    "probs = jnp.vstack((p_down,p_up))\n",
    "\n",
    "\n",
    "def choose_spin(prob):\n",
    "    key = random.split()\n",
    "    choice = random.choice(key,spin,p=prob)\n",
    "    up_func = lambda x: spin_up\n",
    "    down_func = lambda x: spin_down\n",
    "    if choice == 0:\n",
    "        return spin_up\n",
    "    else:\n",
    "        return spin_down\n",
    "    return jax.lax.cond(choice,up_func,down_func,0)\n",
    "\n",
    "\n",
    "\n",
    "\n",
    "rand_spin =  jax.vmap(choose_spin)(probs.T)\n",
    "rand_spin = rand_spin.T\n",
    "\n"
   ]
  },
  {
   "cell_type": "code",
   "execution_count": 140,
   "metadata": {},
   "outputs": [],
   "source": [
    "# create H\n",
    "\n",
    "J = 0.1\n",
    "\n",
    "H = jnp.zeros((2**N,2**N))\n",
    "\n",
    "initLattice = jnp.kron(sigma_z,sigma_z)\n",
    "for i in range(2,N):\n",
    "    initLattice = jnp.kron(initLattice,jnp.eye(2))\n",
    "\n",
    "H += - J * initLattice\n",
    "\n",
    "for lattice_point in range(1,N-1):\n",
    "    curr = jnp.eye(2)\n",
    "    for i in range(1,lattice_point):\n",
    "        curr = jnp.kron(curr,jnp.eye(2))\n",
    "    curr = jnp.kron( jnp.kron(curr,sigma_z),sigma_z)\n",
    "    for i in range(lattice_point+2,N):\n",
    "        curr = jnp.kron(curr,jnp.eye(2))\n",
    "    \n",
    "    assert curr.shape[0] == H.shape[0]\n",
    "    \n",
    "    H += -J * curr\n",
    "\n"
   ]
  },
  {
   "cell_type": "code",
   "execution_count": 141,
   "metadata": {},
   "outputs": [
    {
     "data": {
      "text/plain": [
       "DeviceArray([[-0.3]], dtype=float32)"
      ]
     },
     "execution_count": 141,
     "metadata": {},
     "output_type": "execute_result"
    }
   ],
   "source": [
    "\n",
    "x0 = jnp.zeros((2**N,1))\n",
    "x0  = x0.at[0].set(1)\n",
    "x0.T @ H @ x0"
   ]
  },
  {
   "cell_type": "code",
   "execution_count": 142,
   "metadata": {},
   "outputs": [
    {
     "data": {
      "text/plain": [
       "DeviceArray([[0.737398  ],\n",
       "             [0.5460452 ],\n",
       "             [0.05000734]], dtype=float32)"
      ]
     },
     "execution_count": 142,
     "metadata": {},
     "output_type": "execute_result"
    }
   ],
   "source": [
    "vec = random.uniform(key,(3,1))\n",
    "vec"
   ]
  },
  {
   "cell_type": "markdown",
   "metadata": {},
   "source": [
    "It holds that $\\det(e^{A}) = e^{Tr(A)}$. The trace of the parametric hermitian H should be vanishing to ensure the unitary has unit det."
   ]
  },
  {
   "cell_type": "code",
   "execution_count": null,
   "metadata": {},
   "outputs": [],
   "source": [
    "vec = random.uniform(key,(3,1))\n",
    "jnp.diag(vec[0:1,0],k=-1) + jnp.diag(vec[1:,0])\n",
    "\n",
    "\n",
    "vec = random.uniform(key,(6,1))\n",
    "jnp.diag(vec[0:1,0],k=-2) + jnp.diag(vec[1:3,0],k=-1) + jnp.diag(vec[3:,0])"
   ]
  },
  {
   "cell_type": "code",
   "execution_count": 159,
   "metadata": {},
   "outputs": [
    {
     "name": "stdout",
     "output_type": "stream",
     "text": [
      "[0.9809257  0.37119985 0.8251778 ]\n",
      "[ 0.1811248   0.13589895  0.7806554   0.8635284   0.2445842   0.051229\n",
      "  0.9615238   0.5502498   0.20359385  0.45245695  0.6299883   0.61170137\n",
      "  0.9809257   0.37119985  0.8251778  -2.1773033 ]\n",
      "[[ 0.981  0.     0.     0.   ]\n",
      " [ 0.     0.371  0.     0.   ]\n",
      " [ 0.     0.     0.825  0.   ]\n",
      " [ 0.     0.     0.    -2.177]]\n",
      "[[ 0.981+0.j     0.432-0.226j  0.068-0.275j  0.091-0.481j]\n",
      " [ 0.432+0.226j  0.371+0.j     0.122-0.315j  0.39 -0.102j]\n",
      " [ 0.068+0.275j  0.122+0.315j  0.825+0.j     0.026-0.306j]\n",
      " [ 0.091+0.481j  0.39 +0.102j  0.026+0.306j -2.177+0.j   ]]\n",
      "[[1.287+0.j    0.668-0.556j 0.11 -0.62j  0.457-0.32j ]\n",
      " [0.668+0.556j 0.66 +0.j    0.331-0.381j 0.194+0.296j]\n",
      " [0.11 +0.62j  0.331+0.381j 0.977+0.j    0.593+0.112j]\n",
      " [0.457+0.32j  0.194-0.296j 0.593-0.112j 3.841+0.j   ]]\n"
     ]
    },
    {
     "data": {
      "text/plain": [
       "DeviceArray(-0.07410514-0.19634284j, dtype=complex64)"
      ]
     },
     "execution_count": 159,
     "metadata": {},
     "output_type": "execute_result"
    }
   ],
   "source": [
    "#Converts unitary matrix to a vector of parameters (which parameterize the \n",
    "#unitary). This vector effectively parameterizes SU(4).\n",
    "\n",
    "#Unitary is V = exp(1i*B); B is Hermitian\n",
    "\n",
    "#jax.lax.scan()\n",
    "N=2\n",
    "\n",
    "mat_size = int(2**N)\n",
    "\n",
    "input = random.uniform(key,(1,mat_size**2-1))\n",
    "\n",
    "input = input[0,:]\n",
    "\n",
    "vec = jnp.append(input,-jnp.sum(input[-mat_size+1:]))\n",
    "print(input[-mat_size+1:])\n",
    "print(vec)\n",
    "h_mat = jnp.diag(vec[-mat_size:])\n",
    "\n",
    "\n",
    "with np.printoptions(precision=3, suppress=True):\n",
    "    print(h_mat)\n",
    "\n",
    "assert jnp.trace(h_mat) < 0.00001\n",
    "\n",
    "count = 0\n",
    "#real part\n",
    "for i in range(1,mat_size):\n",
    "    h_mat += jnp.diag(vec[count:count+i],k=-mat_size+i)\n",
    "    count += i\n",
    "\n",
    "#img part\n",
    "for i in range(1,mat_size):\n",
    "    h_mat += jnp.diag(1j * vec[count:count+i],k=-mat_size+i)\n",
    "    count += i\n",
    "\n",
    "h_mat = (h_mat.conjugate().T + h_mat)/2\n",
    "\n",
    "assert jnp.trace(h_mat) < 0.000001\n",
    "\n",
    "unitary = jnp.expm1(1j * h_mat)\n",
    "\n",
    "\n",
    "with np.printoptions(precision=3, suppress=True):\n",
    "    print(h_mat)\n",
    "\n",
    "I = unitary.conjugate().T @ unitary\n",
    "\n",
    "\n",
    "with np.printoptions(precision=3, suppress=True):\n",
    "    print(I)\n",
    "jnp.linalg.det(unitary)"
   ]
  },
  {
   "cell_type": "code",
   "execution_count": 118,
   "metadata": {},
   "outputs": [
    {
     "data": {
      "text/plain": [
       "DeviceArray([[0.9809257 -0.j        , 0.8635284 -0.45245695j,\n",
       "              0.13589895-0.9340702j , 0.1811248 -0.9615238j ],\n",
       "             [0.        -0.j        , 0.37119985-0.j        ,\n",
       "              0.2445842 -0.6299883j , 0.7806554 -0.20359385j],\n",
       "             [0.        -0.j        , 0.        -0.j        ,\n",
       "              0.8251778 -0.j        , 0.051229  -0.61170137j],\n",
       "             [0.        -0.j        , 0.        -0.j        ,\n",
       "              0.        -0.j        , 0.879974  -0.j        ]],            dtype=complex64)"
      ]
     },
     "execution_count": 118,
     "metadata": {},
     "output_type": "execute_result"
    }
   ],
   "source": [
    "h_mat.conjugate().T"
   ]
  },
  {
   "cell_type": "code",
   "execution_count": 35,
   "metadata": {},
   "outputs": [],
   "source": [
    "vec = np.random.rand(2,N)\n",
    "spins = vec/ np.vstack((np.linalg.norm(vec,axis=0),)*2)\n",
    "porb_up = spins[0,:] \n",
    "dist = np.prod()"
   ]
  },
  {
   "cell_type": "code",
   "execution_count": 25,
   "metadata": {},
   "outputs": [
    {
     "data": {
      "text/plain": [
       "(1024, 1024)"
      ]
     },
     "execution_count": 25,
     "metadata": {},
     "output_type": "execute_result"
    }
   ],
   "source": [
    "def bloch_to_rho(vec):\n",
    "    return (jnp.identity(2) + vec[0] * sigma_x + vec[1]  * sigma_y)/2\n",
    "\n",
    "def bloch_to_rho_prod(blochVecs):\n",
    "\n",
    "    rho_prod = bloch_to_rho(blochVecs[0,:])\n",
    "    for i in range(1,blochVecs.shape[-1]):\n",
    "        rho_prod = jnp.kron(rho_prod,bloch_to_rho(blochVecs[:,i]))\n",
    "    return rho_prod\n",
    "\n",
    "bloch_to_rho_prod(np.random.rand(2,10)).shape"
   ]
  },
  {
   "cell_type": "code",
   "execution_count": 27,
   "metadata": {},
   "outputs": [
    {
     "data": {
      "text/plain": [
       "DeviceArray([[-0.        , -0.        ],\n",
       "             [-0.        , -0.00684679]], dtype=float32)"
      ]
     },
     "execution_count": 27,
     "metadata": {},
     "output_type": "execute_result"
    }
   ],
   "source": [
    "\n",
    "Pr = (jnp.identity(2) - sigma_z)/2\n",
    "\n",
    "\n",
    "rho_prod = (1/(1 + jnp.exp(- beta*eps[0]))) * jnp.expm1(- beta* eps[0] * Pr)\n",
    "\n",
    "def rho_prod_sacn(carry,eps_r):\n",
    "    y = (1/(1 + jnp.exp(- beta*eps_r))) * jnp.expm1(- beta* eps_r * Pr)\n",
    "    return jnp.kron(carry,y),0\n",
    "\n",
    "\n",
    "\n",
    "for i in range(1,N):\n",
    "    eps_r = eps[i]\n",
    "    y = (1/(1 + jnp.exp(- beta*eps_r))) * jnp.expm1(- beta* eps_r * Pr)\n",
    "    rho_prod = jnp.kron(rho_prod,y)\n",
    "\n",
    "#jax.lax.scan(rho_prod_sacn,init,eps[1:])\n",
    "y\n",
    "\n"
   ]
  },
  {
   "cell_type": "code",
   "execution_count": 26,
   "metadata": {},
   "outputs": [
    {
     "data": {
      "text/plain": [
       "DeviceArray(1, dtype=int32)"
      ]
     },
     "execution_count": 26,
     "metadata": {},
     "output_type": "execute_result"
    }
   ],
   "source": [
    "jnp.sum(jnp.abs(rho_prod)>0)"
   ]
  },
  {
   "cell_type": "code",
   "execution_count": 33,
   "metadata": {},
   "outputs": [
    {
     "data": {
      "text/plain": [
       "array([0.30151134, 0.30151134, 0.        , 0.        , 0.30151134,\n",
       "       0.30151134, 0.30151134, 0.30151134, 0.30151134, 0.        ,\n",
       "       0.        , 0.30151134, 0.        , 0.30151134, 0.30151134,\n",
       "       0.        , 0.        , 0.30151134, 0.        , 0.        ])"
      ]
     },
     "execution_count": 33,
     "metadata": {},
     "output_type": "execute_result"
    }
   ],
   "source": [
    "np.outer(x,x.T) @ x"
   ]
  },
  {
   "cell_type": "code",
   "execution_count": null,
   "metadata": {},
   "outputs": [],
   "source": [
    "np.random( )"
   ]
  },
  {
   "cell_type": "code",
   "execution_count": null,
   "metadata": {},
   "outputs": [],
   "source": []
  }
 ],
 "metadata": {
  "interpreter": {
   "hash": "36afee8d73f0be074910fd17674c885b625534b3ac8612b11bd3e2193d90de45"
  },
  "kernelspec": {
   "display_name": "Python 3.8.6 64-bit ('base': conda)",
   "name": "python3"
  },
  "language_info": {
   "codemirror_mode": {
    "name": "ipython",
    "version": 3
   },
   "file_extension": ".py",
   "mimetype": "text/x-python",
   "name": "python",
   "nbconvert_exporter": "python",
   "pygments_lexer": "ipython3",
   "version": "3.8.6"
  },
  "orig_nbformat": 4
 },
 "nbformat": 4,
 "nbformat_minor": 2
}
