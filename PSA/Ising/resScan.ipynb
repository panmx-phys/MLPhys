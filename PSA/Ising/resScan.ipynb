{
 "cells": [
  {
   "cell_type": "code",
   "execution_count": 1,
   "metadata": {},
   "outputs": [
    {
     "name": "stderr",
     "output_type": "stream",
     "text": [
      "/Users/qwe/miniforge3/lib/python3.8/site-packages/jax/_src/lib/__init__.py:32: UserWarning: JAX on Mac ARM machines is experimental and minimally tested. Please see https://github.com/google/jax/issues/5501 in the event of problems.\n",
      "  warnings.warn(\"JAX on Mac ARM machines is experimental and minimally tested. \"\n",
      "WARNING:absl:No GPU/TPU found, falling back to CPU. (Set TF_CPP_MIN_LOG_LEVEL=0 and rerun for more info.)\n"
     ]
    }
   ],
   "source": [
    "import matplotlib.pyplot as plt\n",
    "import numpy as np\n",
    "import jax\n",
    "from isingScan import ising_opt\n",
    "import pickle\n",
    "from jax import random\n",
    "plt.style.use('ggplot')\n",
    "import datetime;\n"
   ]
  },
  {
   "cell_type": "code",
   "execution_count": 2,
   "metadata": {},
   "outputs": [
    {
     "name": "stderr",
     "output_type": "stream",
     "text": [
      "/Users/qwe/miniforge3/lib/python3.8/site-packages/jax/_src/numpy/lax_numpy.py:3601: ComplexWarning: Casting complex values to real discards the imaginary part\n",
      "  out = lax._convert_element_type(out, dtype, weak_type=weak_type)\n"
     ]
    },
    {
     "name": "stdout",
     "output_type": "stream",
     "text": [
      "10\n",
      "20\n",
      "30\n",
      "40\n",
      "50\n",
      "60\n",
      "70\n",
      "80\n",
      "90\n",
      "100\n"
     ]
    }
   ],
   "source": [
    "beta_scan = np.arange(0.01,10,step = 0.1)\n",
    "\n",
    "\n",
    "\n",
    "fullRes = np.zeros((beta_scan.size,2))\n",
    "dataPath = \"data/\"\n",
    "\n",
    "i = 1\n",
    "for beta in beta_scan:\n",
    "    if i % 10 == 0:\n",
    "        np.save(dataPath  +str(datetime.datetime.now())[:-10],fullRes)\n",
    "        print(i)\n",
    "    est, truth = ising_opt(beta,0.5,0.5)\n",
    "    fullRes[i-1,0] = est\n",
    "    fullRes[i-1,1] = truth\n",
    "    i+= 1"
   ]
  },
  {
   "cell_type": "code",
   "execution_count": 12,
   "metadata": {},
   "outputs": [],
   "source": [
    "beta_scan = np.arange(0.01,10,step = 0.01)\n",
    "\n",
    "res = [ising_opt(beta,0.5,0.5) for beta in beta_scan]"
   ]
  },
  {
   "cell_type": "code",
   "execution_count": null,
   "metadata": {},
   "outputs": [
    {
     "data": {
      "text/plain": [
       "(-3.4657469951805995, DeviceArray(-3.46833516-0.j, dtype=complex128))"
      ]
     },
     "execution_count": 3,
     "metadata": {},
     "output_type": "execute_result"
    }
   ],
   "source": [
    "\n",
    "filename = 'data/scan_result'\n",
    "outfile = open(filename,'wb')\n",
    "pickle.dump(res,outfile)\n",
    "outfile.close()"
   ]
  },
  {
   "cell_type": "code",
   "execution_count": 6,
   "metadata": {},
   "outputs": [
    {
     "data": {
      "text/plain": [
       "(-4.362130076851506, DeviceArray(-4.37015449-0.j, dtype=complex128))"
      ]
     },
     "execution_count": 6,
     "metadata": {},
     "output_type": "execute_result"
    }
   ],
   "source": [
    "ising_opt(1,0.5,0.5)"
   ]
  },
  {
   "cell_type": "code",
   "execution_count": 7,
   "metadata": {},
   "outputs": [
    {
     "data": {
      "text/plain": [
       "DeviceArray([0.57414442, 0.85663753], dtype=float64)"
      ]
     },
     "execution_count": 7,
     "metadata": {},
     "output_type": "execute_result"
    }
   ],
   "source": [
    "\n",
    "key = random.PRNGKey(42)\n",
    "eps = random.uniform(key,shape=(2,))\n",
    "eps\n"
   ]
  },
  {
   "cell_type": "code",
   "execution_count": 17,
   "metadata": {},
   "outputs": [
    {
     "data": {
      "text/plain": [
       "'2021-11-29 13:15'"
      ]
     },
     "execution_count": 17,
     "metadata": {},
     "output_type": "execute_result"
    }
   ],
   "source": [
    "str(datetime.datetime.now())[:-10]"
   ]
  },
  {
   "cell_type": "code",
   "execution_count": null,
   "metadata": {},
   "outputs": [],
   "source": []
  }
 ],
 "metadata": {
  "interpreter": {
   "hash": "880a427375ebf8b04afddfb4f48c6c6ca9969963e0262786f7b9dfb8d22529db"
  },
  "kernelspec": {
   "display_name": "Python 3.9.6 64-bit ('base': conda)",
   "language": "python",
   "name": "python3"
  },
  "language_info": {
   "codemirror_mode": {
    "name": "ipython",
    "version": 3
   },
   "file_extension": ".py",
   "mimetype": "text/x-python",
   "name": "python",
   "nbconvert_exporter": "python",
   "pygments_lexer": "ipython3",
   "version": "3.8.6"
  },
  "orig_nbformat": 4
 },
 "nbformat": 4,
 "nbformat_minor": 2
}
