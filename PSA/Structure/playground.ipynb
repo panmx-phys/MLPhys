{
 "cells": [
  {
   "cell_type": "code",
   "execution_count": 6,
   "metadata": {},
   "outputs": [],
   "source": [
    "import jax\n",
    "import jax.numpy as jnp\n",
    "import numpy as np\n",
    "from vec2Unitary import vec2Unitary\n",
    "from jax.config import config\n",
    "from jax.scipy.linalg import expm\n",
    "config.update(\"jax_enable_x64\", True)\n",
    "\n",
    "np.random.seed(1)\n",
    "\n",
    "def print_matrix(mat):\n",
    "    with np.printoptions(precision=3, suppress=True):\n",
    "        print(mat)\n",
    "\n",
    "def assert_equal(mat1,mat2,eps = 0.0000001):\n",
    "    assert jnp.sum((mat1-mat2)**2) < eps"
   ]
  },
  {
   "cell_type": "code",
   "execution_count": 7,
   "metadata": {},
   "outputs": [],
   "source": [
    "N = 4\n",
    "beta = 1\n",
    "J = 0.5\n",
    "h = 0.3\n",
    "layer_num = 4\n",
    "uniParas_num = layer_num * (2**(2*N)-1)\n",
    "\n",
    "sigma_z = jnp.array([[1,0],[0,-1]])\n",
    "sigma_x = jnp.array([[0,1],[1,0]])\n",
    "sigma_y = jnp.array([[0,1],[1,0]])\n",
    "\n",
    "spin = jnp.array([0,1])\n",
    "spin_up = jnp.array([[1],[0]])\n",
    "spin_down= jnp.array([[0],[1]])\n"
   ]
  },
  {
   "cell_type": "code",
   "execution_count": 8,
   "metadata": {},
   "outputs": [],
   "source": [
    "#def createH(J,h)\n",
    "\n",
    "H = jnp.zeros((2**N,2**N))\n",
    "\n",
    "initLattice = jnp.kron(sigma_z,sigma_z)\n",
    "for i in range(2,N):\n",
    "    initLattice = jnp.kron(initLattice,jnp.eye(2))\n",
    "\n",
    "H += - J * initLattice\n",
    "\n",
    "for lattice_point in range(1,N-1):\n",
    "    curr = jnp.eye(2)\n",
    "    for i in range(1,lattice_point):\n",
    "        curr = jnp.kron(curr,jnp.eye(2))\n",
    "    curr = jnp.kron( jnp.kron(curr,sigma_z),sigma_z)\n",
    "    for i in range(lattice_point+2,N):\n",
    "        curr = jnp.kron(curr,jnp.eye(2))\n",
    "    \n",
    "    assert curr.shape[0] == H.shape[0]\n",
    "    \n",
    "    H += -J * curr\n",
    "\n",
    "\n",
    "initLattice = sigma_x\n",
    "for i in range(1,N):\n",
    "    initLattice = jnp.kron(initLattice,jnp.eye(2))\n",
    "\n",
    "H += - h * initLattice\n",
    "\n",
    "for lattice_point in range(1,N-1):\n",
    "    curr = jnp.eye(2)\n",
    "    for i in range(1,lattice_point):\n",
    "        curr = jnp.kron(curr,jnp.eye(2))\n",
    "    curr = jnp.kron(curr,sigma_x)\n",
    "    for i in range(lattice_point+1,N):\n",
    "        curr = jnp.kron(curr,jnp.eye(2))\n",
    "    \n",
    "    assert curr.shape[0] == H.shape[0]\n",
    "    \n",
    "    H += -h * curr\n",
    "\n",
    "H = jnp.array(H,dtype=jnp.complex128)"
   ]
  },
  {
   "cell_type": "code",
   "execution_count": 9,
   "metadata": {},
   "outputs": [],
   "source": [
    "# prepare the ensemble basis\n",
    "\n",
    "formator = '{0:' + '0' + str(N)  +'b}'\n",
    "\n",
    "state_in_str = [formator.format(i) for i in range(2**N)]\n",
    "\n",
    "\n",
    "def state_to_vec(s):\n",
    "    # return a probability with the corresponding state\n",
    "    if s[0] == '1':\n",
    "        state = spin_up\n",
    "        state_mat = spin_up\n",
    "    else:\n",
    "        state = spin_down\n",
    "        state_mat = spin_down\n",
    "    \n",
    "    for curr in s[1:]:\n",
    "        if curr == '1':\n",
    "            state = jnp.kron(state,spin_up)\n",
    "            state_mat = jnp.hstack((state_mat,spin_up))\n",
    "        else:\n",
    "            state = jnp.kron(state,spin_down)\n",
    "            state_mat = jnp.hstack((state_mat,spin_down))\n",
    "    \n",
    "    return state,state_mat\n",
    "\n",
    "allstate = jnp.stack([state_to_vec(s)[0] for s in state_in_str])\n",
    "allstateMat = jnp.stack([state_to_vec(s)[1] for s in state_in_str])\n"
   ]
  },
  {
   "cell_type": "code",
   "execution_count": 17,
   "metadata": {},
   "outputs": [],
   "source": [
    "# Utilities\n",
    "\n",
    "@jax.jit\n",
    "def stateMat_to_prob(state_mat,probs):\n",
    "    prob_mat = jnp.multiply(probs,state_mat)\n",
    "    prob_state = prob_mat[0,:] + prob_mat[1,:]\n",
    "    return jnp.prod(prob_state)\n",
    "\n",
    "@jax.jit\n",
    "def build_ensemble(px,uni):\n",
    "    single = lambda p,state: p * uni @ jnp.outer(state,state) @  uni.conjugate().T\n",
    "    mats = jax.vmap(single,(0,0),0)(px,allstate)\n",
    "    return jnp.sum(mats, axis=0)\n",
    "\n",
    "@jax.jit\n",
    "def weighted_expected(operator,px):\n",
    "    single = lambda state: state.T @ operator @ state\n",
    "    expectedVs =  jax.vmap(single)(allstate)\n",
    "    res = jnp.sum(jnp.multiply(expectedVs[:,0,0],px))\n",
    "    return jnp.real(res)\n",
    "\n",
    "@jax.jit\n",
    "def mat_prod(carry,x):\n",
    "    return carry @ x ,0\n",
    "\n",
    "@jax.jit\n",
    "def unitary_prods(uniVec):\n",
    "    uniVec = uniVec.reshape((layer_num,(2**(2*N)-1)))\n",
    "    unis = jax.vmap(vec2Unitary,in_axes=(None,0))(N,uniVec)\n",
    "\n",
    "    res,_ = jax.lax.scan(mat_prod,jnp.eye(2**N,dtype=jnp.complex128),unis)\n",
    "    return res\n",
    "\n",
    "\n",
    "stateMat_to_prob_map = jax.vmap(stateMat_to_prob,(0,None),0)"
   ]
  },
  {
   "cell_type": "markdown",
   "metadata": {},
   "source": [
    "Free parameters initialization:"
   ]
  },
  {
   "cell_type": "code",
   "execution_count": 11,
   "metadata": {},
   "outputs": [],
   "source": [
    "eps = jnp.array(0.5 * np.random.rand(N))\n",
    "uniVec = jnp.array(np.random.rand(uniParas_num))\n",
    "paras = jnp.hstack((eps,uniVec))"
   ]
  },
  {
   "cell_type": "code",
   "execution_count": 12,
   "metadata": {},
   "outputs": [
    {
     "data": {
      "text/plain": [
       "(DeviceArray(-2.71075407, dtype=float64), (1024,))"
      ]
     },
     "execution_count": 12,
     "metadata": {},
     "output_type": "execute_result"
    }
   ],
   "source": [
    "def ising(paras):\n",
    "    eps = paras[:N]\n",
    "    uniVec = paras[N:]\n",
    "\n",
    "    p_down = 1/(1+jnp.exp(-beta * eps))\n",
    "    p_up = jnp.exp(-beta * eps)/(1+jnp.exp(-beta * eps))\n",
    "    probs = jnp.vstack((p_down,p_up))\n",
    "\n",
    "    px = stateMat_to_prob_map(allstateMat,probs)\n",
    "    unitary = unitary_prods(uniVec)\n",
    "    operator = unitary.conjugate().T @ H @ unitary\n",
    "\n",
    "    entropy = jnp.sum(jnp.multiply(px,jnp.log(px)))\n",
    "    loss = entropy + beta* weighted_expected(operator,px)\n",
    "    #print(entropy)\n",
    "    return loss\n",
    "\n",
    "\n",
    "\n",
    "\n",
    "ising(paras),jax.grad(ising)(paras).shape\n",
    "#ising(paras)\n",
    "\n"
   ]
  },
  {
   "cell_type": "code",
   "execution_count": 13,
   "metadata": {},
   "outputs": [
    {
     "name": "stdout",
     "output_type": "stream",
     "text": [
      "success: True \n",
      "niterations: 147 \n",
      "final loss: -3.2436713770210712\n"
     ]
    }
   ],
   "source": [
    "import scipy.optimize\n",
    "\n",
    "def value_and_grad_numpy(f):\n",
    "    def val_grad_f(*args):\n",
    "        value, grad = jax.value_and_grad(f)(*args)\n",
    "        return np.float64(value), np.array(grad,dtype=np.float64)\n",
    "    return val_grad_f\n",
    "results = scipy.optimize.minimize(value_and_grad_numpy(ising), np.array(paras,dtype=np.float64),\n",
    "                                  method='L-BFGS-B', jac=True)\n",
    "print(\"success:\", results.success, \"\\nniterations:\", results.nit, \"\\nfinal loss:\", results.fun)"
   ]
  },
  {
   "cell_type": "code",
   "execution_count": 50,
   "metadata": {},
   "outputs": [
    {
     "data": {
      "text/plain": [
       "DeviceArray(-3.25023374-0.j, dtype=complex128)"
      ]
     },
     "execution_count": 50,
     "metadata": {},
     "output_type": "execute_result"
    }
   ],
   "source": [
    "-jnp.log(jnp.trace(expm(- beta * H)))"
   ]
  },
  {
   "cell_type": "code",
   "execution_count": 15,
   "metadata": {},
   "outputs": [],
   "source": [
    "# get all inner stuff\n",
    "paras = jnp.array(results.x)\n",
    "\n",
    "eps = paras[:N]\n",
    "uniVec = paras[N:]\n",
    "\n",
    "p_down = 1/(1+jnp.exp(-beta * eps))\n",
    "p_up = jnp.exp(-beta * eps)/(1+jnp.exp(-beta * eps))\n",
    "probs = jnp.vstack((p_down,p_up))\n",
    "\n",
    "px = stateMat_to_prob_map(allstateMat,probs)\n",
    "unitary = unitary_prods(uniVec)\n",
    "operator = unitary.conjugate().T @ H @ unitary\n",
    "\n",
    "entropy = jnp.sum(jnp.multiply(px,jnp.log(px)))\n",
    "loss = entropy + beta* weighted_expected(operator,px)"
   ]
  },
  {
   "cell_type": "code",
   "execution_count": 60,
   "metadata": {},
   "outputs": [],
   "source": [
    "ensemble = build_ensemble(px,unitary)\n",
    "\n",
    "@jax.jit\n",
    "def absorbedState(allstate,unitary):\n",
    "    transUni = unitary.T.conjugate()\n",
    "    leftFun = lambda state: unitary @ state\n",
    "    rightFun = lambda state:  state.T @ transUni\n",
    "    res = jax.vmap(leftFun)(allstate)\n",
    "    return res\n",
    "\n",
    "mStates = absorbedState(allstate,unitary)"
   ]
  },
  {
   "cell_type": "code",
   "execution_count": 48,
   "metadata": {},
   "outputs": [
    {
     "data": {
      "text/plain": [
       "DeviceArray(1.01378431+0.j, dtype=complex128)"
      ]
     },
     "execution_count": 48,
     "metadata": {},
     "output_type": "execute_result"
    }
   ],
   "source": [
    "# trivial calculation\n",
    "\n",
    "energies = jnp.linalg.eig(H)[0]\n",
    "states = jnp.linalg.eig(H)[1]\n",
    "\n",
    "allSx = sigma_x.copy()\n",
    "for i in range(N-1):\n",
    "    allSx = jnp.kron(allSx,sigma_x)\n",
    "\n",
    "omega = 0.451\n",
    "sf = 0\n",
    "eps = 10e-3\n",
    "ops = allSx\n",
    "\n",
    "for m in range(2**N):\n",
    "    for m_p in range(2**N):\n",
    "\n",
    "        if (energies[m_p] - energies[m] - omega) > eps:\n",
    "            continue\n",
    "\n",
    "        elem = states[:,m_p].T.conjugate() @ ops @ states[:,m]\n",
    "\n",
    "        sf += jnp.exp(-energies[m_p] * beta) * elem * elem.conjugate()\n",
    "\n",
    "sf/jnp.trace(expm(- beta * H))"
   ]
  },
  {
   "cell_type": "code",
   "execution_count": 64,
   "metadata": {},
   "outputs": [
    {
     "data": {
      "text/plain": [
       "DeviceArray([0.    , 0.3199, 0.3952, 0.3953, 0.451 , 0.7152, 0.7709,\n",
       "             1.0351, 1.1662, 1.4861, 1.8814, 1.9371, 2.2013, 2.6523,\n",
       "             3.3675], dtype=float64)"
      ]
     },
     "execution_count": 64,
     "metadata": {},
     "output_type": "execute_result"
    }
   ],
   "source": [
    "\n",
    "# sum of the energies is 0\n",
    "jnp.sum(jnp.hstack([(allstate[i].T @ H @ allstate[i])[0] for i in range(2**N)]))\n",
    "\n",
    "es = []\n",
    "for m in range(2**N):\n",
    "    for m_p in range(2**N):\n",
    "\n",
    "        es += [energies[m_p] - energies[m]]\n",
    "uniqueEDeltas = jnp.unique(jnp.abs(jnp.array(es).round(decimals=4)))\n",
    "uniqueEDeltas"
   ]
  },
  {
   "cell_type": "code",
   "execution_count": 66,
   "metadata": {},
   "outputs": [
    {
     "data": {
      "text/plain": [
       "DeviceArray([[0.81563282-1.93746254e-17j]], dtype=complex128)"
      ]
     },
     "execution_count": 66,
     "metadata": {},
     "output_type": "execute_result"
    }
   ],
   "source": [
    "# estimation\n",
    "\n",
    "energies = [state.T.conjugate() @ H @ state for state in mStates]\n",
    "states = mStates\n",
    "\n",
    "sf = 0\n",
    "for m in range(2**N):\n",
    "    for m_p in range(2**N):\n",
    "\n",
    "        if (energies[m_p] - energies[m] - omega) > eps:\n",
    "            continue\n",
    "\n",
    "        elem = states[:,m_p].T.conjugate() @ ops @ states[:,m]\n",
    "\n",
    "        sf += jnp.exp(-energies[m_p] * beta) * elem * elem.conjugate() \n",
    "\n",
    "sf/jnp.exp(-loss)"
   ]
  },
  {
   "cell_type": "markdown",
   "metadata": {},
   "source": [
    "### Put it all together"
   ]
  },
  {
   "cell_type": "code",
   "execution_count": 97,
   "metadata": {},
   "outputs": [],
   "source": [
    "def strFactor(energies,states,omega,Z,ops):\n",
    "    eps = 10e-4\n",
    "    sf = 0\n",
    "    for m in range(2**N):\n",
    "        for m_p in range(2**N):\n",
    "            #print(omega,energies[m_p] - energies[m]- omega)\n",
    "            if (energies[m_p] - energies[m] - omega) > eps:\n",
    "                #print('jump')\n",
    "                continue\n",
    "\n",
    "            elem = states[:,m_p].T.conjugate() @ ops @ states[:,m]\n",
    "\n",
    "            sf += jnp.exp(-energies[m_p] * beta) * elem * elem.conjugate()\n",
    "\n",
    "    return np.real(sf/Z)"
   ]
  },
  {
   "cell_type": "code",
   "execution_count": 98,
   "metadata": {},
   "outputs": [],
   "source": [
    "exactEnergies = jnp.linalg.eig(H)[0]\n",
    "exactStates = jnp.linalg.eig(H)[1]\n",
    "\n",
    "estEnergies = [state.T.conjugate() @ H @ state for state in mStates]\n",
    "estStates = mStates\n",
    "\n",
    "exactZ =jnp.trace(expm(- beta * H))\n",
    "estZ = jnp.exp(-loss)\n",
    "\n",
    "allSx = sigma_x.copy()\n",
    "for i in range(N-1):\n",
    "    allSx = jnp.kron(allSx,sigma_x)\n",
    "\n",
    "exactSF = [strFactor(exactEnergies,exactStates,omega,exactZ,allSx) for omega in uniqueEDeltas]\n"
   ]
  },
  {
   "cell_type": "code",
   "execution_count": 99,
   "metadata": {},
   "outputs": [],
   "source": [
    "estSF = [strFactor(estEnergies,estStates,omega,estZ,allSx) for omega in uniqueEDeltas]"
   ]
  },
  {
   "cell_type": "code",
   "execution_count": 103,
   "metadata": {},
   "outputs": [
    {
     "data": {
      "text/plain": [
       "(array([1.01378431, 1.01378431, 1.01378431, 1.01378431, 1.01378431,\n",
       "        1.01378431, 1.01378431, 1.01378431, 1.01378431, 1.01378431,\n",
       "        1.01378431, 1.01378431, 1.01378431, 1.01378431, 1.01378431]),\n",
       " array([0.77684825, 0.80731117, 0.80958715, 0.80958715, 0.81563282,\n",
       "        0.8949174 , 0.91720312, 0.91832393, 0.97559712, 0.98328268,\n",
       "        0.98436404, 0.98468355, 0.99607126, 1.00609578, 1.00658384]))"
      ]
     },
     "execution_count": 103,
     "metadata": {},
     "output_type": "execute_result"
    }
   ],
   "source": [
    "#strFactor(exactEnergies,exactStates,omega,exactZ,allSx)\n",
    "np.array(exactSF),np.array(estSF).flatten()"
   ]
  },
  {
   "cell_type": "code",
   "execution_count": 30,
   "metadata": {},
   "outputs": [
    {
     "data": {
      "text/plain": [
       "DeviceArray([[0]], dtype=int64)"
      ]
     },
     "execution_count": 30,
     "metadata": {},
     "output_type": "execute_result"
    }
   ],
   "source": [
    "allstate[2].T @ allSx @ allstate[1]"
   ]
  },
  {
   "cell_type": "code",
   "execution_count": 40,
   "metadata": {},
   "outputs": [
    {
     "data": {
      "text/plain": [
       "DeviceArray([  0,   1,   2,   3,   4,   5,   6,   7,   8,   9,  10,  11,\n",
       "              12,  13,  14,  15,  16,  17,  18,  19,  20,  21,  22,  23,\n",
       "              24,  25,  26,  27,  28,  29,  30,  31,  32,  33,  34,  35,\n",
       "              36,  37,  38,  39,  40,  41,  42,  43,  44,  45,  46,  47,\n",
       "              48,  49,  50,  51,  52,  53,  54,  55,  56,  57,  58,  59,\n",
       "              60,  61,  62,  63,  64,  65,  66,  67,  68,  69,  70,  71,\n",
       "              72,  73,  74,  75,  76,  77,  78,  79,  80,  81,  82,  83,\n",
       "              84,  85,  86,  87,  88,  89,  90,  91,  92,  93,  94,  95,\n",
       "              96,  97,  98,  99, 100, 101, 102, 103, 104, 105, 106, 107,\n",
       "             108, 109, 110, 111, 112, 113, 114, 115, 116, 117, 118, 119,\n",
       "             120, 121, 122, 123, 124, 125, 126, 127], dtype=int64)"
      ]
     },
     "execution_count": 40,
     "metadata": {},
     "output_type": "execute_result"
    }
   ],
   "source": [
    "jnp.where(allSx != 0 )[0]"
   ]
  },
  {
   "cell_type": "code",
   "execution_count": 41,
   "metadata": {},
   "outputs": [
    {
     "data": {
      "text/plain": [
       "DeviceArray([[0, 0, 0, ..., 0, 0, 1],\n",
       "             [0, 0, 0, ..., 0, 1, 0],\n",
       "             [0, 0, 0, ..., 1, 0, 0],\n",
       "             ...,\n",
       "             [0, 0, 1, ..., 0, 0, 0],\n",
       "             [0, 1, 0, ..., 0, 0, 0],\n",
       "             [1, 0, 0, ..., 0, 0, 0]], dtype=int64)"
      ]
     },
     "execution_count": 41,
     "metadata": {},
     "output_type": "execute_result"
    }
   ],
   "source": []
  },
  {
   "cell_type": "code",
   "execution_count": null,
   "metadata": {},
   "outputs": [],
   "source": []
  }
 ],
 "metadata": {
  "interpreter": {
   "hash": "880a427375ebf8b04afddfb4f48c6c6ca9969963e0262786f7b9dfb8d22529db"
  },
  "kernelspec": {
   "display_name": "Python 3.9.6 64-bit ('base': conda)",
   "name": "python3"
  },
  "language_info": {
   "codemirror_mode": {
    "name": "ipython",
    "version": 3
   },
   "file_extension": ".py",
   "mimetype": "text/x-python",
   "name": "python",
   "nbconvert_exporter": "python",
   "pygments_lexer": "ipython3",
   "version": "3.8.6"
  },
  "orig_nbformat": 4
 },
 "nbformat": 4,
 "nbformat_minor": 2
}
