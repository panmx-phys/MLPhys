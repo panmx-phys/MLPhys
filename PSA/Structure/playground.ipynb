{
 "cells": [
  {
   "cell_type": "code",
   "execution_count": 1,
   "metadata": {},
   "outputs": [
    {
     "name": "stderr",
     "output_type": "stream",
     "text": [
      "/Users/qwe/miniforge3/lib/python3.8/site-packages/jax/_src/lib/__init__.py:32: UserWarning: JAX on Mac ARM machines is experimental and minimally tested. Please see https://github.com/google/jax/issues/5501 in the event of problems.\n",
      "  warnings.warn(\"JAX on Mac ARM machines is experimental and minimally tested. \"\n"
     ]
    }
   ],
   "source": [
    "import jax\n",
    "import jax.numpy as jnp\n",
    "import numpy as np\n",
    "from vec2Unitary import vec2Unitary\n",
    "from jax.config import config\n",
    "from jax.scipy.linalg import expm\n",
    "config.update(\"jax_enable_x64\", True)\n",
    "\n",
    "np.random.seed(1)\n",
    "\n",
    "def print_matrix(mat):\n",
    "    with np.printoptions(precision=3, suppress=True):\n",
    "        print(mat)\n",
    "\n",
    "def assert_equal(mat1,mat2,eps = 0.0000001):\n",
    "    assert jnp.sum((mat1-mat2)**2) < eps"
   ]
  },
  {
   "cell_type": "code",
   "execution_count": 2,
   "metadata": {},
   "outputs": [
    {
     "name": "stderr",
     "output_type": "stream",
     "text": [
      "WARNING:absl:No GPU/TPU found, falling back to CPU. (Set TF_CPP_MIN_LOG_LEVEL=0 and rerun for more info.)\n"
     ]
    }
   ],
   "source": [
    "N = 5\n",
    "beta = 1\n",
    "J = 0.5\n",
    "h = 0.3\n",
    "layer_num = 4\n",
    "uniParas_num = layer_num * (2**(2*N)-1)\n",
    "\n",
    "sigma_z = jnp.array([[1,0],[0,-1]])\n",
    "sigma_x = jnp.array([[0,1],[1,0]])\n",
    "sigma_y = jnp.array([[0,1],[1,0]])\n",
    "\n",
    "spin = jnp.array([0,1])\n",
    "spin_up = jnp.array([[1],[0]])\n",
    "spin_down= jnp.array([[0],[1]])\n"
   ]
  },
  {
   "cell_type": "code",
   "execution_count": 3,
   "metadata": {},
   "outputs": [],
   "source": [
    "#def createH(J,h)\n",
    "\n",
    "H = jnp.zeros((2**N,2**N))\n",
    "\n",
    "initLattice = jnp.kron(sigma_z,sigma_z)\n",
    "for i in range(2,N):\n",
    "    initLattice = jnp.kron(initLattice,jnp.eye(2))\n",
    "\n",
    "H += - J * initLattice\n",
    "\n",
    "for lattice_point in range(1,N-1):\n",
    "    curr = jnp.eye(2)\n",
    "    for i in range(1,lattice_point):\n",
    "        curr = jnp.kron(curr,jnp.eye(2))\n",
    "    curr = jnp.kron( jnp.kron(curr,sigma_z),sigma_z)\n",
    "    for i in range(lattice_point+2,N):\n",
    "        curr = jnp.kron(curr,jnp.eye(2))\n",
    "    \n",
    "    assert curr.shape[0] == H.shape[0]\n",
    "    \n",
    "    H += -J * curr\n",
    "\n",
    "\n",
    "initLattice = sigma_x\n",
    "for i in range(1,N):\n",
    "    initLattice = jnp.kron(initLattice,jnp.eye(2))\n",
    "\n",
    "H += - h * initLattice\n",
    "\n",
    "for lattice_point in range(1,N-1):\n",
    "    curr = jnp.eye(2)\n",
    "    for i in range(1,lattice_point):\n",
    "        curr = jnp.kron(curr,jnp.eye(2))\n",
    "    curr = jnp.kron(curr,sigma_x)\n",
    "    for i in range(lattice_point+1,N):\n",
    "        curr = jnp.kron(curr,jnp.eye(2))\n",
    "    \n",
    "    assert curr.shape[0] == H.shape[0]\n",
    "    \n",
    "    H += -h * curr\n",
    "\n",
    "H = jnp.array(H,dtype=jnp.complex128)"
   ]
  },
  {
   "cell_type": "code",
   "execution_count": 4,
   "metadata": {},
   "outputs": [],
   "source": [
    "# prepare the ensemble basis\n",
    "\n",
    "formator = '{0:' + '0' + str(N)  +'b}'\n",
    "\n",
    "state_in_str = [formator.format(i) for i in range(2**N)]\n",
    "\n",
    "\n",
    "def state_to_vec(s):\n",
    "    # return a probability with the corresponding state\n",
    "    if s[0] == '1':\n",
    "        state = spin_up\n",
    "        state_mat = spin_up\n",
    "    else:\n",
    "        state = spin_down\n",
    "        state_mat = spin_down\n",
    "    \n",
    "    for curr in s[1:]:\n",
    "        if curr == '1':\n",
    "            state = jnp.kron(state,spin_up)\n",
    "            state_mat = jnp.hstack((state_mat,spin_up))\n",
    "        else:\n",
    "            state = jnp.kron(state,spin_down)\n",
    "            state_mat = jnp.hstack((state_mat,spin_down))\n",
    "    \n",
    "    return state,state_mat\n",
    "\n",
    "allstate = jnp.stack([state_to_vec(s)[0] for s in state_in_str])\n",
    "allstateMat = jnp.stack([state_to_vec(s)[1] for s in state_in_str])\n"
   ]
  },
  {
   "cell_type": "code",
   "execution_count": 5,
   "metadata": {},
   "outputs": [],
   "source": [
    "# Utilities\n",
    "\n",
    "@jax.jit\n",
    "def stateMat_to_prob(state_mat,probs):\n",
    "    prob_mat = jnp.multiply(probs,state_mat)\n",
    "    prob_state = prob_mat[0,:] + prob_mat[1,:]\n",
    "    return jnp.prod(prob_state)\n",
    "\n",
    "@jax.jit\n",
    "def build_ensemble(px):\n",
    "    single = lambda p,state: p * jnp.outer(state,state)\n",
    "    mats = jax.vmap(single,(0,0),0)(px,allstate)\n",
    "    return jnp.sum(mats, axis=0)\n",
    "\n",
    "@jax.jit\n",
    "def weighted_expected(operator,px):\n",
    "    single = lambda state: state.T @ operator @ state\n",
    "    expectedVs =  jax.vmap(single)(allstate)\n",
    "    res = jnp.sum(jnp.multiply(expectedVs[:,0,0],px))\n",
    "    return jnp.real(res)\n",
    "\n",
    "@jax.jit\n",
    "def mat_prod(carry,x):\n",
    "    return carry @ x ,0\n",
    "\n",
    "@jax.jit\n",
    "def unitary_prods(uniVec):\n",
    "    uniVec = uniVec.reshape((layer_num,(2**(2*N)-1)))\n",
    "    unis = jax.vmap(vec2Unitary,in_axes=(None,0))(N,uniVec)\n",
    "\n",
    "    res,_ = jax.lax.scan(mat_prod,jnp.eye(2**N,dtype=jnp.complex128),unis)\n",
    "    return res\n",
    "\n",
    "\n",
    "stateMat_to_prob_map = jax.vmap(stateMat_to_prob,(0,None),0)"
   ]
  },
  {
   "cell_type": "markdown",
   "metadata": {},
   "source": [
    "Free parameters initialization:"
   ]
  },
  {
   "cell_type": "code",
   "execution_count": 6,
   "metadata": {},
   "outputs": [],
   "source": [
    "eps = jnp.array(0.5 * np.random.rand(N))\n",
    "uniVec = jnp.array(np.random.rand(uniParas_num))\n",
    "paras = jnp.hstack((eps,uniVec))"
   ]
  },
  {
   "cell_type": "code",
   "execution_count": 7,
   "metadata": {},
   "outputs": [
    {
     "data": {
      "text/plain": [
       "(DeviceArray(-3.41101604, dtype=float64), (4097,))"
      ]
     },
     "execution_count": 7,
     "metadata": {},
     "output_type": "execute_result"
    }
   ],
   "source": [
    "def ising(paras):\n",
    "    eps = paras[:N]\n",
    "    uniVec = paras[N:]\n",
    "\n",
    "    p_down = 1/(1+jnp.exp(-beta * eps))\n",
    "    p_up = jnp.exp(-beta * eps)/(1+jnp.exp(-beta * eps))\n",
    "    probs = jnp.vstack((p_down,p_up))\n",
    "\n",
    "    px = stateMat_to_prob_map(allstateMat,probs)\n",
    "    unitary = unitary_prods(uniVec)\n",
    "    operator = unitary.conjugate().T @ H @ unitary\n",
    "\n",
    "    entropy = jnp.sum(jnp.multiply(px,jnp.log(px)))\n",
    "    loss = entropy + beta* weighted_expected(operator,px)\n",
    "    #print(entropy)\n",
    "    return loss\n",
    "\n",
    "\n",
    "\n",
    "\n",
    "ising(paras),jax.grad(ising)(paras).shape\n",
    "#ising(paras)\n",
    "\n"
   ]
  },
  {
   "cell_type": "code",
   "execution_count": 8,
   "metadata": {},
   "outputs": [
    {
     "name": "stdout",
     "output_type": "stream",
     "text": [
      "success: True \n",
      "niterations: 786 \n",
      "final loss: -4.10161854794965\n"
     ]
    }
   ],
   "source": [
    "import scipy.optimize\n",
    "\n",
    "def value_and_grad_numpy(f):\n",
    "    def val_grad_f(*args):\n",
    "        value, grad = jax.value_and_grad(f)(*args)\n",
    "        return np.float64(value), np.array(grad,dtype=np.float64)\n",
    "    return val_grad_f\n",
    "results = scipy.optimize.minimize(value_and_grad_numpy(ising), np.array(paras,dtype=np.float64),\n",
    "                                  method='L-BFGS-B', jac=True)\n",
    "print(\"success:\", results.success, \"\\nniterations:\", results.nit, \"\\nfinal loss:\", results.fun)"
   ]
  },
  {
   "cell_type": "code",
   "execution_count": 9,
   "metadata": {},
   "outputs": [
    {
     "data": {
      "text/plain": [
       "DeviceArray(-4.10161988-0.j, dtype=complex128)"
      ]
     },
     "execution_count": 9,
     "metadata": {},
     "output_type": "execute_result"
    }
   ],
   "source": [
    "-jnp.log(jnp.trace(expm(- beta * H)))"
   ]
  },
  {
   "cell_type": "code",
   "execution_count": 10,
   "metadata": {},
   "outputs": [],
   "source": [
    "def exact_ising(J,h,beta):\n",
    "    inside1 = jnp.exp(beta * J) * jnp.cosh(beta*h) \n",
    "    inside2 = jnp.sqrt(jnp.exp(2*beta * J) * (jnp.sinh(beta*h)**2) + jnp.exp(-2*beta * J))\n",
    "\n",
    "    return - (1/beta) * jnp.log(inside1+inside2)"
   ]
  },
  {
   "cell_type": "code",
   "execution_count": 11,
   "metadata": {},
   "outputs": [
    {
     "data": {
      "text/plain": [
       "DeviceArray(0.02614691-1.05410334e-18j, dtype=complex128)"
      ]
     },
     "execution_count": 11,
     "metadata": {},
     "output_type": "execute_result"
    }
   ],
   "source": [
    "\n",
    "p_down = 1/(1+jnp.exp(-beta * eps))\n",
    "p_up = jnp.exp(-beta * eps)/(1+jnp.exp(-beta * eps))\n",
    "probs = jnp.vstack((p_down,p_up))\n",
    "px = stateMat_to_prob_map(allstateMat,probs)\n",
    "unitary = unitary_prods(uniVec)\n",
    "operator = unitary.conjugate().T @ H @ unitary\n",
    "\n",
    "entropy = jnp.sum(jnp.multiply(px,jnp.log(px)))\n",
    "#print_matrix(unitary.conjugate().T @ unitary)\n",
    "#operator[2:4,2:4]\n",
    "beta* weighted_expected(operator,px)\n",
    "single = lambda state: state.T @ operator @ state\n",
    "expectedVs =  jax.vmap(single)(allstate)\n",
    "res = jnp.sum(jnp.multiply(expectedVs[:,0,0],px))\n",
    "#print(expectedVs)r\n",
    "res\n"
   ]
  },
  {
   "cell_type": "code",
   "execution_count": null,
   "metadata": {},
   "outputs": [],
   "source": []
  }
 ],
 "metadata": {
  "interpreter": {
   "hash": "880a427375ebf8b04afddfb4f48c6c6ca9969963e0262786f7b9dfb8d22529db"
  },
  "kernelspec": {
   "display_name": "Python 3.9.6 64-bit ('base': conda)",
   "name": "python3"
  },
  "language_info": {
   "codemirror_mode": {
    "name": "ipython",
    "version": 3
   },
   "file_extension": ".py",
   "mimetype": "text/x-python",
   "name": "python",
   "nbconvert_exporter": "python",
   "pygments_lexer": "ipython3",
   "version": "3.8.6"
  },
  "orig_nbformat": 4
 },
 "nbformat": 4,
 "nbformat_minor": 2
}
