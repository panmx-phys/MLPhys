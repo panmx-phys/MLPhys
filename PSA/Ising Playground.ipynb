{
 "cells": [
  {
   "cell_type": "code",
   "execution_count": 2,
   "metadata": {},
   "outputs": [],
   "source": [
    "import jax\n",
    "import jax.numpy as jnp\n",
    "import numpy as np\n",
    "from jax import random\n",
    "\n",
    "key = random.PRNGKey(80)\n",
    "random.uniform(key)\n",
    "\n",
    "def print_matrix(mat):\n",
    "    with np.printoptions(precision=3, suppress=True):\n",
    "        print(mat)\n",
    "\n",
    "def assert_equal(mat1,mat2,eps = 0.0000001):\n",
    "    assert jnp.sum((mat1-mat2)**2) < eps"
   ]
  },
  {
   "cell_type": "code",
   "execution_count": 3,
   "metadata": {},
   "outputs": [
    {
     "data": {
      "text/plain": [
       "((4,), (4,))"
      ]
     },
     "execution_count": 3,
     "metadata": {},
     "output_type": "execute_result"
    }
   ],
   "source": [
    "np.random.seed(1)\n",
    "N = 4\n",
    "beta = 1\n",
    "\n",
    "sigma_z = jnp.array([[1,0],[0,-1]])\n",
    "sigma_x = jnp.array([[0,1],[1,0]])\n",
    "sigma_y = jnp.array([[0,1],[1,0]])\n",
    "\n",
    "# Generate x \n",
    "\n",
    "spin_choices = jnp.hstack(([[0],[1]],)*N)\n",
    "spin = jnp.array([0,1])\n",
    "spin_up = jnp.array([[1],[0]])\n",
    "spin_down= jnp.array([[0],[1]])\n",
    "\n",
    "epsilons = np.random.rand(2,N)\n",
    "eps = jnp.array(0.5 * np.random.rand(N))\n",
    "p_down = 1/(1+jnp.exp(-beta * eps))\n",
    "p_up = jnp.exp(-beta * eps)/(1+jnp.exp(-beta * eps))\n",
    "probs = jnp.vstack((p_down,p_up))\n",
    "\n",
    "\"\"\"\n",
    "def choose_spin(prob):\n",
    "    key = random.split()\n",
    "    choice = random.choice(key,spin,p=prob)\n",
    "    up_func = lambda x: spin_up\n",
    "    down_func = lambda x: spin_down\n",
    "    if choice == 0:\n",
    "        return spin_up\n",
    "    else:\n",
    "        return spin_down\n",
    "    return jax.lax.cond(choice,up_func,down_func,0)\n",
    "    rand_spin =  jax.vmap(choose_spin)(probs.T)\n",
    "    rand_spin = rand_spin.T\n",
    "\"\"\"\n",
    "p_down.shape,p_up.shape\n"
   ]
  },
  {
   "cell_type": "code",
   "execution_count": 4,
   "metadata": {},
   "outputs": [],
   "source": [
    "# create H\n",
    "\n",
    "J = 0.1\n",
    "\n",
    "H = jnp.zeros((2**N,2**N))\n",
    "\n",
    "initLattice = jnp.kron(sigma_z,sigma_z)\n",
    "for i in range(2,N):\n",
    "    initLattice = jnp.kron(initLattice,jnp.eye(2))\n",
    "\n",
    "H += - J * initLattice\n",
    "\n",
    "for lattice_point in range(1,N-1):\n",
    "    curr = jnp.eye(2)\n",
    "    for i in range(1,lattice_point):\n",
    "        curr = jnp.kron(curr,jnp.eye(2))\n",
    "    curr = jnp.kron( jnp.kron(curr,sigma_z),sigma_z)\n",
    "    for i in range(lattice_point+2,N):\n",
    "        curr = jnp.kron(curr,jnp.eye(2))\n",
    "    \n",
    "    assert curr.shape[0] == H.shape[0]\n",
    "    \n",
    "    H += -J * curr\n",
    "\n"
   ]
  },
  {
   "cell_type": "code",
   "execution_count": 5,
   "metadata": {},
   "outputs": [
    {
     "data": {
      "text/plain": [
       "DeviceArray([[-0.3]], dtype=float32)"
      ]
     },
     "execution_count": 5,
     "metadata": {},
     "output_type": "execute_result"
    }
   ],
   "source": [
    "\n",
    "x0 = jnp.zeros((2**N,1))\n",
    "x0  = x0.at[0].set(1)\n",
    "x0.T @ H @ x0"
   ]
  },
  {
   "cell_type": "code",
   "execution_count": 6,
   "metadata": {},
   "outputs": [
    {
     "data": {
      "text/plain": [
       "DeviceArray([[0.737398  ],\n",
       "             [0.5460452 ],\n",
       "             [0.05000734]], dtype=float32)"
      ]
     },
     "execution_count": 6,
     "metadata": {},
     "output_type": "execute_result"
    }
   ],
   "source": [
    "vec = random.uniform(key,(3,1))\n",
    "vec"
   ]
  },
  {
   "cell_type": "markdown",
   "metadata": {},
   "source": [
    "It holds that $\\det(e^{A}) = e^{Tr(A)}$. The trace of the parametric hermitian H should be vanishing to ensure the unitary has unit det."
   ]
  },
  {
   "cell_type": "code",
   "execution_count": 7,
   "metadata": {},
   "outputs": [
    {
     "data": {
      "text/plain": [
       "DeviceArray([[0.13638556, 0.        , 0.        ],\n",
       "             [0.07172787, 0.08502686, 0.        ],\n",
       "             [0.5093068 , 0.09822512, 0.8820245 ]], dtype=float32)"
      ]
     },
     "execution_count": 7,
     "metadata": {},
     "output_type": "execute_result"
    }
   ],
   "source": [
    "vec = random.uniform(key,(3,1))\n",
    "jnp.diag(vec[0:1,0],k=-1) + jnp.diag(vec[1:,0])\n",
    "\n",
    "\n",
    "vec = random.uniform(key,(6,1))\n",
    "jnp.diag(vec[0:1,0],k=-2) + jnp.diag(vec[1:3,0],k=-1) + jnp.diag(vec[3:,0])"
   ]
  },
  {
   "cell_type": "code",
   "execution_count": 8,
   "metadata": {},
   "outputs": [],
   "source": [
    "#Converts unitary matrix to a vector of parameters (which parameterize the \n",
    "#unitary). This vector effectively parameterizes SU(4).\n",
    "\n",
    "#Unitary is V = exp(1i*B); B is Hermitian\n",
    "\n",
    "\n",
    "mat_size = int(2**N)\n",
    "\n",
    "input = random.uniform(key,(1,mat_size**2-1))\n",
    "\n",
    "input = input[0,:]\n",
    "\n",
    "vec = jnp.append(input,-jnp.sum(input[-mat_size+1:]))\n",
    "\n",
    "h_mat = jnp.diag(vec[-mat_size:])\n",
    "\n",
    "assert jnp.trace(h_mat) < 0.00001\n",
    "\n",
    "count = 0\n",
    "#real part\n",
    "for i in range(1,mat_size):\n",
    "    h_mat += jnp.diag(vec[count:count+i],k=-mat_size+i)\n",
    "    count += i\n",
    "\n",
    "#img part\n",
    "for i in range(1,mat_size):\n",
    "    h_mat += jnp.diag(1j * vec[count:count+i],k=-mat_size+i)\n",
    "    count += i\n",
    "\n",
    "h_mat = (h_mat.conjugate().T + h_mat)/2\n",
    "\n",
    "assert jnp.trace(h_mat) < 0.000001\n",
    "assert_equal(h_mat,h_mat.conjugate().T)\n",
    "\n",
    "unitary = jax.scipy.linalg.expm(1j * h_mat)\n",
    "\n",
    "\n",
    "assert_equal(unitary.conjugate().T @ unitary,jnp.eye(mat_size))\n"
   ]
  },
  {
   "cell_type": "code",
   "execution_count": 9,
   "metadata": {},
   "outputs": [
    {
     "data": {
      "text/plain": [
       "DeviceArray(1., dtype=float32)"
      ]
     },
     "execution_count": 9,
     "metadata": {},
     "output_type": "execute_result"
    }
   ],
   "source": [
    "# prepare the ensemble\n",
    "\n",
    "formator = '{0:' + '0' + str(N)  +'b}'\n",
    "\n",
    "state_in_str = [formator.format(i) for i in range(2**N)]\n",
    "\n",
    "\n",
    "def state_to_vec(s):\n",
    "    # return a probability with the corresponding state\n",
    "    if s[0] == '1':\n",
    "        state = spin_up\n",
    "        state_mat = spin_up\n",
    "    else:\n",
    "        state = spin_down\n",
    "        state_mat = spin_down\n",
    "    \n",
    "    for curr in s[1:]:\n",
    "        if curr == '1':\n",
    "            state = jnp.kron(state,spin_up)\n",
    "            state_mat = jnp.hstack((state_mat,spin_up))\n",
    "        else:\n",
    "            state = jnp.kron(state,spin_down)\n",
    "            state_mat = jnp.hstack((state_mat,spin_down))\n",
    "    \n",
    "    return state,state_mat\n",
    "\n",
    "allstate = [state_to_vec(s)[0] for s in state_in_str]\n",
    "allstateMat = [state_to_vec(s)[1] for s in state_in_str]\n",
    "#jnp.hstack(tuple(allstate)),state_in_str\n",
    "\n",
    "\n",
    "def stateMat_to_prob(state_mat):\n",
    "    prob_mat = jnp.multiply(probs,state_mat)\n",
    "    prob = prob_mat[0,:] + prob_mat[1,:]\n",
    "    return jnp.prod(prob)\n",
    "\n",
    "allprobs = jnp.hstack((stateMat_to_prob(mat) for mat in allstateMat))\n",
    "\n",
    "jnp.sum(allprobs)\n",
    "\n",
    "\n"
   ]
  },
  {
   "cell_type": "code",
   "execution_count": 27,
   "metadata": {},
   "outputs": [
    {
     "data": {
      "text/plain": [
       "DeviceArray([[0, 0, 0, 0, 0, 0, 0, 0, 0, 0, 0, 0, 0, 0, 0, 0],\n",
       "             [0, 0, 0, 0, 0, 0, 0, 0, 0, 0, 0, 0, 0, 0, 0, 0],\n",
       "             [0, 0, 0, 0, 0, 0, 0, 0, 0, 0, 0, 0, 0, 0, 0, 0],\n",
       "             [0, 0, 0, 0, 0, 0, 0, 0, 0, 0, 0, 0, 0, 0, 0, 0],\n",
       "             [0, 0, 0, 0, 0, 0, 0, 0, 0, 0, 0, 0, 0, 0, 0, 0],\n",
       "             [0, 0, 0, 0, 0, 0, 0, 0, 0, 0, 0, 0, 0, 0, 0, 0],\n",
       "             [0, 0, 0, 0, 0, 0, 0, 0, 0, 0, 0, 0, 0, 0, 0, 0],\n",
       "             [0, 0, 0, 0, 0, 0, 0, 0, 0, 0, 0, 0, 0, 0, 0, 0],\n",
       "             [0, 0, 0, 0, 0, 0, 0, 0, 0, 0, 0, 0, 0, 0, 0, 0],\n",
       "             [0, 0, 0, 0, 0, 0, 0, 0, 0, 0, 0, 0, 0, 0, 0, 0],\n",
       "             [0, 0, 0, 0, 0, 0, 0, 0, 0, 0, 0, 0, 0, 0, 0, 0],\n",
       "             [0, 0, 0, 0, 0, 0, 0, 0, 0, 0, 0, 0, 0, 0, 0, 0],\n",
       "             [0, 0, 0, 0, 0, 0, 0, 0, 0, 0, 0, 0, 0, 0, 0, 0],\n",
       "             [0, 0, 0, 0, 0, 0, 0, 0, 0, 0, 0, 0, 0, 0, 0, 0],\n",
       "             [0, 0, 0, 0, 0, 0, 0, 0, 0, 0, 0, 0, 0, 0, 1, 0],\n",
       "             [0, 0, 0, 0, 0, 0, 0, 0, 0, 0, 0, 0, 0, 0, 0, 0]],            dtype=int32)"
      ]
     },
     "execution_count": 27,
     "metadata": {},
     "output_type": "execute_result"
    }
   ],
   "source": []
  },
  {
   "cell_type": "code",
   "execution_count": 9,
   "metadata": {},
   "outputs": [
    {
     "ename": "TypeError",
     "evalue": "_prod_dispatcher() missing 1 required positional argument: 'a'",
     "output_type": "error",
     "traceback": [
      "\u001b[0;31m---------------------------------------------------------------------------\u001b[0m",
      "\u001b[0;31mTypeError\u001b[0m                                 Traceback (most recent call last)",
      "\u001b[0;32m/var/folders/2_/8rs1gbh95pd73jb7n34phc980000gn/T/ipykernel_10703/1857836621.py\u001b[0m in \u001b[0;36m<module>\u001b[0;34m\u001b[0m\n\u001b[1;32m      2\u001b[0m \u001b[0mspins\u001b[0m \u001b[0;34m=\u001b[0m \u001b[0mvec\u001b[0m\u001b[0;34m/\u001b[0m \u001b[0mnp\u001b[0m\u001b[0;34m.\u001b[0m\u001b[0mvstack\u001b[0m\u001b[0;34m(\u001b[0m\u001b[0;34m(\u001b[0m\u001b[0mnp\u001b[0m\u001b[0;34m.\u001b[0m\u001b[0mlinalg\u001b[0m\u001b[0;34m.\u001b[0m\u001b[0mnorm\u001b[0m\u001b[0;34m(\u001b[0m\u001b[0mvec\u001b[0m\u001b[0;34m,\u001b[0m\u001b[0maxis\u001b[0m\u001b[0;34m=\u001b[0m\u001b[0;36m0\u001b[0m\u001b[0;34m)\u001b[0m\u001b[0;34m,\u001b[0m\u001b[0;34m)\u001b[0m\u001b[0;34m*\u001b[0m\u001b[0;36m2\u001b[0m\u001b[0;34m)\u001b[0m\u001b[0;34m\u001b[0m\u001b[0;34m\u001b[0m\u001b[0m\n\u001b[1;32m      3\u001b[0m \u001b[0mporb_up\u001b[0m \u001b[0;34m=\u001b[0m \u001b[0mspins\u001b[0m\u001b[0;34m[\u001b[0m\u001b[0;36m0\u001b[0m\u001b[0;34m,\u001b[0m\u001b[0;34m:\u001b[0m\u001b[0;34m]\u001b[0m\u001b[0;34m\u001b[0m\u001b[0;34m\u001b[0m\u001b[0m\n\u001b[0;32m----> 4\u001b[0;31m \u001b[0mdist\u001b[0m \u001b[0;34m=\u001b[0m \u001b[0mnp\u001b[0m\u001b[0;34m.\u001b[0m\u001b[0mprod\u001b[0m\u001b[0;34m(\u001b[0m\u001b[0;34m)\u001b[0m\u001b[0;34m\u001b[0m\u001b[0;34m\u001b[0m\u001b[0m\n\u001b[0m",
      "\u001b[0;32m<__array_function__ internals>\u001b[0m in \u001b[0;36mprod\u001b[0;34m(*args, **kwargs)\u001b[0m\n",
      "\u001b[0;31mTypeError\u001b[0m: _prod_dispatcher() missing 1 required positional argument: 'a'"
     ]
    }
   ],
   "source": [
    "vec = np.random.rand(2,N)\n",
    "spins = vec/ np.vstack((np.linalg.norm(vec,axis=0),)*2)\n",
    "porb_up = spins[0,:] \n",
    "dist = np.prod()"
   ]
  },
  {
   "cell_type": "code",
   "execution_count": 25,
   "metadata": {},
   "outputs": [
    {
     "data": {
      "text/plain": [
       "(1024, 1024)"
      ]
     },
     "execution_count": 25,
     "metadata": {},
     "output_type": "execute_result"
    }
   ],
   "source": [
    "def bloch_to_rho(vec):\n",
    "    return (jnp.identity(2) + vec[0] * sigma_x + vec[1]  * sigma_y)/2\n",
    "\n",
    "def bloch_to_rho_prod(blochVecs):\n",
    "\n",
    "    rho_prod = bloch_to_rho(blochVecs[0,:])\n",
    "    for i in range(1,blochVecs.shape[-1]):\n",
    "        rho_prod = jnp.kron(rho_prod,bloch_to_rho(blochVecs[:,i]))\n",
    "    return rho_prod\n",
    "\n",
    "bloch_to_rho_prod(np.random.rand(2,10)).shape"
   ]
  },
  {
   "cell_type": "code",
   "execution_count": 27,
   "metadata": {},
   "outputs": [
    {
     "data": {
      "text/plain": [
       "DeviceArray([[-0.        , -0.        ],\n",
       "             [-0.        , -0.00684679]], dtype=float32)"
      ]
     },
     "execution_count": 27,
     "metadata": {},
     "output_type": "execute_result"
    }
   ],
   "source": [
    "\n",
    "Pr = (jnp.identity(2) - sigma_z)/2\n",
    "\n",
    "\n",
    "rho_prod = (1/(1 + jnp.exp(- beta*eps[0]))) * jnp.expm1(- beta* eps[0] * Pr)\n",
    "\n",
    "def rho_prod_sacn(carry,eps_r):\n",
    "    y = (1/(1 + jnp.exp(- beta*eps_r))) * jnp.expm1(- beta* eps_r * Pr)\n",
    "    return jnp.kron(carry,y),0\n",
    "\n",
    "\n",
    "\n",
    "for i in range(1,N):\n",
    "    eps_r = eps[i]\n",
    "    y = (1/(1 + jnp.exp(- beta*eps_r))) * jnp.expm1(- beta* eps_r * Pr)\n",
    "    rho_prod = jnp.kron(rho_prod,y)\n",
    "\n",
    "#jax.lax.scan(rho_prod_sacn,init,eps[1:])\n",
    "y\n",
    "\n"
   ]
  },
  {
   "cell_type": "code",
   "execution_count": 26,
   "metadata": {},
   "outputs": [
    {
     "data": {
      "text/plain": [
       "DeviceArray(1, dtype=int32)"
      ]
     },
     "execution_count": 26,
     "metadata": {},
     "output_type": "execute_result"
    }
   ],
   "source": [
    "jnp.sum(jnp.abs(rho_prod)>0)"
   ]
  },
  {
   "cell_type": "code",
   "execution_count": 33,
   "metadata": {},
   "outputs": [
    {
     "data": {
      "text/plain": [
       "array([0.30151134, 0.30151134, 0.        , 0.        , 0.30151134,\n",
       "       0.30151134, 0.30151134, 0.30151134, 0.30151134, 0.        ,\n",
       "       0.        , 0.30151134, 0.        , 0.30151134, 0.30151134,\n",
       "       0.        , 0.        , 0.30151134, 0.        , 0.        ])"
      ]
     },
     "execution_count": 33,
     "metadata": {},
     "output_type": "execute_result"
    }
   ],
   "source": [
    "np.outer(x,x.T) @ x"
   ]
  },
  {
   "cell_type": "code",
   "execution_count": null,
   "metadata": {},
   "outputs": [],
   "source": [
    "np.random( )"
   ]
  },
  {
   "cell_type": "code",
   "execution_count": null,
   "metadata": {},
   "outputs": [],
   "source": []
  }
 ],
 "metadata": {
  "interpreter": {
   "hash": "880a427375ebf8b04afddfb4f48c6c6ca9969963e0262786f7b9dfb8d22529db"
  },
  "kernelspec": {
   "display_name": "Python 3.9.6 64-bit ('base': conda)",
   "name": "python3"
  },
  "language_info": {
   "codemirror_mode": {
    "name": "ipython",
    "version": 3
   },
   "file_extension": ".py",
   "mimetype": "text/x-python",
   "name": "python",
   "nbconvert_exporter": "python",
   "pygments_lexer": "ipython3",
   "version": "3.8.6"
  },
  "orig_nbformat": 4
 },
 "nbformat": 4,
 "nbformat_minor": 2
}
